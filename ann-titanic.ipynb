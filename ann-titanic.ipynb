{
 "cells": [
  {
   "cell_type": "code",
   "execution_count": 1,
   "metadata": {
    "cell_id": "00000-0ce0d198-3a94-4314-b0b1-03c454e60678",
    "deepnote_cell_type": "code",
    "deepnote_to_be_reexecuted": false,
    "executionInfo": {
     "elapsed": 633,
     "status": "ok",
     "timestamp": 1620115762235,
     "user": {
      "displayName": "Etienne ROSEAU",
      "photoUrl": "",
      "userId": "01574266322609413673"
     },
     "user_tz": -120
    },
    "execution_millis": 14226,
    "execution_start": 1620123911210,
    "id": "rgeZmy6YGuHm",
    "source_hash": "1bdccad6"
   },
   "outputs": [
    {
     "name": "stdout",
     "output_type": "stream",
     "text": [
      "Collecting git+https://github.com/tensorflow/docs\n",
      "  Cloning https://github.com/tensorflow/docs to /tmp/pip-req-build-8der17da\n",
      "  Running command git clone -q https://github.com/tensorflow/docs /tmp/pip-req-build-8der17da\n",
      "Requirement already satisfied: astor in /usr/local/lib/python3.7/site-packages (from tensorflow-docs===0.0.07709fc2909067eb0f213c262669e4c54299ff5d4-) (0.8.1)\n",
      "Requirement already satisfied: absl-py in /shared-libs/python3.7/py/lib/python3.7/site-packages (from tensorflow-docs===0.0.07709fc2909067eb0f213c262669e4c54299ff5d4-) (0.12.0)\n",
      "Requirement already satisfied: protobuf>=3.14 in /shared-libs/python3.7/py/lib/python3.7/site-packages (from tensorflow-docs===0.0.07709fc2909067eb0f213c262669e4c54299ff5d4-) (3.15.8)\n",
      "Requirement already satisfied: pyyaml in /shared-libs/python3.7/py/lib/python3.7/site-packages (from tensorflow-docs===0.0.07709fc2909067eb0f213c262669e4c54299ff5d4-) (5.4.1)\n",
      "Requirement already satisfied: six>=1.9 in /shared-libs/python3.7/py-core/lib/python3.7/site-packages (from protobuf>=3.14->tensorflow-docs===0.0.07709fc2909067eb0f213c262669e4c54299ff5d4-) (1.15.0)\n",
      "\u001b[33mWARNING: You are using pip version 21.0.1; however, version 21.1.1 is available.\n",
      "You should consider upgrading via the '/root/venv/bin/python -m pip install --upgrade pip' command.\u001b[0m\n"
     ]
    }
   ],
   "source": [
    "!pip install git+https://github.com/tensorflow/docs"
   ]
  },
  {
   "cell_type": "code",
   "execution_count": 1,
   "metadata": {
    "cell_id": "00002-5c45ef70-2812-4a4f-bd88-5bbc7e606963",
    "deepnote_cell_type": "code",
    "deepnote_to_be_reexecuted": false,
    "executionInfo": {
     "elapsed": 409,
     "status": "ok",
     "timestamp": 1620115766472,
     "user": {
      "displayName": "Etienne ROSEAU",
      "photoUrl": "",
      "userId": "01574266322609413673"
     },
     "user_tz": -120
    },
    "execution_millis": 12834,
    "execution_start": 1620123925439,
    "id": "u9WVA8s4G20D",
    "source_hash": "9adb3d3a"
   },
   "outputs": [],
   "source": [
    "# coding : utf-8\n",
    "import tensorflow as tf\n",
    "tf.__version__\n",
    "from tensorflow import keras\n",
    "from tensorflow.keras import layers\n",
    "import numpy as np\n",
    "from sklearn import preprocessing\n",
    "from sklearn.model_selection import train_test_split\n",
    "from keras.models import Sequential\n",
    "import tensorflow_docs as tfdocs\n",
    "import tensorflow_docs.plots\n",
    "import tensorflow_docs.modeling\n",
    "from keras.layers import Dense\n",
    "from tensorflow.keras import layers\n",
    "from sklearn.preprocessing import MinMaxScaler    \n",
    "from sklearn.metrics import confusion_matrix\n",
    "import pandas as pd\n"
   ]
  },
  {
   "cell_type": "code",
   "execution_count": 3,
   "metadata": {
    "cell_id": "00003-bc6a8505-abc8-45b2-a6a6-cb3da1f130a3",
    "colab": {
     "base_uri": "https://localhost:8080/"
    },
    "deepnote_cell_type": "code",
    "deepnote_to_be_reexecuted": false,
    "executionInfo": {
     "elapsed": 1596,
     "status": "ok",
     "timestamp": 1620115772907,
     "user": {
      "displayName": "Etienne ROSEAU",
      "photoUrl": "",
      "userId": "01574266322609413673"
     },
     "user_tz": -120
    },
    "execution_millis": 44,
    "execution_start": 1620123938276,
    "id": "bhXMWCogKHjl",
    "outputId": "06d39f5b-eead-4dc5-9d14-4dc1af3aed0b",
    "source_hash": "81011bba"
   },
   "outputs": [
    {
     "name": "stdout",
     "output_type": "stream",
     "text": [
      "Architecture:        x86_64\n",
      "CPU op-mode(s):      32-bit, 64-bit\n",
      "Byte Order:          Little Endian\n",
      "Address sizes:       46 bits physical, 48 bits virtual\n",
      "CPU(s):              4\n",
      "On-line CPU(s) list: 0-3\n",
      "Thread(s) per core:  2\n",
      "Core(s) per socket:  2\n",
      "Socket(s):           1\n",
      "NUMA node(s):        1\n",
      "Vendor ID:           GenuineIntel\n",
      "CPU family:          6\n",
      "Model:               85\n",
      "Model name:          Intel(R) Xeon(R) Platinum 8259CL CPU @ 2.50GHz\n",
      "Stepping:            7\n",
      "CPU MHz:             3100.222\n",
      "BogoMIPS:            4999.99\n",
      "Hypervisor vendor:   KVM\n",
      "Virtualization type: full\n",
      "L1d cache:           32K\n",
      "L1i cache:           32K\n",
      "L2 cache:            1024K\n",
      "L3 cache:            36608K\n",
      "NUMA node0 CPU(s):   0-3\n",
      "Flags:               fpu vme de pse tsc msr pae mce cx8 apic sep mtrr pge mca cmov pat pse36 clflush mmx fxsr sse sse2 ss ht syscall nx pdpe1gb rdtscp lm constant_tsc rep_good nopl xtopology nonstop_tsc cpuid aperfmperf tsc_known_freq pni pclmulqdq ssse3 fma cx16 pcid sse4_1 sse4_2 x2apic movbe popcnt tsc_deadline_timer aes xsave avx f16c rdrand hypervisor lahf_lm abm 3dnowprefetch invpcid_single pti fsgsbase tsc_adjust bmi1 avx2 smep bmi2 erms invpcid mpx avx512f avx512dq rdseed adx smap clflushopt clwb avx512cd avx512bw avx512vl xsaveopt xsavec xgetbv1 xsaves ida arat pku ospke\n"
     ]
    }
   ],
   "source": [
    "%%sh\n",
    "lscpu"
   ]
  },
  {
   "cell_type": "code",
   "execution_count": 4,
   "metadata": {
    "cell_id": "00004-0c680e3e-1b04-4963-ab89-4772170e52cb",
    "deepnote_cell_type": "code",
    "deepnote_to_be_reexecuted": false,
    "execution_millis": 207,
    "execution_start": 1620123938323,
    "id": "tQa9dSfVI-p6",
    "source_hash": "dbb54963"
   },
   "outputs": [],
   "source": [
    "\n",
    "columns = ['age','workclass','fnlwgt','education','education-num','marital-status', 'occupation', 'race', 'relationship', 'sex', 'capital-gain', 'capital-loss', 'hours-per-week', 'native-country', 'label']\n",
    "data = pd.read_csv('./adult.data.csv', names=columns)\n"
   ]
  },
  {
   "cell_type": "code",
   "execution_count": 5,
   "metadata": {
    "cell_id": "00005-75759abb-a801-413a-a280-8a6538fcf135",
    "colab": {
     "base_uri": "https://localhost:8080/",
     "height": 292
    },
    "deepnote_cell_type": "code",
    "deepnote_to_be_reexecuted": false,
    "executionInfo": {
     "elapsed": 9996,
     "status": "ok",
     "timestamp": 1619788600871,
     "user": {
      "displayName": "Etienne ROSEAU",
      "photoUrl": "",
      "userId": "01574266322609413673"
     },
     "user_tz": -120
    },
    "execution_millis": 58,
    "execution_start": 1620123938577,
    "id": "UWzZoPD5K-qF",
    "outputId": "35550789-cb9c-4e1e-d058-67488b5e3764",
    "source_hash": "9a10eb86"
   },
   "outputs": [
    {
     "data": {
      "application/vnd.deepnote.dataframe.v2+json": {
       "column_count": 15,
       "columns": [
        {
         "dtype": "int64",
         "name": "age",
         "stats": {
          "histogram": [
           {
            "bin_end": 25.6,
            "bin_start": 22,
            "count": 1
           },
           {
            "bin_end": 29.2,
            "bin_start": 25.6,
            "count": 1
           },
           {
            "bin_end": 32.8,
            "bin_start": 29.2,
            "count": 0
           },
           {
            "bin_end": 36.4,
            "bin_start": 32.8,
            "count": 0
           },
           {
            "bin_end": 40,
            "bin_start": 36.4,
            "count": 0
           },
           {
            "bin_end": 43.6,
            "bin_start": 40,
            "count": 1
           },
           {
            "bin_end": 47.2,
            "bin_start": 43.6,
            "count": 0
           },
           {
            "bin_end": 50.8,
            "bin_start": 47.2,
            "count": 0
           },
           {
            "bin_end": 54.4,
            "bin_start": 50.8,
            "count": 1
           },
           {
            "bin_end": 58,
            "bin_start": 54.4,
            "count": 1
           }
          ],
          "max": "58",
          "min": "22",
          "nan_count": 0,
          "unique_count": 5
         }
        },
        {
         "dtype": "object",
         "name": "workclass",
         "stats": {
          "categories": [
           {
            "count": 4,
            "name": " Private"
           },
           {
            "count": 1,
            "name": " Self-emp-inc"
           }
          ],
          "nan_count": 0,
          "unique_count": 2
         }
        },
        {
         "dtype": "int64",
         "name": "fnlwgt",
         "stats": {
          "histogram": [
           {
            "bin_end": 165511.7,
            "bin_start": 151910,
            "count": 2
           },
           {
            "bin_end": 179113.4,
            "bin_start": 165511.7,
            "count": 0
           },
           {
            "bin_end": 192715.1,
            "bin_start": 179113.4,
            "count": 0
           },
           {
            "bin_end": 206316.8,
            "bin_start": 192715.1,
            "count": 1
           },
           {
            "bin_end": 219918.5,
            "bin_start": 206316.8,
            "count": 0
           },
           {
            "bin_end": 233520.2,
            "bin_start": 219918.5,
            "count": 0
           },
           {
            "bin_end": 247121.90000000002,
            "bin_start": 233520.2,
            "count": 0
           },
           {
            "bin_end": 260723.6,
            "bin_start": 247121.90000000002,
            "count": 1
           },
           {
            "bin_end": 274325.3,
            "bin_start": 260723.6,
            "count": 0
           },
           {
            "bin_end": 287927,
            "bin_start": 274325.3,
            "count": 1
           }
          ],
          "max": "287927",
          "min": "151910",
          "nan_count": 0,
          "unique_count": 5
         }
        },
        {
         "dtype": "object",
         "name": "education",
         "stats": {
          "categories": [
           {
            "count": 4,
            "name": " HS-grad"
           },
           {
            "count": 1,
            "name": " Assoc-acdm"
           }
          ],
          "nan_count": 0,
          "unique_count": 2
         }
        },
        {
         "dtype": "int64",
         "name": "education-num",
         "stats": {
          "histogram": [
           {
            "bin_end": 9.3,
            "bin_start": 9,
            "count": 4
           },
           {
            "bin_end": 9.6,
            "bin_start": 9.3,
            "count": 0
           },
           {
            "bin_end": 9.9,
            "bin_start": 9.6,
            "count": 0
           },
           {
            "bin_end": 10.2,
            "bin_start": 9.9,
            "count": 0
           },
           {
            "bin_end": 10.5,
            "bin_start": 10.2,
            "count": 0
           },
           {
            "bin_end": 10.8,
            "bin_start": 10.5,
            "count": 0
           },
           {
            "bin_end": 11.1,
            "bin_start": 10.8,
            "count": 0
           },
           {
            "bin_end": 11.4,
            "bin_start": 11.1,
            "count": 0
           },
           {
            "bin_end": 11.7,
            "bin_start": 11.4,
            "count": 0
           },
           {
            "bin_end": 12,
            "bin_start": 11.7,
            "count": 1
           }
          ],
          "max": "12",
          "min": "9",
          "nan_count": 0,
          "unique_count": 2
         }
        },
        {
         "dtype": "object",
         "name": "marital-status",
         "stats": {
          "categories": [
           {
            "count": 3,
            "name": " Married-civ-spouse"
           },
           {
            "count": 1,
            "name": " Widowed"
           },
           {
            "count": 1,
            "name": " Never-married"
           }
          ],
          "nan_count": 0,
          "unique_count": 3
         }
        },
        {
         "dtype": "object",
         "name": "occupation",
         "stats": {
          "categories": [
           {
            "count": 2,
            "name": " Adm-clerical"
           },
           {
            "count": 1,
            "name": " Tech-support"
           },
           {
            "count": 2,
            "name": "2 others"
           }
          ],
          "nan_count": 0,
          "unique_count": 4
         }
        },
        {
         "dtype": "object",
         "name": "race",
         "stats": {
          "categories": [
           {
            "count": 2,
            "name": " Wife"
           },
           {
            "count": 1,
            "name": " Husband"
           },
           {
            "count": 2,
            "name": "2 others"
           }
          ],
          "nan_count": 0,
          "unique_count": 4
         }
        },
        {
         "dtype": "object",
         "name": "relationship",
         "stats": {
          "categories": [
           {
            "count": 5,
            "name": " White"
           }
          ],
          "nan_count": 0,
          "unique_count": 1
         }
        },
        {
         "dtype": "object",
         "name": "sex",
         "stats": {
          "categories": [
           {
            "count": 3,
            "name": " Female"
           },
           {
            "count": 2,
            "name": " Male"
           }
          ],
          "nan_count": 0,
          "unique_count": 2
         }
        },
        {
         "dtype": "int64",
         "name": "capital-gain",
         "stats": {
          "histogram": [
           {
            "bin_end": 1502.4,
            "bin_start": 0,
            "count": 4
           },
           {
            "bin_end": 3004.8,
            "bin_start": 1502.4,
            "count": 0
           },
           {
            "bin_end": 4507.200000000001,
            "bin_start": 3004.8,
            "count": 0
           },
           {
            "bin_end": 6009.6,
            "bin_start": 4507.200000000001,
            "count": 0
           },
           {
            "bin_end": 7512,
            "bin_start": 6009.6,
            "count": 0
           },
           {
            "bin_end": 9014.400000000001,
            "bin_start": 7512,
            "count": 0
           },
           {
            "bin_end": 10516.800000000001,
            "bin_start": 9014.400000000001,
            "count": 0
           },
           {
            "bin_end": 12019.2,
            "bin_start": 10516.800000000001,
            "count": 0
           },
           {
            "bin_end": 13521.6,
            "bin_start": 12019.2,
            "count": 0
           },
           {
            "bin_end": 15024,
            "bin_start": 13521.6,
            "count": 1
           }
          ],
          "max": "15024",
          "min": "0",
          "nan_count": 0,
          "unique_count": 2
         }
        },
        {
         "dtype": "int64",
         "name": "capital-loss",
         "stats": {
          "histogram": [
           {
            "bin_end": -0.4,
            "bin_start": -0.5,
            "count": 0
           },
           {
            "bin_end": -0.3,
            "bin_start": -0.4,
            "count": 0
           },
           {
            "bin_end": -0.19999999999999996,
            "bin_start": -0.3,
            "count": 0
           },
           {
            "bin_end": -0.09999999999999998,
            "bin_start": -0.19999999999999996,
            "count": 0
           },
           {
            "bin_end": 0,
            "bin_start": -0.09999999999999998,
            "count": 0
           },
           {
            "bin_end": 0.10000000000000009,
            "bin_start": 0,
            "count": 5
           },
           {
            "bin_end": 0.20000000000000007,
            "bin_start": 0.10000000000000009,
            "count": 0
           },
           {
            "bin_end": 0.30000000000000004,
            "bin_start": 0.20000000000000007,
            "count": 0
           },
           {
            "bin_end": 0.4,
            "bin_start": 0.30000000000000004,
            "count": 0
           },
           {
            "bin_end": 0.5,
            "bin_start": 0.4,
            "count": 0
           }
          ],
          "max": "0",
          "min": "0",
          "nan_count": 0,
          "unique_count": 1
         }
        },
        {
         "dtype": "int64",
         "name": "hours-per-week",
         "stats": {
          "histogram": [
           {
            "bin_end": 22,
            "bin_start": 20,
            "count": 1
           },
           {
            "bin_end": 24,
            "bin_start": 22,
            "count": 0
           },
           {
            "bin_end": 26,
            "bin_start": 24,
            "count": 0
           },
           {
            "bin_end": 28,
            "bin_start": 26,
            "count": 0
           },
           {
            "bin_end": 30,
            "bin_start": 28,
            "count": 0
           },
           {
            "bin_end": 32,
            "bin_start": 30,
            "count": 0
           },
           {
            "bin_end": 34,
            "bin_start": 32,
            "count": 0
           },
           {
            "bin_end": 36,
            "bin_start": 34,
            "count": 0
           },
           {
            "bin_end": 38,
            "bin_start": 36,
            "count": 0
           },
           {
            "bin_end": 40,
            "bin_start": 38,
            "count": 4
           }
          ],
          "max": "40",
          "min": "20",
          "nan_count": 0,
          "unique_count": 3
         }
        },
        {
         "dtype": "object",
         "name": "native-country",
         "stats": {
          "categories": [
           {
            "count": 5,
            "name": " United-States"
           }
          ],
          "nan_count": 0,
          "unique_count": 1
         }
        },
        {
         "dtype": "object",
         "name": "label",
         "stats": {
          "categories": [
           {
            "count": 3,
            "name": " <=50K"
           },
           {
            "count": 2,
            "name": " >50K"
           }
          ],
          "nan_count": 0,
          "unique_count": 2
         }
        },
        {
         "dtype": "int64",
         "name": "_deepnote_index_column"
        }
       ],
       "row_count": 5,
       "rows_bottom": null,
       "rows_top": [
        {
         "_deepnote_index_column": 32556,
         "age": 27,
         "capital-gain": 0,
         "capital-loss": 0,
         "education": " Assoc-acdm",
         "education-num": 12,
         "fnlwgt": 257302,
         "hours-per-week": 38,
         "label": " <=50K",
         "marital-status": " Married-civ-spouse",
         "native-country": " United-States",
         "occupation": " Tech-support",
         "race": " Wife",
         "relationship": " White",
         "sex": " Female",
         "workclass": " Private"
        },
        {
         "_deepnote_index_column": 32557,
         "age": 40,
         "capital-gain": 0,
         "capital-loss": 0,
         "education": " HS-grad",
         "education-num": 9,
         "fnlwgt": 154374,
         "hours-per-week": 40,
         "label": " >50K",
         "marital-status": " Married-civ-spouse",
         "native-country": " United-States",
         "occupation": " Machine-op-inspct",
         "race": " Husband",
         "relationship": " White",
         "sex": " Male",
         "workclass": " Private"
        },
        {
         "_deepnote_index_column": 32558,
         "age": 58,
         "capital-gain": 0,
         "capital-loss": 0,
         "education": " HS-grad",
         "education-num": 9,
         "fnlwgt": 151910,
         "hours-per-week": 40,
         "label": " <=50K",
         "marital-status": " Widowed",
         "native-country": " United-States",
         "occupation": " Adm-clerical",
         "race": " Unmarried",
         "relationship": " White",
         "sex": " Female",
         "workclass": " Private"
        },
        {
         "_deepnote_index_column": 32559,
         "age": 22,
         "capital-gain": 0,
         "capital-loss": 0,
         "education": " HS-grad",
         "education-num": 9,
         "fnlwgt": 201490,
         "hours-per-week": 20,
         "label": " <=50K",
         "marital-status": " Never-married",
         "native-country": " United-States",
         "occupation": " Adm-clerical",
         "race": " Own-child",
         "relationship": " White",
         "sex": " Male",
         "workclass": " Private"
        },
        {
         "_deepnote_index_column": 32560,
         "age": 52,
         "capital-gain": 15024,
         "capital-loss": 0,
         "education": " HS-grad",
         "education-num": 9,
         "fnlwgt": 287927,
         "hours-per-week": 40,
         "label": " >50K",
         "marital-status": " Married-civ-spouse",
         "native-country": " United-States",
         "occupation": " Exec-managerial",
         "race": " Wife",
         "relationship": " White",
         "sex": " Female",
         "workclass": " Self-emp-inc"
        }
       ]
      },
      "text/html": [
       "<div>\n",
       "<style scoped>\n",
       "    .dataframe tbody tr th:only-of-type {\n",
       "        vertical-align: middle;\n",
       "    }\n",
       "\n",
       "    .dataframe tbody tr th {\n",
       "        vertical-align: top;\n",
       "    }\n",
       "\n",
       "    .dataframe thead th {\n",
       "        text-align: right;\n",
       "    }\n",
       "</style>\n",
       "<table border=\"1\" class=\"dataframe\">\n",
       "  <thead>\n",
       "    <tr style=\"text-align: right;\">\n",
       "      <th></th>\n",
       "      <th>age</th>\n",
       "      <th>workclass</th>\n",
       "      <th>fnlwgt</th>\n",
       "      <th>education</th>\n",
       "      <th>education-num</th>\n",
       "      <th>marital-status</th>\n",
       "      <th>occupation</th>\n",
       "      <th>race</th>\n",
       "      <th>relationship</th>\n",
       "      <th>sex</th>\n",
       "      <th>capital-gain</th>\n",
       "      <th>capital-loss</th>\n",
       "      <th>hours-per-week</th>\n",
       "      <th>native-country</th>\n",
       "      <th>label</th>\n",
       "    </tr>\n",
       "  </thead>\n",
       "  <tbody>\n",
       "    <tr>\n",
       "      <th>32556</th>\n",
       "      <td>27</td>\n",
       "      <td>Private</td>\n",
       "      <td>257302</td>\n",
       "      <td>Assoc-acdm</td>\n",
       "      <td>12</td>\n",
       "      <td>Married-civ-spouse</td>\n",
       "      <td>Tech-support</td>\n",
       "      <td>Wife</td>\n",
       "      <td>White</td>\n",
       "      <td>Female</td>\n",
       "      <td>0</td>\n",
       "      <td>0</td>\n",
       "      <td>38</td>\n",
       "      <td>United-States</td>\n",
       "      <td>&lt;=50K</td>\n",
       "    </tr>\n",
       "    <tr>\n",
       "      <th>32557</th>\n",
       "      <td>40</td>\n",
       "      <td>Private</td>\n",
       "      <td>154374</td>\n",
       "      <td>HS-grad</td>\n",
       "      <td>9</td>\n",
       "      <td>Married-civ-spouse</td>\n",
       "      <td>Machine-op-inspct</td>\n",
       "      <td>Husband</td>\n",
       "      <td>White</td>\n",
       "      <td>Male</td>\n",
       "      <td>0</td>\n",
       "      <td>0</td>\n",
       "      <td>40</td>\n",
       "      <td>United-States</td>\n",
       "      <td>&gt;50K</td>\n",
       "    </tr>\n",
       "    <tr>\n",
       "      <th>32558</th>\n",
       "      <td>58</td>\n",
       "      <td>Private</td>\n",
       "      <td>151910</td>\n",
       "      <td>HS-grad</td>\n",
       "      <td>9</td>\n",
       "      <td>Widowed</td>\n",
       "      <td>Adm-clerical</td>\n",
       "      <td>Unmarried</td>\n",
       "      <td>White</td>\n",
       "      <td>Female</td>\n",
       "      <td>0</td>\n",
       "      <td>0</td>\n",
       "      <td>40</td>\n",
       "      <td>United-States</td>\n",
       "      <td>&lt;=50K</td>\n",
       "    </tr>\n",
       "    <tr>\n",
       "      <th>32559</th>\n",
       "      <td>22</td>\n",
       "      <td>Private</td>\n",
       "      <td>201490</td>\n",
       "      <td>HS-grad</td>\n",
       "      <td>9</td>\n",
       "      <td>Never-married</td>\n",
       "      <td>Adm-clerical</td>\n",
       "      <td>Own-child</td>\n",
       "      <td>White</td>\n",
       "      <td>Male</td>\n",
       "      <td>0</td>\n",
       "      <td>0</td>\n",
       "      <td>20</td>\n",
       "      <td>United-States</td>\n",
       "      <td>&lt;=50K</td>\n",
       "    </tr>\n",
       "    <tr>\n",
       "      <th>32560</th>\n",
       "      <td>52</td>\n",
       "      <td>Self-emp-inc</td>\n",
       "      <td>287927</td>\n",
       "      <td>HS-grad</td>\n",
       "      <td>9</td>\n",
       "      <td>Married-civ-spouse</td>\n",
       "      <td>Exec-managerial</td>\n",
       "      <td>Wife</td>\n",
       "      <td>White</td>\n",
       "      <td>Female</td>\n",
       "      <td>15024</td>\n",
       "      <td>0</td>\n",
       "      <td>40</td>\n",
       "      <td>United-States</td>\n",
       "      <td>&gt;50K</td>\n",
       "    </tr>\n",
       "  </tbody>\n",
       "</table>\n",
       "</div>"
      ],
      "text/plain": [
       "       age      workclass  fnlwgt    education  education-num  \\\n",
       "32556   27        Private  257302   Assoc-acdm             12   \n",
       "32557   40        Private  154374      HS-grad              9   \n",
       "32558   58        Private  151910      HS-grad              9   \n",
       "32559   22        Private  201490      HS-grad              9   \n",
       "32560   52   Self-emp-inc  287927      HS-grad              9   \n",
       "\n",
       "            marital-status          occupation        race relationship  \\\n",
       "32556   Married-civ-spouse        Tech-support        Wife        White   \n",
       "32557   Married-civ-spouse   Machine-op-inspct     Husband        White   \n",
       "32558              Widowed        Adm-clerical   Unmarried        White   \n",
       "32559        Never-married        Adm-clerical   Own-child        White   \n",
       "32560   Married-civ-spouse     Exec-managerial        Wife        White   \n",
       "\n",
       "           sex  capital-gain  capital-loss  hours-per-week  native-country  \\\n",
       "32556   Female             0             0              38   United-States   \n",
       "32557     Male             0             0              40   United-States   \n",
       "32558   Female             0             0              40   United-States   \n",
       "32559     Male             0             0              20   United-States   \n",
       "32560   Female         15024             0              40   United-States   \n",
       "\n",
       "        label  \n",
       "32556   <=50K  \n",
       "32557    >50K  \n",
       "32558   <=50K  \n",
       "32559   <=50K  \n",
       "32560    >50K  "
      ]
     },
     "execution_count": 5,
     "metadata": {},
     "output_type": "execute_result"
    }
   ],
   "source": [
    "data.tail()"
   ]
  },
  {
   "cell_type": "code",
   "execution_count": 6,
   "metadata": {
    "cell_id": "00006-78727ae5-9883-4207-a23e-f1b32d22af4e",
    "colab": {
     "base_uri": "https://localhost:8080/"
    },
    "deepnote_cell_type": "code",
    "deepnote_to_be_reexecuted": false,
    "executionInfo": {
     "elapsed": 9946,
     "status": "ok",
     "timestamp": 1619788600871,
     "user": {
      "displayName": "Etienne ROSEAU",
      "photoUrl": "",
      "userId": "01574266322609413673"
     },
     "user_tz": -120
    },
    "execution_millis": 5,
    "execution_start": 1620123938671,
    "id": "iJKlHaqHLDsm",
    "outputId": "8a438c43-de58-4993-c030-1179074aa30d",
    "source_hash": "ae3db336"
   },
   "outputs": [
    {
     "data": {
      "text/plain": [
       "age                int64\n",
       "workclass         object\n",
       "fnlwgt             int64\n",
       "education         object\n",
       "education-num      int64\n",
       "marital-status    object\n",
       "occupation        object\n",
       "race              object\n",
       "relationship      object\n",
       "sex               object\n",
       "capital-gain       int64\n",
       "capital-loss       int64\n",
       "hours-per-week     int64\n",
       "native-country    object\n",
       "label             object\n",
       "dtype: object"
      ]
     },
     "execution_count": 6,
     "metadata": {},
     "output_type": "execute_result"
    }
   ],
   "source": [
    "data.dtypes"
   ]
  },
  {
   "cell_type": "code",
   "execution_count": 7,
   "metadata": {
    "cell_id": "00007-934316e5-74df-4763-9da6-4dc677a6c2cd",
    "colab": {
     "base_uri": "https://localhost:8080/",
     "height": 309
    },
    "deepnote_cell_type": "code",
    "deepnote_to_be_reexecuted": false,
    "executionInfo": {
     "elapsed": 9890,
     "status": "ok",
     "timestamp": 1619788600873,
     "user": {
      "displayName": "Etienne ROSEAU",
      "photoUrl": "",
      "userId": "01574266322609413673"
     },
     "user_tz": -120
    },
    "execution_millis": 9,
    "execution_start": 1620123938672,
    "id": "a4tRKSiijbp0",
    "outputId": "9ac02520-b52a-4b07-8683-482b8ebd66c4",
    "source_hash": "41313cfa"
   },
   "outputs": [
    {
     "data": {
      "application/vnd.deepnote.dataframe.v2+json": {
       "column_count": 15,
       "columns": [
        {
         "dtype": "int64",
         "name": "age",
         "stats": {
          "histogram": [
           {
            "bin_end": 30.5,
            "bin_start": 28,
            "count": 1
           },
           {
            "bin_end": 33,
            "bin_start": 30.5,
            "count": 0
           },
           {
            "bin_end": 35.5,
            "bin_start": 33,
            "count": 0
           },
           {
            "bin_end": 38,
            "bin_start": 35.5,
            "count": 0
           },
           {
            "bin_end": 40.5,
            "bin_start": 38,
            "count": 2
           },
           {
            "bin_end": 43,
            "bin_start": 40.5,
            "count": 0
           },
           {
            "bin_end": 45.5,
            "bin_start": 43,
            "count": 0
           },
           {
            "bin_end": 48,
            "bin_start": 45.5,
            "count": 0
           },
           {
            "bin_end": 50.5,
            "bin_start": 48,
            "count": 1
           },
           {
            "bin_end": 53,
            "bin_start": 50.5,
            "count": 1
           }
          ],
          "max": "53",
          "min": "28",
          "nan_count": 0,
          "unique_count": 5
         }
        },
        {
         "dtype": "object",
         "name": "workclass",
         "stats": {
          "categories": [
           {
            "count": 3,
            "name": " Private"
           },
           {
            "count": 1,
            "name": " State-gov"
           },
           {
            "count": 1,
            "name": " Self-emp-not-inc"
           }
          ],
          "nan_count": 0,
          "unique_count": 3
         }
        },
        {
         "dtype": "int64",
         "name": "fnlwgt",
         "stats": {
          "histogram": [
           {
            "bin_end": 103605.3,
            "bin_start": 77516,
            "count": 2
           },
           {
            "bin_end": 129694.6,
            "bin_start": 103605.3,
            "count": 0
           },
           {
            "bin_end": 155783.9,
            "bin_start": 129694.6,
            "count": 0
           },
           {
            "bin_end": 181873.2,
            "bin_start": 155783.9,
            "count": 0
           },
           {
            "bin_end": 207962.5,
            "bin_start": 181873.2,
            "count": 0
           },
           {
            "bin_end": 234051.8,
            "bin_start": 207962.5,
            "count": 1
           },
           {
            "bin_end": 260141.1,
            "bin_start": 234051.8,
            "count": 1
           },
           {
            "bin_end": 286230.4,
            "bin_start": 260141.1,
            "count": 0
           },
           {
            "bin_end": 312319.69999999995,
            "bin_start": 286230.4,
            "count": 0
           },
           {
            "bin_end": 338409,
            "bin_start": 312319.69999999995,
            "count": 1
           }
          ],
          "max": "338409",
          "min": "77516",
          "nan_count": 0,
          "unique_count": 5
         }
        },
        {
         "dtype": "object",
         "name": "education",
         "stats": {
          "categories": [
           {
            "count": 3,
            "name": " Bachelors"
           },
           {
            "count": 1,
            "name": " HS-grad"
           },
           {
            "count": 1,
            "name": " 11th"
           }
          ],
          "nan_count": 0,
          "unique_count": 3
         }
        },
        {
         "dtype": "int64",
         "name": "education-num",
         "stats": {
          "histogram": [
           {
            "bin_end": 7.6,
            "bin_start": 7,
            "count": 1
           },
           {
            "bin_end": 8.2,
            "bin_start": 7.6,
            "count": 0
           },
           {
            "bin_end": 8.8,
            "bin_start": 8.2,
            "count": 0
           },
           {
            "bin_end": 9.4,
            "bin_start": 8.8,
            "count": 1
           },
           {
            "bin_end": 10,
            "bin_start": 9.4,
            "count": 0
           },
           {
            "bin_end": 10.6,
            "bin_start": 10,
            "count": 0
           },
           {
            "bin_end": 11.2,
            "bin_start": 10.6,
            "count": 0
           },
           {
            "bin_end": 11.8,
            "bin_start": 11.2,
            "count": 0
           },
           {
            "bin_end": 12.399999999999999,
            "bin_start": 11.8,
            "count": 0
           },
           {
            "bin_end": 13,
            "bin_start": 12.399999999999999,
            "count": 3
           }
          ],
          "max": "13",
          "min": "7",
          "nan_count": 0,
          "unique_count": 3
         }
        },
        {
         "dtype": "object",
         "name": "marital-status",
         "stats": {
          "categories": [
           {
            "count": 3,
            "name": " Married-civ-spouse"
           },
           {
            "count": 1,
            "name": " Never-married"
           },
           {
            "count": 1,
            "name": " Divorced"
           }
          ],
          "nan_count": 0,
          "unique_count": 3
         }
        },
        {
         "dtype": "object",
         "name": "occupation",
         "stats": {
          "categories": [
           {
            "count": 2,
            "name": " Handlers-cleaners"
           },
           {
            "count": 1,
            "name": " Adm-clerical"
           },
           {
            "count": 2,
            "name": "2 others"
           }
          ],
          "nan_count": 0,
          "unique_count": 4
         }
        },
        {
         "dtype": "object",
         "name": "race",
         "stats": {
          "categories": [
           {
            "count": 2,
            "name": " Not-in-family"
           },
           {
            "count": 2,
            "name": " Husband"
           },
           {
            "count": 1,
            "name": " Wife"
           }
          ],
          "nan_count": 0,
          "unique_count": 3
         }
        },
        {
         "dtype": "object",
         "name": "relationship",
         "stats": {
          "categories": [
           {
            "count": 3,
            "name": " White"
           },
           {
            "count": 2,
            "name": " Black"
           }
          ],
          "nan_count": 0,
          "unique_count": 2
         }
        },
        {
         "dtype": "object",
         "name": "sex",
         "stats": {
          "categories": [
           {
            "count": 4,
            "name": " Male"
           },
           {
            "count": 1,
            "name": " Female"
           }
          ],
          "nan_count": 0,
          "unique_count": 2
         }
        },
        {
         "dtype": "int64",
         "name": "capital-gain",
         "stats": {
          "histogram": [
           {
            "bin_end": 217.4,
            "bin_start": 0,
            "count": 4
           },
           {
            "bin_end": 434.8,
            "bin_start": 217.4,
            "count": 0
           },
           {
            "bin_end": 652.2,
            "bin_start": 434.8,
            "count": 0
           },
           {
            "bin_end": 869.6,
            "bin_start": 652.2,
            "count": 0
           },
           {
            "bin_end": 1087,
            "bin_start": 869.6,
            "count": 0
           },
           {
            "bin_end": 1304.4,
            "bin_start": 1087,
            "count": 0
           },
           {
            "bin_end": 1521.8,
            "bin_start": 1304.4,
            "count": 0
           },
           {
            "bin_end": 1739.2,
            "bin_start": 1521.8,
            "count": 0
           },
           {
            "bin_end": 1956.6000000000001,
            "bin_start": 1739.2,
            "count": 0
           },
           {
            "bin_end": 2174,
            "bin_start": 1956.6000000000001,
            "count": 1
           }
          ],
          "max": "2174",
          "min": "0",
          "nan_count": 0,
          "unique_count": 2
         }
        },
        {
         "dtype": "int64",
         "name": "capital-loss",
         "stats": {
          "histogram": [
           {
            "bin_end": -0.4,
            "bin_start": -0.5,
            "count": 0
           },
           {
            "bin_end": -0.3,
            "bin_start": -0.4,
            "count": 0
           },
           {
            "bin_end": -0.19999999999999996,
            "bin_start": -0.3,
            "count": 0
           },
           {
            "bin_end": -0.09999999999999998,
            "bin_start": -0.19999999999999996,
            "count": 0
           },
           {
            "bin_end": 0,
            "bin_start": -0.09999999999999998,
            "count": 0
           },
           {
            "bin_end": 0.10000000000000009,
            "bin_start": 0,
            "count": 5
           },
           {
            "bin_end": 0.20000000000000007,
            "bin_start": 0.10000000000000009,
            "count": 0
           },
           {
            "bin_end": 0.30000000000000004,
            "bin_start": 0.20000000000000007,
            "count": 0
           },
           {
            "bin_end": 0.4,
            "bin_start": 0.30000000000000004,
            "count": 0
           },
           {
            "bin_end": 0.5,
            "bin_start": 0.4,
            "count": 0
           }
          ],
          "max": "0",
          "min": "0",
          "nan_count": 0,
          "unique_count": 1
         }
        },
        {
         "dtype": "int64",
         "name": "hours-per-week",
         "stats": {
          "histogram": [
           {
            "bin_end": 15.7,
            "bin_start": 13,
            "count": 1
           },
           {
            "bin_end": 18.4,
            "bin_start": 15.7,
            "count": 0
           },
           {
            "bin_end": 21.1,
            "bin_start": 18.4,
            "count": 0
           },
           {
            "bin_end": 23.8,
            "bin_start": 21.1,
            "count": 0
           },
           {
            "bin_end": 26.5,
            "bin_start": 23.8,
            "count": 0
           },
           {
            "bin_end": 29.200000000000003,
            "bin_start": 26.5,
            "count": 0
           },
           {
            "bin_end": 31.900000000000002,
            "bin_start": 29.200000000000003,
            "count": 0
           },
           {
            "bin_end": 34.6,
            "bin_start": 31.900000000000002,
            "count": 0
           },
           {
            "bin_end": 37.3,
            "bin_start": 34.6,
            "count": 0
           },
           {
            "bin_end": 40,
            "bin_start": 37.3,
            "count": 4
           }
          ],
          "max": "40",
          "min": "13",
          "nan_count": 0,
          "unique_count": 2
         }
        },
        {
         "dtype": "object",
         "name": "native-country",
         "stats": {
          "categories": [
           {
            "count": 4,
            "name": " United-States"
           },
           {
            "count": 1,
            "name": " Cuba"
           }
          ],
          "nan_count": 0,
          "unique_count": 2
         }
        },
        {
         "dtype": "object",
         "name": "label",
         "stats": {
          "categories": [
           {
            "count": 5,
            "name": " <=50K"
           }
          ],
          "nan_count": 0,
          "unique_count": 1
         }
        },
        {
         "dtype": "int64",
         "name": "_deepnote_index_column"
        }
       ],
       "row_count": 5,
       "rows_bottom": null,
       "rows_top": [
        {
         "_deepnote_index_column": 0,
         "age": 39,
         "capital-gain": 2174,
         "capital-loss": 0,
         "education": " Bachelors",
         "education-num": 13,
         "fnlwgt": 77516,
         "hours-per-week": 40,
         "label": " <=50K",
         "marital-status": " Never-married",
         "native-country": " United-States",
         "occupation": " Adm-clerical",
         "race": " Not-in-family",
         "relationship": " White",
         "sex": " Male",
         "workclass": " State-gov"
        },
        {
         "_deepnote_index_column": 1,
         "age": 50,
         "capital-gain": 0,
         "capital-loss": 0,
         "education": " Bachelors",
         "education-num": 13,
         "fnlwgt": 83311,
         "hours-per-week": 13,
         "label": " <=50K",
         "marital-status": " Married-civ-spouse",
         "native-country": " United-States",
         "occupation": " Exec-managerial",
         "race": " Husband",
         "relationship": " White",
         "sex": " Male",
         "workclass": " Self-emp-not-inc"
        },
        {
         "_deepnote_index_column": 2,
         "age": 38,
         "capital-gain": 0,
         "capital-loss": 0,
         "education": " HS-grad",
         "education-num": 9,
         "fnlwgt": 215646,
         "hours-per-week": 40,
         "label": " <=50K",
         "marital-status": " Divorced",
         "native-country": " United-States",
         "occupation": " Handlers-cleaners",
         "race": " Not-in-family",
         "relationship": " White",
         "sex": " Male",
         "workclass": " Private"
        },
        {
         "_deepnote_index_column": 3,
         "age": 53,
         "capital-gain": 0,
         "capital-loss": 0,
         "education": " 11th",
         "education-num": 7,
         "fnlwgt": 234721,
         "hours-per-week": 40,
         "label": " <=50K",
         "marital-status": " Married-civ-spouse",
         "native-country": " United-States",
         "occupation": " Handlers-cleaners",
         "race": " Husband",
         "relationship": " Black",
         "sex": " Male",
         "workclass": " Private"
        },
        {
         "_deepnote_index_column": 4,
         "age": 28,
         "capital-gain": 0,
         "capital-loss": 0,
         "education": " Bachelors",
         "education-num": 13,
         "fnlwgt": 338409,
         "hours-per-week": 40,
         "label": " <=50K",
         "marital-status": " Married-civ-spouse",
         "native-country": " Cuba",
         "occupation": " Prof-specialty",
         "race": " Wife",
         "relationship": " Black",
         "sex": " Female",
         "workclass": " Private"
        }
       ]
      },
      "text/html": [
       "<div>\n",
       "<style scoped>\n",
       "    .dataframe tbody tr th:only-of-type {\n",
       "        vertical-align: middle;\n",
       "    }\n",
       "\n",
       "    .dataframe tbody tr th {\n",
       "        vertical-align: top;\n",
       "    }\n",
       "\n",
       "    .dataframe thead th {\n",
       "        text-align: right;\n",
       "    }\n",
       "</style>\n",
       "<table border=\"1\" class=\"dataframe\">\n",
       "  <thead>\n",
       "    <tr style=\"text-align: right;\">\n",
       "      <th></th>\n",
       "      <th>age</th>\n",
       "      <th>workclass</th>\n",
       "      <th>fnlwgt</th>\n",
       "      <th>education</th>\n",
       "      <th>education-num</th>\n",
       "      <th>marital-status</th>\n",
       "      <th>occupation</th>\n",
       "      <th>race</th>\n",
       "      <th>relationship</th>\n",
       "      <th>sex</th>\n",
       "      <th>capital-gain</th>\n",
       "      <th>capital-loss</th>\n",
       "      <th>hours-per-week</th>\n",
       "      <th>native-country</th>\n",
       "      <th>label</th>\n",
       "    </tr>\n",
       "  </thead>\n",
       "  <tbody>\n",
       "    <tr>\n",
       "      <th>0</th>\n",
       "      <td>39</td>\n",
       "      <td>State-gov</td>\n",
       "      <td>77516</td>\n",
       "      <td>Bachelors</td>\n",
       "      <td>13</td>\n",
       "      <td>Never-married</td>\n",
       "      <td>Adm-clerical</td>\n",
       "      <td>Not-in-family</td>\n",
       "      <td>White</td>\n",
       "      <td>Male</td>\n",
       "      <td>2174</td>\n",
       "      <td>0</td>\n",
       "      <td>40</td>\n",
       "      <td>United-States</td>\n",
       "      <td>&lt;=50K</td>\n",
       "    </tr>\n",
       "    <tr>\n",
       "      <th>1</th>\n",
       "      <td>50</td>\n",
       "      <td>Self-emp-not-inc</td>\n",
       "      <td>83311</td>\n",
       "      <td>Bachelors</td>\n",
       "      <td>13</td>\n",
       "      <td>Married-civ-spouse</td>\n",
       "      <td>Exec-managerial</td>\n",
       "      <td>Husband</td>\n",
       "      <td>White</td>\n",
       "      <td>Male</td>\n",
       "      <td>0</td>\n",
       "      <td>0</td>\n",
       "      <td>13</td>\n",
       "      <td>United-States</td>\n",
       "      <td>&lt;=50K</td>\n",
       "    </tr>\n",
       "    <tr>\n",
       "      <th>2</th>\n",
       "      <td>38</td>\n",
       "      <td>Private</td>\n",
       "      <td>215646</td>\n",
       "      <td>HS-grad</td>\n",
       "      <td>9</td>\n",
       "      <td>Divorced</td>\n",
       "      <td>Handlers-cleaners</td>\n",
       "      <td>Not-in-family</td>\n",
       "      <td>White</td>\n",
       "      <td>Male</td>\n",
       "      <td>0</td>\n",
       "      <td>0</td>\n",
       "      <td>40</td>\n",
       "      <td>United-States</td>\n",
       "      <td>&lt;=50K</td>\n",
       "    </tr>\n",
       "    <tr>\n",
       "      <th>3</th>\n",
       "      <td>53</td>\n",
       "      <td>Private</td>\n",
       "      <td>234721</td>\n",
       "      <td>11th</td>\n",
       "      <td>7</td>\n",
       "      <td>Married-civ-spouse</td>\n",
       "      <td>Handlers-cleaners</td>\n",
       "      <td>Husband</td>\n",
       "      <td>Black</td>\n",
       "      <td>Male</td>\n",
       "      <td>0</td>\n",
       "      <td>0</td>\n",
       "      <td>40</td>\n",
       "      <td>United-States</td>\n",
       "      <td>&lt;=50K</td>\n",
       "    </tr>\n",
       "    <tr>\n",
       "      <th>4</th>\n",
       "      <td>28</td>\n",
       "      <td>Private</td>\n",
       "      <td>338409</td>\n",
       "      <td>Bachelors</td>\n",
       "      <td>13</td>\n",
       "      <td>Married-civ-spouse</td>\n",
       "      <td>Prof-specialty</td>\n",
       "      <td>Wife</td>\n",
       "      <td>Black</td>\n",
       "      <td>Female</td>\n",
       "      <td>0</td>\n",
       "      <td>0</td>\n",
       "      <td>40</td>\n",
       "      <td>Cuba</td>\n",
       "      <td>&lt;=50K</td>\n",
       "    </tr>\n",
       "  </tbody>\n",
       "</table>\n",
       "</div>"
      ],
      "text/plain": [
       "   age          workclass  fnlwgt   education  education-num  \\\n",
       "0   39          State-gov   77516   Bachelors             13   \n",
       "1   50   Self-emp-not-inc   83311   Bachelors             13   \n",
       "2   38            Private  215646     HS-grad              9   \n",
       "3   53            Private  234721        11th              7   \n",
       "4   28            Private  338409   Bachelors             13   \n",
       "\n",
       "        marital-status          occupation            race relationship  \\\n",
       "0        Never-married        Adm-clerical   Not-in-family        White   \n",
       "1   Married-civ-spouse     Exec-managerial         Husband        White   \n",
       "2             Divorced   Handlers-cleaners   Not-in-family        White   \n",
       "3   Married-civ-spouse   Handlers-cleaners         Husband        Black   \n",
       "4   Married-civ-spouse      Prof-specialty            Wife        Black   \n",
       "\n",
       "       sex  capital-gain  capital-loss  hours-per-week  native-country   label  \n",
       "0     Male          2174             0              40   United-States   <=50K  \n",
       "1     Male             0             0              13   United-States   <=50K  \n",
       "2     Male             0             0              40   United-States   <=50K  \n",
       "3     Male             0             0              40   United-States   <=50K  \n",
       "4   Female             0             0              40            Cuba   <=50K  "
      ]
     },
     "execution_count": 7,
     "metadata": {},
     "output_type": "execute_result"
    }
   ],
   "source": [
    "data.head()"
   ]
  },
  {
   "cell_type": "code",
   "execution_count": 8,
   "metadata": {
    "cell_id": "00008-76469ae4-471c-4843-ae3a-6e4a061f86a2",
    "deepnote_cell_type": "code",
    "deepnote_to_be_reexecuted": false,
    "execution_millis": 112,
    "execution_start": 1620123938715,
    "id": "1gEpg0G3je-W",
    "source_hash": "930705d9"
   },
   "outputs": [],
   "source": [
    "#on binairise toutes nos colonnes.\n",
    "column_to_bin = ['workclass',\n",
    "                     'education','marital-status', 'occupation', 'race', 'relationship', 'sex', 'native-country']\n",
    "for c in column_to_bin:\n",
    "  if data[c].dtype == 'object':\n",
    "    data[c] = pd.Categorical(data[c]) \n",
    "    catfeat = pd.get_dummies(data[c], prefix = c)\n",
    "    data = data.drop([c], axis = 1)\n",
    "    data = pd.concat([data, catfeat], axis=1)"
   ]
  },
  {
   "cell_type": "code",
   "execution_count": 9,
   "metadata": {
    "cell_id": "00010-7a10c769-7a4e-4f1f-95e2-c9f3d978f0f6",
    "colab": {
     "base_uri": "https://localhost:8080/"
    },
    "deepnote_cell_type": "code",
    "deepnote_to_be_reexecuted": false,
    "executionInfo": {
     "elapsed": 9825,
     "status": "ok",
     "timestamp": 1619788600880,
     "user": {
      "displayName": "Etienne ROSEAU",
      "photoUrl": "",
      "userId": "01574266322609413673"
     },
     "user_tz": -120
    },
    "execution_millis": 4,
    "execution_start": 1620123938875,
    "id": "YsPIBmKakiYD",
    "outputId": "08bebfce-c526-4161-e108-93760bb18d4a",
    "source_hash": "c8a8c27a"
   },
   "outputs": [
    {
     "data": {
      "text/plain": [
       "Index(['age', 'fnlwgt', 'education-num', 'capital-gain', 'capital-loss',\n",
       "       'hours-per-week', 'label', 'workclass_ ?', 'workclass_ Federal-gov',\n",
       "       'workclass_ Local-gov',\n",
       "       ...\n",
       "       'native-country_ Portugal', 'native-country_ Puerto-Rico',\n",
       "       'native-country_ Scotland', 'native-country_ South',\n",
       "       'native-country_ Taiwan', 'native-country_ Thailand',\n",
       "       'native-country_ Trinadad&Tobago', 'native-country_ United-States',\n",
       "       'native-country_ Vietnam', 'native-country_ Yugoslavia'],\n",
       "      dtype='object', length=109)"
      ]
     },
     "execution_count": 9,
     "metadata": {},
     "output_type": "execute_result"
    }
   ],
   "source": [
    "data.columns"
   ]
  },
  {
   "cell_type": "code",
   "execution_count": 10,
   "metadata": {
    "cell_id": "00011-f33870d7-6ac2-46e5-b5d4-85e714f94c88",
    "deepnote_cell_type": "code",
    "deepnote_to_be_reexecuted": false,
    "execution_millis": 49,
    "execution_start": 1620123938876,
    "id": "EwJOWsTQkuKV",
    "source_hash": "c74386d9"
   },
   "outputs": [],
   "source": [
    "data = data.dropna()"
   ]
  },
  {
   "cell_type": "code",
   "execution_count": 11,
   "metadata": {
    "cell_id": "00012-3fe21a1a-d745-40f3-b1ab-b2481292f082",
    "colab": {
     "base_uri": "https://localhost:8080/",
     "height": 1000
    },
    "deepnote_cell_type": "code",
    "deepnote_to_be_reexecuted": false,
    "executionInfo": {
     "elapsed": 10044,
     "status": "ok",
     "timestamp": 1619788601204,
     "user": {
      "displayName": "Etienne ROSEAU",
      "photoUrl": "",
      "userId": "01574266322609413673"
     },
     "user_tz": -120
    },
    "execution_millis": 349,
    "execution_start": 1620123938975,
    "id": "a9B77-tTnmBA",
    "outputId": "eade8858-8a6e-4f8d-bfd2-dd836e4a5d7f",
    "source_hash": "70a9ee4c"
   },
   "outputs": [
    {
     "data": {
      "application/vnd.deepnote.dataframe.v2+json": {
       "column_count": 8,
       "columns": [
        {
         "dtype": "float64",
         "name": "count",
         "stats": {
          "histogram": [
           {
            "bin_end": 32560.6,
            "bin_start": 32560.5,
            "count": 0
           },
           {
            "bin_end": 32560.7,
            "bin_start": 32560.6,
            "count": 0
           },
           {
            "bin_end": 32560.8,
            "bin_start": 32560.7,
            "count": 0
           },
           {
            "bin_end": 32560.9,
            "bin_start": 32560.8,
            "count": 0
           },
           {
            "bin_end": 32561,
            "bin_start": 32560.9,
            "count": 0
           },
           {
            "bin_end": 32561.1,
            "bin_start": 32561,
            "count": 108
           },
           {
            "bin_end": 32561.2,
            "bin_start": 32561.1,
            "count": 0
           },
           {
            "bin_end": 32561.3,
            "bin_start": 32561.2,
            "count": 0
           },
           {
            "bin_end": 32561.4,
            "bin_start": 32561.3,
            "count": 0
           },
           {
            "bin_end": 32561.5,
            "bin_start": 32561.4,
            "count": 0
           }
          ],
          "max": "32561.0",
          "min": "32561.0",
          "nan_count": 0,
          "unique_count": 1
         }
        },
        {
         "dtype": "float64",
         "name": "mean",
         "stats": {
          "histogram": [
           {
            "bin_end": 18977.836678848933,
            "bin_start": 3.071158748195694e-05,
            "count": 107
           },
           {
            "bin_end": 37955.673326986274,
            "bin_start": 18977.836678848933,
            "count": 0
           },
           {
            "bin_end": 56933.50997512362,
            "bin_start": 37955.673326986274,
            "count": 0
           },
           {
            "bin_end": 75911.34662326096,
            "bin_start": 56933.50997512362,
            "count": 0
           },
           {
            "bin_end": 94889.1832713983,
            "bin_start": 75911.34662326096,
            "count": 0
           },
           {
            "bin_end": 113867.01991953565,
            "bin_start": 94889.1832713983,
            "count": 0
           },
           {
            "bin_end": 132844.856567673,
            "bin_start": 113867.01991953565,
            "count": 0
           },
           {
            "bin_end": 151822.69321581034,
            "bin_start": 132844.856567673,
            "count": 0
           },
           {
            "bin_end": 170800.52986394768,
            "bin_start": 151822.69321581034,
            "count": 0
           },
           {
            "bin_end": 189778.36651208502,
            "bin_start": 170800.52986394768,
            "count": 1
           }
          ],
          "max": "189778.36651208502",
          "min": "3.071158748195694e-05",
          "nan_count": 0,
          "unique_count": 102
         }
        },
        {
         "dtype": "float64",
         "name": "std",
         "stats": {
          "histogram": [
           {
            "bin_end": 10555.00275732549,
            "bin_start": 0.005541803630764713,
            "count": 107
           },
           {
            "bin_end": 21109.999972847352,
            "bin_start": 10555.00275732549,
            "count": 0
           },
           {
            "bin_end": 31664.997188369212,
            "bin_start": 21109.999972847352,
            "count": 0
           },
           {
            "bin_end": 42219.99440389107,
            "bin_start": 31664.997188369212,
            "count": 0
           },
           {
            "bin_end": 52774.991619412926,
            "bin_start": 42219.99440389107,
            "count": 0
           },
           {
            "bin_end": 63329.98883493479,
            "bin_start": 52774.991619412926,
            "count": 0
           },
           {
            "bin_end": 73884.98605045666,
            "bin_start": 63329.98883493479,
            "count": 0
           },
           {
            "bin_end": 84439.98326597852,
            "bin_start": 73884.98605045666,
            "count": 0
           },
           {
            "bin_end": 94994.98048150037,
            "bin_start": 84439.98326597852,
            "count": 0
           },
           {
            "bin_end": 105549.97769702224,
            "bin_start": 94994.98048150037,
            "count": 1
           }
          ],
          "max": "105549.97769702224",
          "min": "0.005541803630764713",
          "nan_count": 0,
          "unique_count": 102
         }
        },
        {
         "dtype": "float64",
         "name": "min",
         "stats": {
          "histogram": [
           {
            "bin_end": 1228.5,
            "bin_start": 0,
            "count": 107
           },
           {
            "bin_end": 2457,
            "bin_start": 1228.5,
            "count": 0
           },
           {
            "bin_end": 3685.5,
            "bin_start": 2457,
            "count": 0
           },
           {
            "bin_end": 4914,
            "bin_start": 3685.5,
            "count": 0
           },
           {
            "bin_end": 6142.5,
            "bin_start": 4914,
            "count": 0
           },
           {
            "bin_end": 7371,
            "bin_start": 6142.5,
            "count": 0
           },
           {
            "bin_end": 8599.5,
            "bin_start": 7371,
            "count": 0
           },
           {
            "bin_end": 9828,
            "bin_start": 8599.5,
            "count": 0
           },
           {
            "bin_end": 11056.5,
            "bin_start": 9828,
            "count": 0
           },
           {
            "bin_end": 12285,
            "bin_start": 11056.5,
            "count": 1
           }
          ],
          "max": "12285.0",
          "min": "0.0",
          "nan_count": 0,
          "unique_count": 4
         }
        },
        {
         "dtype": "float64",
         "name": "25%",
         "stats": {
          "histogram": [
           {
            "bin_end": 11782.7,
            "bin_start": 0,
            "count": 107
           },
           {
            "bin_end": 23565.4,
            "bin_start": 11782.7,
            "count": 0
           },
           {
            "bin_end": 35348.100000000006,
            "bin_start": 23565.4,
            "count": 0
           },
           {
            "bin_end": 47130.8,
            "bin_start": 35348.100000000006,
            "count": 0
           },
           {
            "bin_end": 58913.5,
            "bin_start": 47130.8,
            "count": 0
           },
           {
            "bin_end": 70696.20000000001,
            "bin_start": 58913.5,
            "count": 0
           },
           {
            "bin_end": 82478.90000000001,
            "bin_start": 70696.20000000001,
            "count": 0
           },
           {
            "bin_end": 94261.6,
            "bin_start": 82478.90000000001,
            "count": 0
           },
           {
            "bin_end": 106044.3,
            "bin_start": 94261.6,
            "count": 0
           },
           {
            "bin_end": 117827,
            "bin_start": 106044.3,
            "count": 1
           }
          ],
          "max": "117827.0",
          "min": "0.0",
          "nan_count": 0,
          "unique_count": 6
         }
        },
        {
         "dtype": "float64",
         "name": "50%",
         "stats": {
          "histogram": [
           {
            "bin_end": 17835.6,
            "bin_start": 0,
            "count": 107
           },
           {
            "bin_end": 35671.2,
            "bin_start": 17835.6,
            "count": 0
           },
           {
            "bin_end": 53506.799999999996,
            "bin_start": 35671.2,
            "count": 0
           },
           {
            "bin_end": 71342.4,
            "bin_start": 53506.799999999996,
            "count": 0
           },
           {
            "bin_end": 89178,
            "bin_start": 71342.4,
            "count": 0
           },
           {
            "bin_end": 107013.59999999999,
            "bin_start": 89178,
            "count": 0
           },
           {
            "bin_end": 124849.19999999998,
            "bin_start": 107013.59999999999,
            "count": 0
           },
           {
            "bin_end": 142684.8,
            "bin_start": 124849.19999999998,
            "count": 0
           },
           {
            "bin_end": 160520.4,
            "bin_start": 142684.8,
            "count": 0
           },
           {
            "bin_end": 178356,
            "bin_start": 160520.4,
            "count": 1
           }
          ],
          "max": "178356.0",
          "min": "0.0",
          "nan_count": 0,
          "unique_count": 6
         }
        },
        {
         "dtype": "float64",
         "name": "75%",
         "stats": {
          "histogram": [
           {
            "bin_end": 23705.1,
            "bin_start": 0,
            "count": 107
           },
           {
            "bin_end": 47410.2,
            "bin_start": 23705.1,
            "count": 0
           },
           {
            "bin_end": 71115.29999999999,
            "bin_start": 47410.2,
            "count": 0
           },
           {
            "bin_end": 94820.4,
            "bin_start": 71115.29999999999,
            "count": 0
           },
           {
            "bin_end": 118525.5,
            "bin_start": 94820.4,
            "count": 0
           },
           {
            "bin_end": 142230.59999999998,
            "bin_start": 118525.5,
            "count": 0
           },
           {
            "bin_end": 165935.69999999998,
            "bin_start": 142230.59999999998,
            "count": 0
           },
           {
            "bin_end": 189640.8,
            "bin_start": 165935.69999999998,
            "count": 0
           },
           {
            "bin_end": 213345.9,
            "bin_start": 189640.8,
            "count": 0
           },
           {
            "bin_end": 237051,
            "bin_start": 213345.9,
            "count": 1
           }
          ],
          "max": "237051.0",
          "min": "0.0",
          "nan_count": 0,
          "unique_count": 6
         }
        },
        {
         "dtype": "float64",
         "name": "max",
         "stats": {
          "histogram": [
           {
            "bin_end": 148471.4,
            "bin_start": 1,
            "count": 107
           },
           {
            "bin_end": 296941.8,
            "bin_start": 148471.4,
            "count": 0
           },
           {
            "bin_end": 445412.19999999995,
            "bin_start": 296941.8,
            "count": 0
           },
           {
            "bin_end": 593882.6,
            "bin_start": 445412.19999999995,
            "count": 0
           },
           {
            "bin_end": 742353,
            "bin_start": 593882.6,
            "count": 0
           },
           {
            "bin_end": 890823.3999999999,
            "bin_start": 742353,
            "count": 0
           },
           {
            "bin_end": 1039293.7999999999,
            "bin_start": 890823.3999999999,
            "count": 0
           },
           {
            "bin_end": 1187764.2,
            "bin_start": 1039293.7999999999,
            "count": 0
           },
           {
            "bin_end": 1336234.5999999999,
            "bin_start": 1187764.2,
            "count": 0
           },
           {
            "bin_end": 1484705,
            "bin_start": 1336234.5999999999,
            "count": 1
           }
          ],
          "max": "1484705.0",
          "min": "1.0",
          "nan_count": 0,
          "unique_count": 7
         }
        },
        {
         "dtype": "object",
         "name": "_deepnote_index_column"
        }
       ],
       "row_count": 108,
       "rows_bottom": null,
       "rows_top": [
        {
         "25%": 28,
         "50%": 37,
         "75%": 48,
         "_deepnote_index_column": "age",
         "count": 32561,
         "max": 90,
         "mean": 38.58164675532078,
         "min": 17,
         "std": 13.640432553581341
        },
        {
         "25%": 117827,
         "50%": 178356,
         "75%": 237051,
         "_deepnote_index_column": "fnlwgt",
         "count": 32561,
         "max": 1484705,
         "mean": 189778.36651208502,
         "min": 12285,
         "std": 105549.97769702224
        },
        {
         "25%": 9,
         "50%": 10,
         "75%": 12,
         "_deepnote_index_column": "education-num",
         "count": 32561,
         "max": 16,
         "mean": 10.0806793403151,
         "min": 1,
         "std": 2.5727203320673877
        },
        {
         "25%": 0,
         "50%": 0,
         "75%": 0,
         "_deepnote_index_column": "capital-gain",
         "count": 32561,
         "max": 99999,
         "mean": 1077.6488437087312,
         "min": 0,
         "std": 7385.292084840338
        },
        {
         "25%": 0,
         "50%": 0,
         "75%": 0,
         "_deepnote_index_column": "capital-loss",
         "count": 32561,
         "max": 4356,
         "mean": 87.303829734959,
         "min": 0,
         "std": 402.9602186489998
        },
        {
         "25%": 40,
         "50%": 40,
         "75%": 45,
         "_deepnote_index_column": "hours-per-week",
         "count": 32561,
         "max": 99,
         "mean": 40.437455852092995,
         "min": 1,
         "std": 12.347428681731843
        },
        {
         "25%": 0,
         "50%": 0,
         "75%": 0,
         "_deepnote_index_column": "workclass_ ?",
         "count": 32561,
         "max": 1,
         "mean": 0.05638647461687295,
         "min": 0,
         "std": 0.23067005488360814
        },
        {
         "25%": 0,
         "50%": 0,
         "75%": 0,
         "_deepnote_index_column": "workclass_ Federal-gov",
         "count": 32561,
         "max": 1,
         "mean": 0.029483123982678664,
         "min": 0,
         "std": 0.16915894356268277
        },
        {
         "25%": 0,
         "50%": 0,
         "75%": 0,
         "_deepnote_index_column": "workclass_ Local-gov",
         "count": 32561,
         "max": 1,
         "mean": 0.06427935259973588,
         "min": 0,
         "std": 0.24525367420605762
        },
        {
         "25%": 0,
         "50%": 0,
         "75%": 0,
         "_deepnote_index_column": "workclass_ Never-worked",
         "count": 32561,
         "max": 1,
         "mean": 0.00021498111237369858,
         "min": 0,
         "std": 0.014660883216559641
        },
        {
         "25%": 0,
         "50%": 1,
         "75%": 1,
         "_deepnote_index_column": "workclass_ Private",
         "count": 32561,
         "max": 1,
         "mean": 0.6970301894904948,
         "min": 0,
         "std": 0.45954933388491637
        },
        {
         "25%": 0,
         "50%": 0,
         "75%": 0,
         "_deepnote_index_column": "workclass_ Self-emp-inc",
         "count": 32561,
         "max": 1,
         "mean": 0.034274131629863945,
         "min": 0,
         "std": 0.18193524149460094
        },
        {
         "25%": 0,
         "50%": 0,
         "75%": 0,
         "_deepnote_index_column": "workclass_ Self-emp-not-inc",
         "count": 32561,
         "max": 1,
         "mean": 0.0780381437916526,
         "min": 0,
         "std": 0.2682357202466881
        },
        {
         "25%": 0,
         "50%": 0,
         "75%": 0,
         "_deepnote_index_column": "workclass_ State-gov",
         "count": 32561,
         "max": 1,
         "mean": 0.039863640551580114,
         "min": 0,
         "std": 0.19564178035699478
        },
        {
         "25%": 0,
         "50%": 0,
         "75%": 0,
         "_deepnote_index_column": "workclass_ Without-pay",
         "count": 32561,
         "max": 1,
         "mean": 0.00042996222474739717,
         "min": 0,
         "std": 0.020731390613824514
        },
        {
         "25%": 0,
         "50%": 0,
         "75%": 0,
         "_deepnote_index_column": "education_ 10th",
         "count": 32561,
         "max": 1,
         "mean": 0.02865391112066583,
         "min": 0,
         "std": 0.16683440687058687
        },
        {
         "25%": 0,
         "50%": 0,
         "75%": 0,
         "_deepnote_index_column": "education_ 11th",
         "count": 32561,
         "max": 1,
         "mean": 0.03608611529129941,
         "min": 0,
         "std": 0.1865073078362136
        },
        {
         "25%": 0,
         "50%": 0,
         "75%": 0,
         "_deepnote_index_column": "education_ 12th",
         "count": 32561,
         "max": 1,
         "mean": 0.013298117379687356,
         "min": 0,
         "std": 0.11454990371659071
        },
        {
         "25%": 0,
         "50%": 0,
         "75%": 0,
         "_deepnote_index_column": "education_ 1st-4th",
         "count": 32561,
         "max": 1,
         "mean": 0.005159546696968767,
         "min": 0,
         "std": 0.07164554012631263
        },
        {
         "25%": 0,
         "50%": 0,
         "75%": 0,
         "_deepnote_index_column": "education_ 5th-6th",
         "count": 32561,
         "max": 1,
         "mean": 0.010226958631491662,
         "min": 0,
         "std": 0.10061152435073197
        },
        {
         "25%": 0,
         "50%": 0,
         "75%": 0,
         "_deepnote_index_column": "education_ 7th-8th",
         "count": 32561,
         "max": 1,
         "mean": 0.019839685513344186,
         "min": 0,
         "std": 0.13945131634434782
        },
        {
         "25%": 0,
         "50%": 0,
         "75%": 0,
         "_deepnote_index_column": "education_ 9th",
         "count": 32561,
         "max": 1,
         "mean": 0.01578575596572587,
         "min": 0,
         "std": 0.12464767563646344
        },
        {
         "25%": 0,
         "50%": 0,
         "75%": 0,
         "_deepnote_index_column": "education_ Assoc-acdm",
         "count": 32561,
         "max": 1,
         "mean": 0.032769263843248055,
         "min": 0,
         "std": 0.17803486354523163
        },
        {
         "25%": 0,
         "50%": 0,
         "75%": 0,
         "_deepnote_index_column": "education_ Assoc-voc",
         "count": 32561,
         "max": 1,
         "mean": 0.042443413900064494,
         "min": 0,
         "std": 0.20160163375910428
        },
        {
         "25%": 0,
         "50%": 0,
         "75%": 0,
         "_deepnote_index_column": "education_ Bachelors",
         "count": 32561,
         "max": 1,
         "mean": 0.16446055096587942,
         "min": 0,
         "std": 0.37069866259726925
        },
        {
         "25%": 0,
         "50%": 0,
         "75%": 0,
         "_deepnote_index_column": "education_ Doctorate",
         "count": 32561,
         "max": 1,
         "mean": 0.012683885630048217,
         "min": 0,
         "std": 0.11190795006851738
        },
        {
         "25%": 0,
         "50%": 0,
         "75%": 1,
         "_deepnote_index_column": "education_ HS-grad",
         "count": 32561,
         "max": 1,
         "mean": 0.32250238014802984,
         "min": 0,
         "std": 0.4674412321017941
        },
        {
         "25%": 0,
         "50%": 0,
         "75%": 0,
         "_deepnote_index_column": "education_ Masters",
         "count": 32561,
         "max": 1,
         "mean": 0.05291606523141181,
         "min": 0,
         "std": 0.22386936918580946
        },
        {
         "25%": 0,
         "50%": 0,
         "75%": 0,
         "_deepnote_index_column": "education_ Preschool",
         "count": 32561,
         "max": 1,
         "mean": 0.001566290961579804,
         "min": 0,
         "std": 0.039545995038899835
        },
        {
         "25%": 0,
         "50%": 0,
         "75%": 0,
         "_deepnote_index_column": "education_ Prof-school",
         "count": 32561,
         "max": 1,
         "mean": 0.0176898743896072,
         "min": 0,
         "std": 0.13182365653999478
        },
        {
         "25%": 0,
         "50%": 0,
         "75%": 0,
         "_deepnote_index_column": "education_ Some-college",
         "count": 32561,
         "max": 1,
         "mean": 0.22391818433094807,
         "min": 0,
         "std": 0.41687428350111216
        },
        {
         "25%": 0,
         "50%": 0,
         "75%": 0,
         "_deepnote_index_column": "marital-status_ Divorced",
         "count": 32561,
         "max": 1,
         "mean": 0.1364515831823347,
         "min": 0,
         "std": 0.3432727305877031
        },
        {
         "25%": 0,
         "50%": 0,
         "75%": 0,
         "_deepnote_index_column": "marital-status_ Married-AF-spouse",
         "count": 32561,
         "max": 1,
         "mean": 0.0007063665120850096,
         "min": 0,
         "std": 0.02656857612697154
        },
        {
         "25%": 0,
         "50%": 0,
         "75%": 1,
         "_deepnote_index_column": "marital-status_ Married-civ-spouse",
         "count": 32561,
         "max": 1,
         "mean": 0.4599367341297872,
         "min": 0,
         "std": 0.4984000035763185
        },
        {
         "25%": 0,
         "50%": 0,
         "75%": 0,
         "_deepnote_index_column": "marital-status_ Married-spouse-absent",
         "count": 32561,
         "max": 1,
         "mean": 0.012837443567458001,
         "min": 0,
         "std": 0.112574565595726
        },
        {
         "25%": 0,
         "50%": 0,
         "75%": 1,
         "_deepnote_index_column": "marital-status_ Never-married",
         "count": 32561,
         "max": 1,
         "mean": 0.328091889069746,
         "min": 0,
         "std": 0.46952568822176266
        },
        {
         "25%": 0,
         "50%": 0,
         "75%": 0,
         "_deepnote_index_column": "marital-status_ Separated",
         "count": 32561,
         "max": 1,
         "mean": 0.03147937716900587,
         "min": 0,
         "std": 0.17461203383151083
        },
        {
         "25%": 0,
         "50%": 0,
         "75%": 0,
         "_deepnote_index_column": "marital-status_ Widowed",
         "count": 32561,
         "max": 1,
         "mean": 0.030496606369583245,
         "min": 0,
         "std": 0.1719519451285954
        },
        {
         "25%": 0,
         "50%": 0,
         "75%": 0,
         "_deepnote_index_column": "occupation_ ?",
         "count": 32561,
         "max": 1,
         "mean": 0.056601455729246644,
         "min": 0,
         "std": 0.23108303900985075
        },
        {
         "25%": 0,
         "50%": 0,
         "75%": 0,
         "_deepnote_index_column": "occupation_ Adm-clerical",
         "count": 32561,
         "max": 1,
         "mean": 0.11578268480697768,
         "min": 0,
         "std": 0.31996905938590786
        },
        {
         "25%": 0,
         "50%": 0,
         "75%": 0,
         "_deepnote_index_column": "occupation_ Armed-Forces",
         "count": 32561,
         "max": 1,
         "mean": 0.0002764042873376125,
         "min": 0,
         "std": 0.016623368333051548
        },
        {
         "25%": 0,
         "50%": 0,
         "75%": 0,
         "_deepnote_index_column": "occupation_ Craft-repair",
         "count": 32561,
         "max": 1,
         "mean": 0.1258867970885415,
         "min": 0,
         "std": 0.3317268318859074
        },
        {
         "25%": 0,
         "50%": 0,
         "75%": 0,
         "_deepnote_index_column": "occupation_ Exec-managerial",
         "count": 32561,
         "max": 1,
         "mean": 0.12487331470163693,
         "min": 0,
         "std": 0.3305802871338475
        },
        {
         "25%": 0,
         "50%": 0,
         "75%": 0,
         "_deepnote_index_column": "occupation_ Farming-fishing",
         "count": 32561,
         "max": 1,
         "mean": 0.0305273179570652,
         "min": 0,
         "std": 0.17203578047914897
        },
        {
         "25%": 0,
         "50%": 0,
         "75%": 0,
         "_deepnote_index_column": "occupation_ Handlers-cleaners",
         "count": 32561,
         "max": 1,
         "mean": 0.04207487485028101,
         "min": 0,
         "std": 0.2007630882713698
        },
        {
         "25%": 0,
         "50%": 0,
         "75%": 0,
         "_deepnote_index_column": "occupation_ Machine-op-inspct",
         "count": 32561,
         "max": 1,
         "mean": 0.0614845981388778,
         "min": 0,
         "std": 0.24022076216241867
        },
        {
         "25%": 0,
         "50%": 0,
         "75%": 0,
         "_deepnote_index_column": "occupation_ Other-service",
         "count": 32561,
         "max": 1,
         "mean": 0.10119468075304812,
         "min": 0,
         "std": 0.3015909660079385
        },
        {
         "25%": 0,
         "50%": 0,
         "75%": 0,
         "_deepnote_index_column": "occupation_ Priv-house-serv",
         "count": 32561,
         "max": 1,
         "mean": 0.004576026534811584,
         "min": 0,
         "std": 0.06749241745706555
        },
        {
         "25%": 0,
         "50%": 0,
         "75%": 0,
         "_deepnote_index_column": "occupation_ Prof-specialty",
         "count": 32561,
         "max": 1,
         "mean": 0.12714597217530174,
         "min": 0,
         "std": 0.333141535098351
        },
        {
         "25%": 0,
         "50%": 0,
         "75%": 0,
         "_deepnote_index_column": "occupation_ Protective-serv",
         "count": 32561,
         "max": 1,
         "mean": 0.019931820275790057,
         "min": 0,
         "std": 0.13976817510266726
        },
        {
         "25%": 0,
         "50%": 0,
         "75%": 0,
         "_deepnote_index_column": "occupation_ Sales",
         "count": 32561,
         "max": 1,
         "mean": 0.11209729430914284,
         "min": 0,
         "std": 0.3154909630745133
        },
        {
         "25%": 0,
         "50%": 0,
         "75%": 0,
         "_deepnote_index_column": "occupation_ Tech-support",
         "count": 32561,
         "max": 1,
         "mean": 0.02850035318325604,
         "min": 0,
         "std": 0.1663999201405662
        },
        {
         "25%": 0,
         "50%": 0,
         "75%": 0,
         "_deepnote_index_column": "occupation_ Transport-moving",
         "count": 32561,
         "max": 1,
         "mean": 0.04904640520868524,
         "min": 0,
         "std": 0.21596825647185497
        },
        {
         "25%": 0,
         "50%": 0,
         "75%": 1,
         "_deepnote_index_column": "race_ Husband",
         "count": 32561,
         "max": 1,
         "mean": 0.40517797364945796,
         "min": 0,
         "std": 0.4909339928222905
        },
        {
         "25%": 0,
         "50%": 0,
         "75%": 1,
         "_deepnote_index_column": "race_ Not-in-family",
         "count": 32561,
         "max": 1,
         "mean": 0.2550597340376524,
         "min": 0,
         "std": 0.43590148155535424
        },
        {
         "25%": 0,
         "50%": 0,
         "75%": 0,
         "_deepnote_index_column": "race_ Other-relative",
         "count": 32561,
         "max": 1,
         "mean": 0.03012806731979976,
         "min": 0,
         "std": 0.1709422835660873
        },
        {
         "25%": 0,
         "50%": 0,
         "75%": 0,
         "_deepnote_index_column": "race_ Own-child",
         "count": 32561,
         "max": 1,
         "mean": 0.1556463253585578,
         "min": 0,
         "std": 0.3625252860401801
        },
        {
         "25%": 0,
         "50%": 0,
         "75%": 0,
         "_deepnote_index_column": "race_ Unmarried",
         "count": 32561,
         "max": 1,
         "mean": 0.10583213046282362,
         "min": 0,
         "std": 0.3076273671233237
        },
        {
         "25%": 0,
         "50%": 0,
         "75%": 0,
         "_deepnote_index_column": "race_ Wife",
         "count": 32561,
         "max": 1,
         "mean": 0.04815576917170849,
         "min": 0,
         "std": 0.21409857269735133
        },
        {
         "25%": 0,
         "50%": 0,
         "75%": 0,
         "_deepnote_index_column": "relationship_ Amer-Indian-Eskimo",
         "count": 32561,
         "max": 1,
         "mean": 0.009551303706888609,
         "min": 0,
         "std": 0.09726441716923732
        },
        {
         "25%": 0,
         "50%": 0,
         "75%": 0,
         "_deepnote_index_column": "relationship_ Asian-Pac-Islander",
         "count": 32561,
         "max": 1,
         "mean": 0.03190933939375326,
         "min": 0,
         "std": 0.1757614354689118
        },
        {
         "25%": 0,
         "50%": 0,
         "75%": 0,
         "_deepnote_index_column": "relationship_ Black",
         "count": 32561,
         "max": 1,
         "mean": 0.0959429992936335,
         "min": 0,
         "std": 0.2945175786295736
        },
        {
         "25%": 0,
         "50%": 0,
         "75%": 0,
         "_deepnote_index_column": "relationship_ Other",
         "count": 32561,
         "max": 1,
         "mean": 0.008322840207610331,
         "min": 0,
         "std": 0.09085055875737677
        },
        {
         "25%": 1,
         "50%": 1,
         "75%": 1,
         "_deepnote_index_column": "relationship_ White",
         "count": 32561,
         "max": 1,
         "mean": 0.8542735173981143,
         "min": 0,
         "std": 0.3528372121556319
        },
        {
         "25%": 0,
         "50%": 0,
         "75%": 1,
         "_deepnote_index_column": "sex_ Female",
         "count": 32561,
         "max": 1,
         "mean": 0.33079450876815825,
         "min": 0,
         "std": 0.47050642987594976
        },
        {
         "25%": 0,
         "50%": 1,
         "75%": 1,
         "_deepnote_index_column": "sex_ Male",
         "count": 32561,
         "max": 1,
         "mean": 0.6692054912318418,
         "min": 0,
         "std": 0.47050642987594976
        },
        {
         "25%": 0,
         "50%": 0,
         "75%": 0,
         "_deepnote_index_column": "native-country_ ?",
         "count": 32561,
         "max": 1,
         "mean": 0.0179048555019809,
         "min": 0,
         "std": 0.13260773623328778
        },
        {
         "25%": 0,
         "50%": 0,
         "75%": 0,
         "_deepnote_index_column": "native-country_ Cambodia",
         "count": 32561,
         "max": 1,
         "mean": 0.0005835201621571819,
         "min": 0,
         "std": 0.024149483996577494
        },
        {
         "25%": 0,
         "50%": 0,
         "75%": 0,
         "_deepnote_index_column": "native-country_ Canada",
         "count": 32561,
         "max": 1,
         "mean": 0.00371610208531679,
         "min": 0,
         "std": 0.060847402388151686
        },
        {
         "25%": 0,
         "50%": 0,
         "75%": 0,
         "_deepnote_index_column": "native-country_ China",
         "count": 32561,
         "max": 1,
         "mean": 0.002303369061146771,
         "min": 0,
         "std": 0.04793885826198145
        },
        {
         "25%": 0,
         "50%": 0,
         "75%": 0,
         "_deepnote_index_column": "native-country_ Columbia",
         "count": 32561,
         "max": 1,
         "mean": 0.0018119836614354597,
         "min": 0,
         "std": 0.042529471268897966
        },
        {
         "25%": 0,
         "50%": 0,
         "75%": 0,
         "_deepnote_index_column": "native-country_ Cuba",
         "count": 32561,
         "max": 1,
         "mean": 0.0029176008107859096,
         "min": 0,
         "std": 0.053936794136861164
        },
        {
         "25%": 0,
         "50%": 0,
         "75%": 0,
         "_deepnote_index_column": "native-country_ Dominican-Republic",
         "count": 32561,
         "max": 1,
         "mean": 0.002149811123736986,
         "min": 0,
         "std": 0.0463169010196675
        },
        {
         "25%": 0,
         "50%": 0,
         "75%": 0,
         "_deepnote_index_column": "native-country_ Ecuador",
         "count": 32561,
         "max": 1,
         "mean": 0.0008599244494947943,
         "min": 0,
         "std": 0.02931230743529114
        },
        {
         "25%": 0,
         "50%": 0,
         "75%": 0,
         "_deepnote_index_column": "native-country_ El-Salvador",
         "count": 32561,
         "max": 1,
         "mean": 0.003255428273087436,
         "min": 0,
         "std": 0.05696428808298558
        },
        {
         "25%": 0,
         "50%": 0,
         "75%": 0,
         "_deepnote_index_column": "native-country_ England",
         "count": 32561,
         "max": 1,
         "mean": 0.002764042873376125,
         "min": 0,
         "std": 0.052502262774857866
        },
        {
         "25%": 0,
         "50%": 0,
         "75%": 0,
         "_deepnote_index_column": "native-country_ France",
         "count": 32561,
         "max": 1,
         "mean": 0.0008906360369767513,
         "min": 0,
         "std": 0.02983069113766642
        },
        {
         "25%": 0,
         "50%": 0,
         "75%": 0,
         "_deepnote_index_column": "native-country_ Germany",
         "count": 32561,
         "max": 1,
         "mean": 0.004207487485028101,
         "min": 0,
         "std": 0.06472953895230224
        },
        {
         "25%": 0,
         "50%": 0,
         "75%": 0,
         "_deepnote_index_column": "native-country_ Greece",
         "count": 32561,
         "max": 1,
         "mean": 0.0008906360369767513,
         "min": 0,
         "std": 0.029830691137666416
        },
        {
         "25%": 0,
         "50%": 0,
         "75%": 0,
         "_deepnote_index_column": "native-country_ Guatemala",
         "count": 32561,
         "max": 1,
         "mean": 0.001965541598845244,
         "min": 0,
         "std": 0.04429151716945134
        },
        {
         "25%": 0,
         "50%": 0,
         "75%": 0,
         "_deepnote_index_column": "native-country_ Haiti",
         "count": 32561,
         "max": 1,
         "mean": 0.0013513098492061054,
         "min": 0,
         "std": 0.0367358851392005
        },
        {
         "25%": 0,
         "50%": 0,
         "75%": 0,
         "_deepnote_index_column": "native-country_ Holand-Netherlands",
         "count": 32561,
         "max": 1,
         "mean": 3.071158748195694e-05,
         "min": 0,
         "std": 0.005541803630764713
        },
        {
         "25%": 0,
         "50%": 0,
         "75%": 0,
         "_deepnote_index_column": "native-country_ Honduras",
         "count": 32561,
         "max": 1,
         "mean": 0.00039925063726544026,
         "min": 0,
         "std": 0.0199775747601137
        },
        {
         "25%": 0,
         "50%": 0,
         "75%": 0,
         "_deepnote_index_column": "native-country_ Hong",
         "count": 32561,
         "max": 1,
         "mean": 0.0006142317496391389,
         "min": 0,
         "std": 0.024776467101285973
        },
        {
         "25%": 0,
         "50%": 0,
         "75%": 0,
         "_deepnote_index_column": "native-country_ Hungary",
         "count": 32561,
         "max": 1,
         "mean": 0.00039925063726544026,
         "min": 0,
         "std": 0.0199775747601137
        },
        {
         "25%": 0,
         "50%": 0,
         "75%": 0,
         "_deepnote_index_column": "native-country_ India",
         "count": 32561,
         "max": 1,
         "mean": 0.0030711587481956942,
         "min": 0,
         "std": 0.055333721775381865
        },
        {
         "25%": 0,
         "50%": 0,
         "75%": 0,
         "_deepnote_index_column": "native-country_ Iran",
         "count": 32561,
         "max": 1,
         "mean": 0.0013205982617241485,
         "min": 0,
         "std": 0.03631659107498829
        },
        {
         "25%": 0,
         "50%": 0,
         "75%": 0,
         "_deepnote_index_column": "native-country_ Ireland",
         "count": 32561,
         "max": 1,
         "mean": 0.0007370780995669666,
         "min": 0,
         "std": 0.02713959167508321
        },
        {
         "25%": 0,
         "50%": 0,
         "75%": 0,
         "_deepnote_index_column": "native-country_ Italy",
         "count": 32561,
         "max": 1,
         "mean": 0.0022419458861828567,
         "min": 0,
         "std": 0.04729681031831978
        },
        {
         "25%": 0,
         "50%": 0,
         "75%": 0,
         "_deepnote_index_column": "native-country_ Jamaica",
         "count": 32561,
         "max": 1,
         "mean": 0.0024876385860385123,
         "min": 0,
         "std": 0.04981492198047169
        },
        {
         "25%": 0,
         "50%": 0,
         "75%": 0,
         "_deepnote_index_column": "native-country_ Japan",
         "count": 32561,
         "max": 1,
         "mean": 0.0019041184238813304,
         "min": 0,
         "std": 0.04359531082411653
        },
        {
         "25%": 0,
         "50%": 0,
         "75%": 0,
         "_deepnote_index_column": "native-country_ Laos",
         "count": 32561,
         "max": 1,
         "mean": 0.000552808574675225,
         "min": 0,
         "std": 0.023505742832755812
        },
        {
         "25%": 0,
         "50%": 0,
         "75%": 0,
         "_deepnote_index_column": "native-country_ Mexico",
         "count": 32561,
         "max": 1,
         "mean": 0.019747550750898315,
         "min": 0,
         "std": 0.13913367497001775
        },
        {
         "25%": 0,
         "50%": 0,
         "75%": 0,
         "_deepnote_index_column": "native-country_ Nicaragua",
         "count": 32561,
         "max": 1,
         "mean": 0.001044193974386536,
         "min": 0,
         "std": 0.032297610897445116
        },
        {
         "25%": 0,
         "50%": 0,
         "75%": 0,
         "_deepnote_index_column": "native-country_ Outlying-US(Guam-USVI-etc)",
         "count": 32561,
         "max": 1,
         "mean": 0.00042996222474739717,
         "min": 0,
         "std": 0.020731390613824514
        },
        {
         "25%": 0,
         "50%": 0,
         "75%": 0,
         "_deepnote_index_column": "native-country_ Peru",
         "count": 32561,
         "max": 1,
         "mean": 0.0009520592119406652,
         "min": 0,
         "std": 0.03084123874793389
        },
        {
         "25%": 0,
         "50%": 0,
         "75%": 0,
         "_deepnote_index_column": "native-country_ Philippines",
         "count": 32561,
         "max": 1,
         "mean": 0.006080894321427475,
         "min": 0,
         "std": 0.07774382721262824
        },
        {
         "25%": 0,
         "50%": 0,
         "75%": 0,
         "_deepnote_index_column": "native-country_ Poland",
         "count": 32561,
         "max": 1,
         "mean": 0.0018426952489174165,
         "min": 0,
         "std": 0.042887716337971074
        },
        {
         "25%": 0,
         "50%": 0,
         "75%": 0,
         "_deepnote_index_column": "native-country_ Portugal",
         "count": 32561,
         "max": 1,
         "mean": 0.001136328736832407,
         "min": 0,
         "std": 0.03369083486214234
        },
        {
         "25%": 0,
         "50%": 0,
         "75%": 0,
         "_deepnote_index_column": "native-country_ Puerto-Rico",
         "count": 32561,
         "max": 1,
         "mean": 0.0035011209729430915,
         "min": 0,
         "std": 0.05906750609846147
        },
        {
         "25%": 0,
         "50%": 0,
         "75%": 0,
         "_deepnote_index_column": "native-country_ Scotland",
         "count": 32561,
         "max": 1,
         "mean": 0.0003685390497834833,
         "min": 0,
         "std": 0.01919412783503709
        },
        {
         "25%": 0,
         "50%": 0,
         "75%": 0,
         "_deepnote_index_column": "native-country_ South",
         "count": 32561,
         "max": 1,
         "mean": 0.0024569269985565555,
         "min": 0,
         "std": 0.04950722958649905
        },
        {
         "25%": 0,
         "50%": 0,
         "75%": 0,
         "_deepnote_index_column": "native-country_ Taiwan",
         "count": 32561,
         "max": 1,
         "mean": 0.001566290961579804,
         "min": 0,
         "std": 0.039545995038899835
        },
        {
         "25%": 0,
         "50%": 0,
         "75%": 0,
         "_deepnote_index_column": "native-country_ Thailand",
         "count": 32561,
         "max": 1,
         "mean": 0.000552808574675225,
         "min": 0,
         "std": 0.023505742832755812
        },
        {
         "25%": 0,
         "50%": 0,
         "75%": 0,
         "_deepnote_index_column": "native-country_ Trinadad&Tobago",
         "count": 32561,
         "max": 1,
         "mean": 0.0005835201621571819,
         "min": 0,
         "std": 0.024149483996577494
        },
        {
         "25%": 1,
         "50%": 1,
         "75%": 1,
         "_deepnote_index_column": "native-country_ United-States",
         "count": 32561,
         "max": 1,
         "mean": 0.895857006848684,
         "min": 0,
         "std": 0.30545064334986544
        },
        {
         "25%": 0,
         "50%": 0,
         "75%": 0,
         "_deepnote_index_column": "native-country_ Vietnam",
         "count": 32561,
         "max": 1,
         "mean": 0.002057676361291115,
         "min": 0,
         "std": 0.04531561977612028
        },
        {
         "25%": 0,
         "50%": 0,
         "75%": 0,
         "_deepnote_index_column": "native-country_ Yugoslavia",
         "count": 32561,
         "max": 1,
         "mean": 0.000491385399711311,
         "min": 0,
         "std": 0.022162107850419065
        }
       ]
      },
      "text/html": [
       "<div>\n",
       "<style scoped>\n",
       "    .dataframe tbody tr th:only-of-type {\n",
       "        vertical-align: middle;\n",
       "    }\n",
       "\n",
       "    .dataframe tbody tr th {\n",
       "        vertical-align: top;\n",
       "    }\n",
       "\n",
       "    .dataframe thead th {\n",
       "        text-align: right;\n",
       "    }\n",
       "</style>\n",
       "<table border=\"1\" class=\"dataframe\">\n",
       "  <thead>\n",
       "    <tr style=\"text-align: right;\">\n",
       "      <th></th>\n",
       "      <th>count</th>\n",
       "      <th>mean</th>\n",
       "      <th>std</th>\n",
       "      <th>min</th>\n",
       "      <th>25%</th>\n",
       "      <th>50%</th>\n",
       "      <th>75%</th>\n",
       "      <th>max</th>\n",
       "    </tr>\n",
       "  </thead>\n",
       "  <tbody>\n",
       "    <tr>\n",
       "      <th>age</th>\n",
       "      <td>32561.0</td>\n",
       "      <td>38.581647</td>\n",
       "      <td>13.640433</td>\n",
       "      <td>17.0</td>\n",
       "      <td>28.0</td>\n",
       "      <td>37.0</td>\n",
       "      <td>48.0</td>\n",
       "      <td>90.0</td>\n",
       "    </tr>\n",
       "    <tr>\n",
       "      <th>fnlwgt</th>\n",
       "      <td>32561.0</td>\n",
       "      <td>189778.366512</td>\n",
       "      <td>105549.977697</td>\n",
       "      <td>12285.0</td>\n",
       "      <td>117827.0</td>\n",
       "      <td>178356.0</td>\n",
       "      <td>237051.0</td>\n",
       "      <td>1484705.0</td>\n",
       "    </tr>\n",
       "    <tr>\n",
       "      <th>education-num</th>\n",
       "      <td>32561.0</td>\n",
       "      <td>10.080679</td>\n",
       "      <td>2.572720</td>\n",
       "      <td>1.0</td>\n",
       "      <td>9.0</td>\n",
       "      <td>10.0</td>\n",
       "      <td>12.0</td>\n",
       "      <td>16.0</td>\n",
       "    </tr>\n",
       "    <tr>\n",
       "      <th>capital-gain</th>\n",
       "      <td>32561.0</td>\n",
       "      <td>1077.648844</td>\n",
       "      <td>7385.292085</td>\n",
       "      <td>0.0</td>\n",
       "      <td>0.0</td>\n",
       "      <td>0.0</td>\n",
       "      <td>0.0</td>\n",
       "      <td>99999.0</td>\n",
       "    </tr>\n",
       "    <tr>\n",
       "      <th>capital-loss</th>\n",
       "      <td>32561.0</td>\n",
       "      <td>87.303830</td>\n",
       "      <td>402.960219</td>\n",
       "      <td>0.0</td>\n",
       "      <td>0.0</td>\n",
       "      <td>0.0</td>\n",
       "      <td>0.0</td>\n",
       "      <td>4356.0</td>\n",
       "    </tr>\n",
       "    <tr>\n",
       "      <th>...</th>\n",
       "      <td>...</td>\n",
       "      <td>...</td>\n",
       "      <td>...</td>\n",
       "      <td>...</td>\n",
       "      <td>...</td>\n",
       "      <td>...</td>\n",
       "      <td>...</td>\n",
       "      <td>...</td>\n",
       "    </tr>\n",
       "    <tr>\n",
       "      <th>native-country_ Thailand</th>\n",
       "      <td>32561.0</td>\n",
       "      <td>0.000553</td>\n",
       "      <td>0.023506</td>\n",
       "      <td>0.0</td>\n",
       "      <td>0.0</td>\n",
       "      <td>0.0</td>\n",
       "      <td>0.0</td>\n",
       "      <td>1.0</td>\n",
       "    </tr>\n",
       "    <tr>\n",
       "      <th>native-country_ Trinadad&amp;Tobago</th>\n",
       "      <td>32561.0</td>\n",
       "      <td>0.000584</td>\n",
       "      <td>0.024149</td>\n",
       "      <td>0.0</td>\n",
       "      <td>0.0</td>\n",
       "      <td>0.0</td>\n",
       "      <td>0.0</td>\n",
       "      <td>1.0</td>\n",
       "    </tr>\n",
       "    <tr>\n",
       "      <th>native-country_ United-States</th>\n",
       "      <td>32561.0</td>\n",
       "      <td>0.895857</td>\n",
       "      <td>0.305451</td>\n",
       "      <td>0.0</td>\n",
       "      <td>1.0</td>\n",
       "      <td>1.0</td>\n",
       "      <td>1.0</td>\n",
       "      <td>1.0</td>\n",
       "    </tr>\n",
       "    <tr>\n",
       "      <th>native-country_ Vietnam</th>\n",
       "      <td>32561.0</td>\n",
       "      <td>0.002058</td>\n",
       "      <td>0.045316</td>\n",
       "      <td>0.0</td>\n",
       "      <td>0.0</td>\n",
       "      <td>0.0</td>\n",
       "      <td>0.0</td>\n",
       "      <td>1.0</td>\n",
       "    </tr>\n",
       "    <tr>\n",
       "      <th>native-country_ Yugoslavia</th>\n",
       "      <td>32561.0</td>\n",
       "      <td>0.000491</td>\n",
       "      <td>0.022162</td>\n",
       "      <td>0.0</td>\n",
       "      <td>0.0</td>\n",
       "      <td>0.0</td>\n",
       "      <td>0.0</td>\n",
       "      <td>1.0</td>\n",
       "    </tr>\n",
       "  </tbody>\n",
       "</table>\n",
       "<p>108 rows × 8 columns</p>\n",
       "</div>"
      ],
      "text/plain": [
       "                                   count           mean            std  \\\n",
       "age                              32561.0      38.581647      13.640433   \n",
       "fnlwgt                           32561.0  189778.366512  105549.977697   \n",
       "education-num                    32561.0      10.080679       2.572720   \n",
       "capital-gain                     32561.0    1077.648844    7385.292085   \n",
       "capital-loss                     32561.0      87.303830     402.960219   \n",
       "...                                  ...            ...            ...   \n",
       "native-country_ Thailand         32561.0       0.000553       0.023506   \n",
       "native-country_ Trinadad&Tobago  32561.0       0.000584       0.024149   \n",
       "native-country_ United-States    32561.0       0.895857       0.305451   \n",
       "native-country_ Vietnam          32561.0       0.002058       0.045316   \n",
       "native-country_ Yugoslavia       32561.0       0.000491       0.022162   \n",
       "\n",
       "                                     min       25%       50%       75%  \\\n",
       "age                                 17.0      28.0      37.0      48.0   \n",
       "fnlwgt                           12285.0  117827.0  178356.0  237051.0   \n",
       "education-num                        1.0       9.0      10.0      12.0   \n",
       "capital-gain                         0.0       0.0       0.0       0.0   \n",
       "capital-loss                         0.0       0.0       0.0       0.0   \n",
       "...                                  ...       ...       ...       ...   \n",
       "native-country_ Thailand             0.0       0.0       0.0       0.0   \n",
       "native-country_ Trinadad&Tobago      0.0       0.0       0.0       0.0   \n",
       "native-country_ United-States        0.0       1.0       1.0       1.0   \n",
       "native-country_ Vietnam              0.0       0.0       0.0       0.0   \n",
       "native-country_ Yugoslavia           0.0       0.0       0.0       0.0   \n",
       "\n",
       "                                       max  \n",
       "age                                   90.0  \n",
       "fnlwgt                           1484705.0  \n",
       "education-num                         16.0  \n",
       "capital-gain                       99999.0  \n",
       "capital-loss                        4356.0  \n",
       "...                                    ...  \n",
       "native-country_ Thailand               1.0  \n",
       "native-country_ Trinadad&Tobago        1.0  \n",
       "native-country_ United-States          1.0  \n",
       "native-country_ Vietnam                1.0  \n",
       "native-country_ Yugoslavia             1.0  \n",
       "\n",
       "[108 rows x 8 columns]"
      ]
     },
     "execution_count": 11,
     "metadata": {},
     "output_type": "execute_result"
    }
   ],
   "source": [
    "data_stats = data.describe().transpose()\n",
    "data_stats"
   ]
  },
  {
   "cell_type": "code",
   "execution_count": 12,
   "metadata": {
    "cell_id": "00013-0f0dbbc0-9a1e-4d1d-85c1-2ca38e073357",
    "deepnote_cell_type": "code",
    "deepnote_to_be_reexecuted": false,
    "execution_millis": 170391,
    "execution_start": 1620123939316,
    "source_hash": "3635ca09",
    "tags": []
   },
   "outputs": [],
   "source": [
    "compare = data['label'][0]\n",
    "data['label'] = data['label'].apply(lambda x: 0 if x is not compare else 1)\n",
    "labels = data.pop('label')"
   ]
  },
  {
   "cell_type": "code",
   "execution_count": 13,
   "metadata": {
    "cell_id": "00014-c13a3768-b216-43e5-9b14-71b126c8c2ae",
    "deepnote_cell_type": "code",
    "deepnote_to_be_reexecuted": false,
    "execution_millis": 713,
    "execution_start": 1620123939316,
    "source_hash": "d786443f",
    "tags": []
   },
   "outputs": [
    {
     "data": {
      "application/vnd.deepnote.dataframe.v2+json": {
       "column_count": 108,
       "columns": [
        {
         "dtype": "float64",
         "name": "age",
         "stats": {
          "histogram": [
           {
            "bin_end": 3268.3763892982233,
            "bin_start": 13.640432553581341,
            "count": 7
           },
           {
            "bin_end": 6523.112346042865,
            "bin_start": 3268.3763892982233,
            "count": 0
           },
           {
            "bin_end": 9777.848302787506,
            "bin_start": 6523.112346042865,
            "count": 0
           },
           {
            "bin_end": 13032.584259532148,
            "bin_start": 9777.848302787506,
            "count": 0
           },
           {
            "bin_end": 16287.32021627679,
            "bin_start": 13032.584259532148,
            "count": 0
           },
           {
            "bin_end": 19542.056173021432,
            "bin_start": 16287.32021627679,
            "count": 0
           },
           {
            "bin_end": 22796.792129766076,
            "bin_start": 19542.056173021432,
            "count": 0
           },
           {
            "bin_end": 26051.528086510716,
            "bin_start": 22796.792129766076,
            "count": 0
           },
           {
            "bin_end": 29306.264043255356,
            "bin_start": 26051.528086510716,
            "count": 0
           },
           {
            "bin_end": 32561,
            "bin_start": 29306.264043255356,
            "count": 1
           }
          ],
          "max": "32561.0",
          "min": "13.640432553581341",
          "nan_count": 0,
          "unique_count": 8
         }
        },
        {
         "dtype": "float64",
         "name": "fnlwgt",
         "stats": {
          "histogram": [
           {
            "bin_end": 159527,
            "bin_start": 12285,
            "count": 4
           },
           {
            "bin_end": 306769,
            "bin_start": 159527,
            "count": 3
           },
           {
            "bin_end": 454011,
            "bin_start": 306769,
            "count": 0
           },
           {
            "bin_end": 601253,
            "bin_start": 454011,
            "count": 0
           },
           {
            "bin_end": 748495,
            "bin_start": 601253,
            "count": 0
           },
           {
            "bin_end": 895737,
            "bin_start": 748495,
            "count": 0
           },
           {
            "bin_end": 1042979,
            "bin_start": 895737,
            "count": 0
           },
           {
            "bin_end": 1190221,
            "bin_start": 1042979,
            "count": 0
           },
           {
            "bin_end": 1337463,
            "bin_start": 1190221,
            "count": 0
           },
           {
            "bin_end": 1484705,
            "bin_start": 1337463,
            "count": 1
           }
          ],
          "max": "1484705.0",
          "min": "12285.0",
          "nan_count": 0,
          "unique_count": 8
         }
        },
        {
         "dtype": "float64",
         "name": "education-num",
         "stats": {
          "histogram": [
           {
            "bin_end": 3257,
            "bin_start": 1,
            "count": 7
           },
           {
            "bin_end": 6513,
            "bin_start": 3257,
            "count": 0
           },
           {
            "bin_end": 9769,
            "bin_start": 6513,
            "count": 0
           },
           {
            "bin_end": 13025,
            "bin_start": 9769,
            "count": 0
           },
           {
            "bin_end": 16281,
            "bin_start": 13025,
            "count": 0
           },
           {
            "bin_end": 19537,
            "bin_start": 16281,
            "count": 0
           },
           {
            "bin_end": 22793,
            "bin_start": 19537,
            "count": 0
           },
           {
            "bin_end": 26049,
            "bin_start": 22793,
            "count": 0
           },
           {
            "bin_end": 29305,
            "bin_start": 26049,
            "count": 0
           },
           {
            "bin_end": 32561,
            "bin_start": 29305,
            "count": 1
           }
          ],
          "max": "32561.0",
          "min": "1.0",
          "nan_count": 0,
          "unique_count": 8
         }
        },
        {
         "dtype": "float64",
         "name": "capital-gain",
         "stats": {
          "histogram": [
           {
            "bin_end": 9999.9,
            "bin_start": 0,
            "count": 6
           },
           {
            "bin_end": 19999.8,
            "bin_start": 9999.9,
            "count": 0
           },
           {
            "bin_end": 29999.699999999997,
            "bin_start": 19999.8,
            "count": 0
           },
           {
            "bin_end": 39999.6,
            "bin_start": 29999.699999999997,
            "count": 1
           },
           {
            "bin_end": 49999.5,
            "bin_start": 39999.6,
            "count": 0
           },
           {
            "bin_end": 59999.399999999994,
            "bin_start": 49999.5,
            "count": 0
           },
           {
            "bin_end": 69999.3,
            "bin_start": 59999.399999999994,
            "count": 0
           },
           {
            "bin_end": 79999.2,
            "bin_start": 69999.3,
            "count": 0
           },
           {
            "bin_end": 89999.09999999999,
            "bin_start": 79999.2,
            "count": 0
           },
           {
            "bin_end": 99999,
            "bin_start": 89999.09999999999,
            "count": 1
           }
          ],
          "max": "99999.0",
          "min": "0.0",
          "nan_count": 0,
          "unique_count": 5
         }
        },
        {
         "dtype": "float64",
         "name": "capital-loss",
         "stats": {
          "histogram": [
           {
            "bin_end": 3256.1,
            "bin_start": 0,
            "count": 6
           },
           {
            "bin_end": 6512.2,
            "bin_start": 3256.1,
            "count": 1
           },
           {
            "bin_end": 9768.3,
            "bin_start": 6512.2,
            "count": 0
           },
           {
            "bin_end": 13024.4,
            "bin_start": 9768.3,
            "count": 0
           },
           {
            "bin_end": 16280.5,
            "bin_start": 13024.4,
            "count": 0
           },
           {
            "bin_end": 19536.6,
            "bin_start": 16280.5,
            "count": 0
           },
           {
            "bin_end": 22792.7,
            "bin_start": 19536.6,
            "count": 0
           },
           {
            "bin_end": 26048.8,
            "bin_start": 22792.7,
            "count": 0
           },
           {
            "bin_end": 29304.899999999998,
            "bin_start": 26048.8,
            "count": 0
           },
           {
            "bin_end": 32561,
            "bin_start": 29304.899999999998,
            "count": 1
           }
          ],
          "max": "32561.0",
          "min": "0.0",
          "nan_count": 0,
          "unique_count": 5
         }
        },
        {
         "dtype": "float64",
         "name": "hours-per-week",
         "stats": {
          "histogram": [
           {
            "bin_end": 3257,
            "bin_start": 1,
            "count": 7
           },
           {
            "bin_end": 6513,
            "bin_start": 3257,
            "count": 0
           },
           {
            "bin_end": 9769,
            "bin_start": 6513,
            "count": 0
           },
           {
            "bin_end": 13025,
            "bin_start": 9769,
            "count": 0
           },
           {
            "bin_end": 16281,
            "bin_start": 13025,
            "count": 0
           },
           {
            "bin_end": 19537,
            "bin_start": 16281,
            "count": 0
           },
           {
            "bin_end": 22793,
            "bin_start": 19537,
            "count": 0
           },
           {
            "bin_end": 26049,
            "bin_start": 22793,
            "count": 0
           },
           {
            "bin_end": 29305,
            "bin_start": 26049,
            "count": 0
           },
           {
            "bin_end": 32561,
            "bin_start": 29305,
            "count": 1
           }
          ],
          "max": "32561.0",
          "min": "1.0",
          "nan_count": 0,
          "unique_count": 7
         }
        },
        {
         "dtype": "float64",
         "name": "workclass_ ?",
         "stats": {
          "histogram": [
           {
            "bin_end": 3256.1,
            "bin_start": 0,
            "count": 7
           },
           {
            "bin_end": 6512.2,
            "bin_start": 3256.1,
            "count": 0
           },
           {
            "bin_end": 9768.3,
            "bin_start": 6512.2,
            "count": 0
           },
           {
            "bin_end": 13024.4,
            "bin_start": 9768.3,
            "count": 0
           },
           {
            "bin_end": 16280.5,
            "bin_start": 13024.4,
            "count": 0
           },
           {
            "bin_end": 19536.6,
            "bin_start": 16280.5,
            "count": 0
           },
           {
            "bin_end": 22792.7,
            "bin_start": 19536.6,
            "count": 0
           },
           {
            "bin_end": 26048.8,
            "bin_start": 22792.7,
            "count": 0
           },
           {
            "bin_end": 29304.899999999998,
            "bin_start": 26048.8,
            "count": 0
           },
           {
            "bin_end": 32561,
            "bin_start": 29304.899999999998,
            "count": 1
           }
          ],
          "max": "32561.0",
          "min": "0.0",
          "nan_count": 0,
          "unique_count": 5
         }
        },
        {
         "dtype": "float64",
         "name": "workclass_ Federal-gov",
         "stats": {
          "histogram": [
           {
            "bin_end": 3256.1,
            "bin_start": 0,
            "count": 7
           },
           {
            "bin_end": 6512.2,
            "bin_start": 3256.1,
            "count": 0
           },
           {
            "bin_end": 9768.3,
            "bin_start": 6512.2,
            "count": 0
           },
           {
            "bin_end": 13024.4,
            "bin_start": 9768.3,
            "count": 0
           },
           {
            "bin_end": 16280.5,
            "bin_start": 13024.4,
            "count": 0
           },
           {
            "bin_end": 19536.6,
            "bin_start": 16280.5,
            "count": 0
           },
           {
            "bin_end": 22792.7,
            "bin_start": 19536.6,
            "count": 0
           },
           {
            "bin_end": 26048.8,
            "bin_start": 22792.7,
            "count": 0
           },
           {
            "bin_end": 29304.899999999998,
            "bin_start": 26048.8,
            "count": 0
           },
           {
            "bin_end": 32561,
            "bin_start": 29304.899999999998,
            "count": 1
           }
          ],
          "max": "32561.0",
          "min": "0.0",
          "nan_count": 0,
          "unique_count": 5
         }
        },
        {
         "dtype": "float64",
         "name": "workclass_ Local-gov",
         "stats": {
          "histogram": [
           {
            "bin_end": 3256.1,
            "bin_start": 0,
            "count": 7
           },
           {
            "bin_end": 6512.2,
            "bin_start": 3256.1,
            "count": 0
           },
           {
            "bin_end": 9768.3,
            "bin_start": 6512.2,
            "count": 0
           },
           {
            "bin_end": 13024.4,
            "bin_start": 9768.3,
            "count": 0
           },
           {
            "bin_end": 16280.5,
            "bin_start": 13024.4,
            "count": 0
           },
           {
            "bin_end": 19536.6,
            "bin_start": 16280.5,
            "count": 0
           },
           {
            "bin_end": 22792.7,
            "bin_start": 19536.6,
            "count": 0
           },
           {
            "bin_end": 26048.8,
            "bin_start": 22792.7,
            "count": 0
           },
           {
            "bin_end": 29304.899999999998,
            "bin_start": 26048.8,
            "count": 0
           },
           {
            "bin_end": 32561,
            "bin_start": 29304.899999999998,
            "count": 1
           }
          ],
          "max": "32561.0",
          "min": "0.0",
          "nan_count": 0,
          "unique_count": 5
         }
        },
        {
         "dtype": "float64",
         "name": "workclass_ Never-worked",
         "stats": {
          "histogram": [
           {
            "bin_end": 3256.1,
            "bin_start": 0,
            "count": 7
           },
           {
            "bin_end": 6512.2,
            "bin_start": 3256.1,
            "count": 0
           },
           {
            "bin_end": 9768.3,
            "bin_start": 6512.2,
            "count": 0
           },
           {
            "bin_end": 13024.4,
            "bin_start": 9768.3,
            "count": 0
           },
           {
            "bin_end": 16280.5,
            "bin_start": 13024.4,
            "count": 0
           },
           {
            "bin_end": 19536.6,
            "bin_start": 16280.5,
            "count": 0
           },
           {
            "bin_end": 22792.7,
            "bin_start": 19536.6,
            "count": 0
           },
           {
            "bin_end": 26048.8,
            "bin_start": 22792.7,
            "count": 0
           },
           {
            "bin_end": 29304.899999999998,
            "bin_start": 26048.8,
            "count": 0
           },
           {
            "bin_end": 32561,
            "bin_start": 29304.899999999998,
            "count": 1
           }
          ],
          "max": "32561.0",
          "min": "0.0",
          "nan_count": 0,
          "unique_count": 5
         }
        },
        {
         "dtype": "float64",
         "name": "workclass_ Private",
         "stats": {
          "histogram": [
           {
            "bin_end": 3256.1,
            "bin_start": 0,
            "count": 7
           },
           {
            "bin_end": 6512.2,
            "bin_start": 3256.1,
            "count": 0
           },
           {
            "bin_end": 9768.3,
            "bin_start": 6512.2,
            "count": 0
           },
           {
            "bin_end": 13024.4,
            "bin_start": 9768.3,
            "count": 0
           },
           {
            "bin_end": 16280.5,
            "bin_start": 13024.4,
            "count": 0
           },
           {
            "bin_end": 19536.6,
            "bin_start": 16280.5,
            "count": 0
           },
           {
            "bin_end": 22792.7,
            "bin_start": 19536.6,
            "count": 0
           },
           {
            "bin_end": 26048.8,
            "bin_start": 22792.7,
            "count": 0
           },
           {
            "bin_end": 29304.899999999998,
            "bin_start": 26048.8,
            "count": 0
           },
           {
            "bin_end": 32561,
            "bin_start": 29304.899999999998,
            "count": 1
           }
          ],
          "max": "32561.0",
          "min": "0.0",
          "nan_count": 0,
          "unique_count": 5
         }
        },
        {
         "dtype": "float64",
         "name": "workclass_ Self-emp-inc",
         "stats": {
          "histogram": [
           {
            "bin_end": 3256.1,
            "bin_start": 0,
            "count": 7
           },
           {
            "bin_end": 6512.2,
            "bin_start": 3256.1,
            "count": 0
           },
           {
            "bin_end": 9768.3,
            "bin_start": 6512.2,
            "count": 0
           },
           {
            "bin_end": 13024.4,
            "bin_start": 9768.3,
            "count": 0
           },
           {
            "bin_end": 16280.5,
            "bin_start": 13024.4,
            "count": 0
           },
           {
            "bin_end": 19536.6,
            "bin_start": 16280.5,
            "count": 0
           },
           {
            "bin_end": 22792.7,
            "bin_start": 19536.6,
            "count": 0
           },
           {
            "bin_end": 26048.8,
            "bin_start": 22792.7,
            "count": 0
           },
           {
            "bin_end": 29304.899999999998,
            "bin_start": 26048.8,
            "count": 0
           },
           {
            "bin_end": 32561,
            "bin_start": 29304.899999999998,
            "count": 1
           }
          ],
          "max": "32561.0",
          "min": "0.0",
          "nan_count": 0,
          "unique_count": 5
         }
        },
        {
         "dtype": "float64",
         "name": "workclass_ Self-emp-not-inc",
         "stats": {
          "histogram": [
           {
            "bin_end": 3256.1,
            "bin_start": 0,
            "count": 7
           },
           {
            "bin_end": 6512.2,
            "bin_start": 3256.1,
            "count": 0
           },
           {
            "bin_end": 9768.3,
            "bin_start": 6512.2,
            "count": 0
           },
           {
            "bin_end": 13024.4,
            "bin_start": 9768.3,
            "count": 0
           },
           {
            "bin_end": 16280.5,
            "bin_start": 13024.4,
            "count": 0
           },
           {
            "bin_end": 19536.6,
            "bin_start": 16280.5,
            "count": 0
           },
           {
            "bin_end": 22792.7,
            "bin_start": 19536.6,
            "count": 0
           },
           {
            "bin_end": 26048.8,
            "bin_start": 22792.7,
            "count": 0
           },
           {
            "bin_end": 29304.899999999998,
            "bin_start": 26048.8,
            "count": 0
           },
           {
            "bin_end": 32561,
            "bin_start": 29304.899999999998,
            "count": 1
           }
          ],
          "max": "32561.0",
          "min": "0.0",
          "nan_count": 0,
          "unique_count": 5
         }
        },
        {
         "dtype": "float64",
         "name": "workclass_ State-gov",
         "stats": {
          "histogram": [
           {
            "bin_end": 3256.1,
            "bin_start": 0,
            "count": 7
           },
           {
            "bin_end": 6512.2,
            "bin_start": 3256.1,
            "count": 0
           },
           {
            "bin_end": 9768.3,
            "bin_start": 6512.2,
            "count": 0
           },
           {
            "bin_end": 13024.4,
            "bin_start": 9768.3,
            "count": 0
           },
           {
            "bin_end": 16280.5,
            "bin_start": 13024.4,
            "count": 0
           },
           {
            "bin_end": 19536.6,
            "bin_start": 16280.5,
            "count": 0
           },
           {
            "bin_end": 22792.7,
            "bin_start": 19536.6,
            "count": 0
           },
           {
            "bin_end": 26048.8,
            "bin_start": 22792.7,
            "count": 0
           },
           {
            "bin_end": 29304.899999999998,
            "bin_start": 26048.8,
            "count": 0
           },
           {
            "bin_end": 32561,
            "bin_start": 29304.899999999998,
            "count": 1
           }
          ],
          "max": "32561.0",
          "min": "0.0",
          "nan_count": 0,
          "unique_count": 5
         }
        },
        {
         "dtype": "float64",
         "name": "workclass_ Without-pay",
         "stats": {
          "histogram": [
           {
            "bin_end": 3256.1,
            "bin_start": 0,
            "count": 7
           },
           {
            "bin_end": 6512.2,
            "bin_start": 3256.1,
            "count": 0
           },
           {
            "bin_end": 9768.3,
            "bin_start": 6512.2,
            "count": 0
           },
           {
            "bin_end": 13024.4,
            "bin_start": 9768.3,
            "count": 0
           },
           {
            "bin_end": 16280.5,
            "bin_start": 13024.4,
            "count": 0
           },
           {
            "bin_end": 19536.6,
            "bin_start": 16280.5,
            "count": 0
           },
           {
            "bin_end": 22792.7,
            "bin_start": 19536.6,
            "count": 0
           },
           {
            "bin_end": 26048.8,
            "bin_start": 22792.7,
            "count": 0
           },
           {
            "bin_end": 29304.899999999998,
            "bin_start": 26048.8,
            "count": 0
           },
           {
            "bin_end": 32561,
            "bin_start": 29304.899999999998,
            "count": 1
           }
          ],
          "max": "32561.0",
          "min": "0.0",
          "nan_count": 0,
          "unique_count": 5
         }
        },
        {
         "dtype": "float64",
         "name": "education_ 10th",
         "stats": {
          "histogram": [
           {
            "bin_end": 3256.1,
            "bin_start": 0,
            "count": 7
           },
           {
            "bin_end": 6512.2,
            "bin_start": 3256.1,
            "count": 0
           },
           {
            "bin_end": 9768.3,
            "bin_start": 6512.2,
            "count": 0
           },
           {
            "bin_end": 13024.4,
            "bin_start": 9768.3,
            "count": 0
           },
           {
            "bin_end": 16280.5,
            "bin_start": 13024.4,
            "count": 0
           },
           {
            "bin_end": 19536.6,
            "bin_start": 16280.5,
            "count": 0
           },
           {
            "bin_end": 22792.7,
            "bin_start": 19536.6,
            "count": 0
           },
           {
            "bin_end": 26048.8,
            "bin_start": 22792.7,
            "count": 0
           },
           {
            "bin_end": 29304.899999999998,
            "bin_start": 26048.8,
            "count": 0
           },
           {
            "bin_end": 32561,
            "bin_start": 29304.899999999998,
            "count": 1
           }
          ],
          "max": "32561.0",
          "min": "0.0",
          "nan_count": 0,
          "unique_count": 5
         }
        },
        {
         "dtype": "float64",
         "name": "education_ 11th",
         "stats": {
          "histogram": [
           {
            "bin_end": 3256.1,
            "bin_start": 0,
            "count": 7
           },
           {
            "bin_end": 6512.2,
            "bin_start": 3256.1,
            "count": 0
           },
           {
            "bin_end": 9768.3,
            "bin_start": 6512.2,
            "count": 0
           },
           {
            "bin_end": 13024.4,
            "bin_start": 9768.3,
            "count": 0
           },
           {
            "bin_end": 16280.5,
            "bin_start": 13024.4,
            "count": 0
           },
           {
            "bin_end": 19536.6,
            "bin_start": 16280.5,
            "count": 0
           },
           {
            "bin_end": 22792.7,
            "bin_start": 19536.6,
            "count": 0
           },
           {
            "bin_end": 26048.8,
            "bin_start": 22792.7,
            "count": 0
           },
           {
            "bin_end": 29304.899999999998,
            "bin_start": 26048.8,
            "count": 0
           },
           {
            "bin_end": 32561,
            "bin_start": 29304.899999999998,
            "count": 1
           }
          ],
          "max": "32561.0",
          "min": "0.0",
          "nan_count": 0,
          "unique_count": 5
         }
        },
        {
         "dtype": "float64",
         "name": "education_ 12th",
         "stats": {
          "histogram": [
           {
            "bin_end": 3256.1,
            "bin_start": 0,
            "count": 7
           },
           {
            "bin_end": 6512.2,
            "bin_start": 3256.1,
            "count": 0
           },
           {
            "bin_end": 9768.3,
            "bin_start": 6512.2,
            "count": 0
           },
           {
            "bin_end": 13024.4,
            "bin_start": 9768.3,
            "count": 0
           },
           {
            "bin_end": 16280.5,
            "bin_start": 13024.4,
            "count": 0
           },
           {
            "bin_end": 19536.6,
            "bin_start": 16280.5,
            "count": 0
           },
           {
            "bin_end": 22792.7,
            "bin_start": 19536.6,
            "count": 0
           },
           {
            "bin_end": 26048.8,
            "bin_start": 22792.7,
            "count": 0
           },
           {
            "bin_end": 29304.899999999998,
            "bin_start": 26048.8,
            "count": 0
           },
           {
            "bin_end": 32561,
            "bin_start": 29304.899999999998,
            "count": 1
           }
          ],
          "max": "32561.0",
          "min": "0.0",
          "nan_count": 0,
          "unique_count": 5
         }
        },
        {
         "dtype": "float64",
         "name": "education_ 1st-4th",
         "stats": {
          "histogram": [
           {
            "bin_end": 3256.1,
            "bin_start": 0,
            "count": 7
           },
           {
            "bin_end": 6512.2,
            "bin_start": 3256.1,
            "count": 0
           },
           {
            "bin_end": 9768.3,
            "bin_start": 6512.2,
            "count": 0
           },
           {
            "bin_end": 13024.4,
            "bin_start": 9768.3,
            "count": 0
           },
           {
            "bin_end": 16280.5,
            "bin_start": 13024.4,
            "count": 0
           },
           {
            "bin_end": 19536.6,
            "bin_start": 16280.5,
            "count": 0
           },
           {
            "bin_end": 22792.7,
            "bin_start": 19536.6,
            "count": 0
           },
           {
            "bin_end": 26048.8,
            "bin_start": 22792.7,
            "count": 0
           },
           {
            "bin_end": 29304.899999999998,
            "bin_start": 26048.8,
            "count": 0
           },
           {
            "bin_end": 32561,
            "bin_start": 29304.899999999998,
            "count": 1
           }
          ],
          "max": "32561.0",
          "min": "0.0",
          "nan_count": 0,
          "unique_count": 5
         }
        },
        {
         "dtype": "float64",
         "name": "education_ 5th-6th",
         "stats": {
          "histogram": [
           {
            "bin_end": 3256.1,
            "bin_start": 0,
            "count": 7
           },
           {
            "bin_end": 6512.2,
            "bin_start": 3256.1,
            "count": 0
           },
           {
            "bin_end": 9768.3,
            "bin_start": 6512.2,
            "count": 0
           },
           {
            "bin_end": 13024.4,
            "bin_start": 9768.3,
            "count": 0
           },
           {
            "bin_end": 16280.5,
            "bin_start": 13024.4,
            "count": 0
           },
           {
            "bin_end": 19536.6,
            "bin_start": 16280.5,
            "count": 0
           },
           {
            "bin_end": 22792.7,
            "bin_start": 19536.6,
            "count": 0
           },
           {
            "bin_end": 26048.8,
            "bin_start": 22792.7,
            "count": 0
           },
           {
            "bin_end": 29304.899999999998,
            "bin_start": 26048.8,
            "count": 0
           },
           {
            "bin_end": 32561,
            "bin_start": 29304.899999999998,
            "count": 1
           }
          ],
          "max": "32561.0",
          "min": "0.0",
          "nan_count": 0,
          "unique_count": 5
         }
        },
        {
         "dtype": "float64",
         "name": "education_ 7th-8th",
         "stats": {
          "histogram": [
           {
            "bin_end": 3256.1,
            "bin_start": 0,
            "count": 7
           },
           {
            "bin_end": 6512.2,
            "bin_start": 3256.1,
            "count": 0
           },
           {
            "bin_end": 9768.3,
            "bin_start": 6512.2,
            "count": 0
           },
           {
            "bin_end": 13024.4,
            "bin_start": 9768.3,
            "count": 0
           },
           {
            "bin_end": 16280.5,
            "bin_start": 13024.4,
            "count": 0
           },
           {
            "bin_end": 19536.6,
            "bin_start": 16280.5,
            "count": 0
           },
           {
            "bin_end": 22792.7,
            "bin_start": 19536.6,
            "count": 0
           },
           {
            "bin_end": 26048.8,
            "bin_start": 22792.7,
            "count": 0
           },
           {
            "bin_end": 29304.899999999998,
            "bin_start": 26048.8,
            "count": 0
           },
           {
            "bin_end": 32561,
            "bin_start": 29304.899999999998,
            "count": 1
           }
          ],
          "max": "32561.0",
          "min": "0.0",
          "nan_count": 0,
          "unique_count": 5
         }
        },
        {
         "dtype": "float64",
         "name": "education_ 9th",
         "stats": {
          "histogram": [
           {
            "bin_end": 3256.1,
            "bin_start": 0,
            "count": 7
           },
           {
            "bin_end": 6512.2,
            "bin_start": 3256.1,
            "count": 0
           },
           {
            "bin_end": 9768.3,
            "bin_start": 6512.2,
            "count": 0
           },
           {
            "bin_end": 13024.4,
            "bin_start": 9768.3,
            "count": 0
           },
           {
            "bin_end": 16280.5,
            "bin_start": 13024.4,
            "count": 0
           },
           {
            "bin_end": 19536.6,
            "bin_start": 16280.5,
            "count": 0
           },
           {
            "bin_end": 22792.7,
            "bin_start": 19536.6,
            "count": 0
           },
           {
            "bin_end": 26048.8,
            "bin_start": 22792.7,
            "count": 0
           },
           {
            "bin_end": 29304.899999999998,
            "bin_start": 26048.8,
            "count": 0
           },
           {
            "bin_end": 32561,
            "bin_start": 29304.899999999998,
            "count": 1
           }
          ],
          "max": "32561.0",
          "min": "0.0",
          "nan_count": 0,
          "unique_count": 5
         }
        },
        {
         "dtype": "float64",
         "name": "education_ Assoc-acdm",
         "stats": {
          "histogram": [
           {
            "bin_end": 3256.1,
            "bin_start": 0,
            "count": 7
           },
           {
            "bin_end": 6512.2,
            "bin_start": 3256.1,
            "count": 0
           },
           {
            "bin_end": 9768.3,
            "bin_start": 6512.2,
            "count": 0
           },
           {
            "bin_end": 13024.4,
            "bin_start": 9768.3,
            "count": 0
           },
           {
            "bin_end": 16280.5,
            "bin_start": 13024.4,
            "count": 0
           },
           {
            "bin_end": 19536.6,
            "bin_start": 16280.5,
            "count": 0
           },
           {
            "bin_end": 22792.7,
            "bin_start": 19536.6,
            "count": 0
           },
           {
            "bin_end": 26048.8,
            "bin_start": 22792.7,
            "count": 0
           },
           {
            "bin_end": 29304.899999999998,
            "bin_start": 26048.8,
            "count": 0
           },
           {
            "bin_end": 32561,
            "bin_start": 29304.899999999998,
            "count": 1
           }
          ],
          "max": "32561.0",
          "min": "0.0",
          "nan_count": 0,
          "unique_count": 5
         }
        },
        {
         "dtype": "float64",
         "name": "education_ Assoc-voc",
         "stats": {
          "histogram": [
           {
            "bin_end": 3256.1,
            "bin_start": 0,
            "count": 7
           },
           {
            "bin_end": 6512.2,
            "bin_start": 3256.1,
            "count": 0
           },
           {
            "bin_end": 9768.3,
            "bin_start": 6512.2,
            "count": 0
           },
           {
            "bin_end": 13024.4,
            "bin_start": 9768.3,
            "count": 0
           },
           {
            "bin_end": 16280.5,
            "bin_start": 13024.4,
            "count": 0
           },
           {
            "bin_end": 19536.6,
            "bin_start": 16280.5,
            "count": 0
           },
           {
            "bin_end": 22792.7,
            "bin_start": 19536.6,
            "count": 0
           },
           {
            "bin_end": 26048.8,
            "bin_start": 22792.7,
            "count": 0
           },
           {
            "bin_end": 29304.899999999998,
            "bin_start": 26048.8,
            "count": 0
           },
           {
            "bin_end": 32561,
            "bin_start": 29304.899999999998,
            "count": 1
           }
          ],
          "max": "32561.0",
          "min": "0.0",
          "nan_count": 0,
          "unique_count": 5
         }
        },
        {
         "dtype": "float64",
         "name": "education_ Bachelors",
         "stats": {
          "histogram": [
           {
            "bin_end": 3256.1,
            "bin_start": 0,
            "count": 7
           },
           {
            "bin_end": 6512.2,
            "bin_start": 3256.1,
            "count": 0
           },
           {
            "bin_end": 9768.3,
            "bin_start": 6512.2,
            "count": 0
           },
           {
            "bin_end": 13024.4,
            "bin_start": 9768.3,
            "count": 0
           },
           {
            "bin_end": 16280.5,
            "bin_start": 13024.4,
            "count": 0
           },
           {
            "bin_end": 19536.6,
            "bin_start": 16280.5,
            "count": 0
           },
           {
            "bin_end": 22792.7,
            "bin_start": 19536.6,
            "count": 0
           },
           {
            "bin_end": 26048.8,
            "bin_start": 22792.7,
            "count": 0
           },
           {
            "bin_end": 29304.899999999998,
            "bin_start": 26048.8,
            "count": 0
           },
           {
            "bin_end": 32561,
            "bin_start": 29304.899999999998,
            "count": 1
           }
          ],
          "max": "32561.0",
          "min": "0.0",
          "nan_count": 0,
          "unique_count": 5
         }
        },
        {
         "dtype": "float64",
         "name": "education_ Doctorate",
         "stats": {
          "histogram": [
           {
            "bin_end": 3256.1,
            "bin_start": 0,
            "count": 7
           },
           {
            "bin_end": 6512.2,
            "bin_start": 3256.1,
            "count": 0
           },
           {
            "bin_end": 9768.3,
            "bin_start": 6512.2,
            "count": 0
           },
           {
            "bin_end": 13024.4,
            "bin_start": 9768.3,
            "count": 0
           },
           {
            "bin_end": 16280.5,
            "bin_start": 13024.4,
            "count": 0
           },
           {
            "bin_end": 19536.6,
            "bin_start": 16280.5,
            "count": 0
           },
           {
            "bin_end": 22792.7,
            "bin_start": 19536.6,
            "count": 0
           },
           {
            "bin_end": 26048.8,
            "bin_start": 22792.7,
            "count": 0
           },
           {
            "bin_end": 29304.899999999998,
            "bin_start": 26048.8,
            "count": 0
           },
           {
            "bin_end": 32561,
            "bin_start": 29304.899999999998,
            "count": 1
           }
          ],
          "max": "32561.0",
          "min": "0.0",
          "nan_count": 0,
          "unique_count": 5
         }
        },
        {
         "dtype": "float64",
         "name": "education_ HS-grad",
         "stats": {
          "histogram": [
           {
            "bin_end": 3256.1,
            "bin_start": 0,
            "count": 7
           },
           {
            "bin_end": 6512.2,
            "bin_start": 3256.1,
            "count": 0
           },
           {
            "bin_end": 9768.3,
            "bin_start": 6512.2,
            "count": 0
           },
           {
            "bin_end": 13024.4,
            "bin_start": 9768.3,
            "count": 0
           },
           {
            "bin_end": 16280.5,
            "bin_start": 13024.4,
            "count": 0
           },
           {
            "bin_end": 19536.6,
            "bin_start": 16280.5,
            "count": 0
           },
           {
            "bin_end": 22792.7,
            "bin_start": 19536.6,
            "count": 0
           },
           {
            "bin_end": 26048.8,
            "bin_start": 22792.7,
            "count": 0
           },
           {
            "bin_end": 29304.899999999998,
            "bin_start": 26048.8,
            "count": 0
           },
           {
            "bin_end": 32561,
            "bin_start": 29304.899999999998,
            "count": 1
           }
          ],
          "max": "32561.0",
          "min": "0.0",
          "nan_count": 0,
          "unique_count": 5
         }
        },
        {
         "dtype": "float64",
         "name": "education_ Masters",
         "stats": {
          "histogram": [
           {
            "bin_end": 3256.1,
            "bin_start": 0,
            "count": 7
           },
           {
            "bin_end": 6512.2,
            "bin_start": 3256.1,
            "count": 0
           },
           {
            "bin_end": 9768.3,
            "bin_start": 6512.2,
            "count": 0
           },
           {
            "bin_end": 13024.4,
            "bin_start": 9768.3,
            "count": 0
           },
           {
            "bin_end": 16280.5,
            "bin_start": 13024.4,
            "count": 0
           },
           {
            "bin_end": 19536.6,
            "bin_start": 16280.5,
            "count": 0
           },
           {
            "bin_end": 22792.7,
            "bin_start": 19536.6,
            "count": 0
           },
           {
            "bin_end": 26048.8,
            "bin_start": 22792.7,
            "count": 0
           },
           {
            "bin_end": 29304.899999999998,
            "bin_start": 26048.8,
            "count": 0
           },
           {
            "bin_end": 32561,
            "bin_start": 29304.899999999998,
            "count": 1
           }
          ],
          "max": "32561.0",
          "min": "0.0",
          "nan_count": 0,
          "unique_count": 5
         }
        },
        {
         "dtype": "float64",
         "name": "education_ Preschool",
         "stats": {
          "histogram": [
           {
            "bin_end": 3256.1,
            "bin_start": 0,
            "count": 7
           },
           {
            "bin_end": 6512.2,
            "bin_start": 3256.1,
            "count": 0
           },
           {
            "bin_end": 9768.3,
            "bin_start": 6512.2,
            "count": 0
           },
           {
            "bin_end": 13024.4,
            "bin_start": 9768.3,
            "count": 0
           },
           {
            "bin_end": 16280.5,
            "bin_start": 13024.4,
            "count": 0
           },
           {
            "bin_end": 19536.6,
            "bin_start": 16280.5,
            "count": 0
           },
           {
            "bin_end": 22792.7,
            "bin_start": 19536.6,
            "count": 0
           },
           {
            "bin_end": 26048.8,
            "bin_start": 22792.7,
            "count": 0
           },
           {
            "bin_end": 29304.899999999998,
            "bin_start": 26048.8,
            "count": 0
           },
           {
            "bin_end": 32561,
            "bin_start": 29304.899999999998,
            "count": 1
           }
          ],
          "max": "32561.0",
          "min": "0.0",
          "nan_count": 0,
          "unique_count": 5
         }
        },
        {
         "dtype": "float64",
         "name": "education_ Prof-school",
         "stats": {
          "histogram": [
           {
            "bin_end": 3256.1,
            "bin_start": 0,
            "count": 7
           },
           {
            "bin_end": 6512.2,
            "bin_start": 3256.1,
            "count": 0
           },
           {
            "bin_end": 9768.3,
            "bin_start": 6512.2,
            "count": 0
           },
           {
            "bin_end": 13024.4,
            "bin_start": 9768.3,
            "count": 0
           },
           {
            "bin_end": 16280.5,
            "bin_start": 13024.4,
            "count": 0
           },
           {
            "bin_end": 19536.6,
            "bin_start": 16280.5,
            "count": 0
           },
           {
            "bin_end": 22792.7,
            "bin_start": 19536.6,
            "count": 0
           },
           {
            "bin_end": 26048.8,
            "bin_start": 22792.7,
            "count": 0
           },
           {
            "bin_end": 29304.899999999998,
            "bin_start": 26048.8,
            "count": 0
           },
           {
            "bin_end": 32561,
            "bin_start": 29304.899999999998,
            "count": 1
           }
          ],
          "max": "32561.0",
          "min": "0.0",
          "nan_count": 0,
          "unique_count": 5
         }
        },
        {
         "dtype": "float64",
         "name": "education_ Some-college",
         "stats": {
          "histogram": [
           {
            "bin_end": 3256.1,
            "bin_start": 0,
            "count": 7
           },
           {
            "bin_end": 6512.2,
            "bin_start": 3256.1,
            "count": 0
           },
           {
            "bin_end": 9768.3,
            "bin_start": 6512.2,
            "count": 0
           },
           {
            "bin_end": 13024.4,
            "bin_start": 9768.3,
            "count": 0
           },
           {
            "bin_end": 16280.5,
            "bin_start": 13024.4,
            "count": 0
           },
           {
            "bin_end": 19536.6,
            "bin_start": 16280.5,
            "count": 0
           },
           {
            "bin_end": 22792.7,
            "bin_start": 19536.6,
            "count": 0
           },
           {
            "bin_end": 26048.8,
            "bin_start": 22792.7,
            "count": 0
           },
           {
            "bin_end": 29304.899999999998,
            "bin_start": 26048.8,
            "count": 0
           },
           {
            "bin_end": 32561,
            "bin_start": 29304.899999999998,
            "count": 1
           }
          ],
          "max": "32561.0",
          "min": "0.0",
          "nan_count": 0,
          "unique_count": 5
         }
        },
        {
         "dtype": "float64",
         "name": "marital-status_ Divorced",
         "stats": {
          "histogram": [
           {
            "bin_end": 3256.1,
            "bin_start": 0,
            "count": 7
           },
           {
            "bin_end": 6512.2,
            "bin_start": 3256.1,
            "count": 0
           },
           {
            "bin_end": 9768.3,
            "bin_start": 6512.2,
            "count": 0
           },
           {
            "bin_end": 13024.4,
            "bin_start": 9768.3,
            "count": 0
           },
           {
            "bin_end": 16280.5,
            "bin_start": 13024.4,
            "count": 0
           },
           {
            "bin_end": 19536.6,
            "bin_start": 16280.5,
            "count": 0
           },
           {
            "bin_end": 22792.7,
            "bin_start": 19536.6,
            "count": 0
           },
           {
            "bin_end": 26048.8,
            "bin_start": 22792.7,
            "count": 0
           },
           {
            "bin_end": 29304.899999999998,
            "bin_start": 26048.8,
            "count": 0
           },
           {
            "bin_end": 32561,
            "bin_start": 29304.899999999998,
            "count": 1
           }
          ],
          "max": "32561.0",
          "min": "0.0",
          "nan_count": 0,
          "unique_count": 5
         }
        },
        {
         "dtype": "float64",
         "name": "marital-status_ Married-AF-spouse",
         "stats": {
          "histogram": [
           {
            "bin_end": 3256.1,
            "bin_start": 0,
            "count": 7
           },
           {
            "bin_end": 6512.2,
            "bin_start": 3256.1,
            "count": 0
           },
           {
            "bin_end": 9768.3,
            "bin_start": 6512.2,
            "count": 0
           },
           {
            "bin_end": 13024.4,
            "bin_start": 9768.3,
            "count": 0
           },
           {
            "bin_end": 16280.5,
            "bin_start": 13024.4,
            "count": 0
           },
           {
            "bin_end": 19536.6,
            "bin_start": 16280.5,
            "count": 0
           },
           {
            "bin_end": 22792.7,
            "bin_start": 19536.6,
            "count": 0
           },
           {
            "bin_end": 26048.8,
            "bin_start": 22792.7,
            "count": 0
           },
           {
            "bin_end": 29304.899999999998,
            "bin_start": 26048.8,
            "count": 0
           },
           {
            "bin_end": 32561,
            "bin_start": 29304.899999999998,
            "count": 1
           }
          ],
          "max": "32561.0",
          "min": "0.0",
          "nan_count": 0,
          "unique_count": 5
         }
        },
        {
         "dtype": "float64",
         "name": "marital-status_ Married-civ-spouse",
         "stats": {
          "histogram": [
           {
            "bin_end": 3256.1,
            "bin_start": 0,
            "count": 7
           },
           {
            "bin_end": 6512.2,
            "bin_start": 3256.1,
            "count": 0
           },
           {
            "bin_end": 9768.3,
            "bin_start": 6512.2,
            "count": 0
           },
           {
            "bin_end": 13024.4,
            "bin_start": 9768.3,
            "count": 0
           },
           {
            "bin_end": 16280.5,
            "bin_start": 13024.4,
            "count": 0
           },
           {
            "bin_end": 19536.6,
            "bin_start": 16280.5,
            "count": 0
           },
           {
            "bin_end": 22792.7,
            "bin_start": 19536.6,
            "count": 0
           },
           {
            "bin_end": 26048.8,
            "bin_start": 22792.7,
            "count": 0
           },
           {
            "bin_end": 29304.899999999998,
            "bin_start": 26048.8,
            "count": 0
           },
           {
            "bin_end": 32561,
            "bin_start": 29304.899999999998,
            "count": 1
           }
          ],
          "max": "32561.0",
          "min": "0.0",
          "nan_count": 0,
          "unique_count": 5
         }
        },
        {
         "dtype": "float64",
         "name": "marital-status_ Married-spouse-absent",
         "stats": {
          "histogram": [
           {
            "bin_end": 3256.1,
            "bin_start": 0,
            "count": 7
           },
           {
            "bin_end": 6512.2,
            "bin_start": 3256.1,
            "count": 0
           },
           {
            "bin_end": 9768.3,
            "bin_start": 6512.2,
            "count": 0
           },
           {
            "bin_end": 13024.4,
            "bin_start": 9768.3,
            "count": 0
           },
           {
            "bin_end": 16280.5,
            "bin_start": 13024.4,
            "count": 0
           },
           {
            "bin_end": 19536.6,
            "bin_start": 16280.5,
            "count": 0
           },
           {
            "bin_end": 22792.7,
            "bin_start": 19536.6,
            "count": 0
           },
           {
            "bin_end": 26048.8,
            "bin_start": 22792.7,
            "count": 0
           },
           {
            "bin_end": 29304.899999999998,
            "bin_start": 26048.8,
            "count": 0
           },
           {
            "bin_end": 32561,
            "bin_start": 29304.899999999998,
            "count": 1
           }
          ],
          "max": "32561.0",
          "min": "0.0",
          "nan_count": 0,
          "unique_count": 5
         }
        },
        {
         "dtype": "float64",
         "name": "marital-status_ Never-married",
         "stats": {
          "histogram": [
           {
            "bin_end": 3256.1,
            "bin_start": 0,
            "count": 7
           },
           {
            "bin_end": 6512.2,
            "bin_start": 3256.1,
            "count": 0
           },
           {
            "bin_end": 9768.3,
            "bin_start": 6512.2,
            "count": 0
           },
           {
            "bin_end": 13024.4,
            "bin_start": 9768.3,
            "count": 0
           },
           {
            "bin_end": 16280.5,
            "bin_start": 13024.4,
            "count": 0
           },
           {
            "bin_end": 19536.6,
            "bin_start": 16280.5,
            "count": 0
           },
           {
            "bin_end": 22792.7,
            "bin_start": 19536.6,
            "count": 0
           },
           {
            "bin_end": 26048.8,
            "bin_start": 22792.7,
            "count": 0
           },
           {
            "bin_end": 29304.899999999998,
            "bin_start": 26048.8,
            "count": 0
           },
           {
            "bin_end": 32561,
            "bin_start": 29304.899999999998,
            "count": 1
           }
          ],
          "max": "32561.0",
          "min": "0.0",
          "nan_count": 0,
          "unique_count": 5
         }
        },
        {
         "dtype": "float64",
         "name": "marital-status_ Separated",
         "stats": {
          "histogram": [
           {
            "bin_end": 3256.1,
            "bin_start": 0,
            "count": 7
           },
           {
            "bin_end": 6512.2,
            "bin_start": 3256.1,
            "count": 0
           },
           {
            "bin_end": 9768.3,
            "bin_start": 6512.2,
            "count": 0
           },
           {
            "bin_end": 13024.4,
            "bin_start": 9768.3,
            "count": 0
           },
           {
            "bin_end": 16280.5,
            "bin_start": 13024.4,
            "count": 0
           },
           {
            "bin_end": 19536.6,
            "bin_start": 16280.5,
            "count": 0
           },
           {
            "bin_end": 22792.7,
            "bin_start": 19536.6,
            "count": 0
           },
           {
            "bin_end": 26048.8,
            "bin_start": 22792.7,
            "count": 0
           },
           {
            "bin_end": 29304.899999999998,
            "bin_start": 26048.8,
            "count": 0
           },
           {
            "bin_end": 32561,
            "bin_start": 29304.899999999998,
            "count": 1
           }
          ],
          "max": "32561.0",
          "min": "0.0",
          "nan_count": 0,
          "unique_count": 5
         }
        },
        {
         "dtype": "float64",
         "name": "marital-status_ Widowed",
         "stats": {
          "histogram": [
           {
            "bin_end": 3256.1,
            "bin_start": 0,
            "count": 7
           },
           {
            "bin_end": 6512.2,
            "bin_start": 3256.1,
            "count": 0
           },
           {
            "bin_end": 9768.3,
            "bin_start": 6512.2,
            "count": 0
           },
           {
            "bin_end": 13024.4,
            "bin_start": 9768.3,
            "count": 0
           },
           {
            "bin_end": 16280.5,
            "bin_start": 13024.4,
            "count": 0
           },
           {
            "bin_end": 19536.6,
            "bin_start": 16280.5,
            "count": 0
           },
           {
            "bin_end": 22792.7,
            "bin_start": 19536.6,
            "count": 0
           },
           {
            "bin_end": 26048.8,
            "bin_start": 22792.7,
            "count": 0
           },
           {
            "bin_end": 29304.899999999998,
            "bin_start": 26048.8,
            "count": 0
           },
           {
            "bin_end": 32561,
            "bin_start": 29304.899999999998,
            "count": 1
           }
          ],
          "max": "32561.0",
          "min": "0.0",
          "nan_count": 0,
          "unique_count": 5
         }
        },
        {
         "dtype": "float64",
         "name": "occupation_ ?",
         "stats": {
          "histogram": [
           {
            "bin_end": 3256.1,
            "bin_start": 0,
            "count": 7
           },
           {
            "bin_end": 6512.2,
            "bin_start": 3256.1,
            "count": 0
           },
           {
            "bin_end": 9768.3,
            "bin_start": 6512.2,
            "count": 0
           },
           {
            "bin_end": 13024.4,
            "bin_start": 9768.3,
            "count": 0
           },
           {
            "bin_end": 16280.5,
            "bin_start": 13024.4,
            "count": 0
           },
           {
            "bin_end": 19536.6,
            "bin_start": 16280.5,
            "count": 0
           },
           {
            "bin_end": 22792.7,
            "bin_start": 19536.6,
            "count": 0
           },
           {
            "bin_end": 26048.8,
            "bin_start": 22792.7,
            "count": 0
           },
           {
            "bin_end": 29304.899999999998,
            "bin_start": 26048.8,
            "count": 0
           },
           {
            "bin_end": 32561,
            "bin_start": 29304.899999999998,
            "count": 1
           }
          ],
          "max": "32561.0",
          "min": "0.0",
          "nan_count": 0,
          "unique_count": 5
         }
        },
        {
         "dtype": "float64",
         "name": "occupation_ Adm-clerical",
         "stats": {
          "histogram": [
           {
            "bin_end": 3256.1,
            "bin_start": 0,
            "count": 7
           },
           {
            "bin_end": 6512.2,
            "bin_start": 3256.1,
            "count": 0
           },
           {
            "bin_end": 9768.3,
            "bin_start": 6512.2,
            "count": 0
           },
           {
            "bin_end": 13024.4,
            "bin_start": 9768.3,
            "count": 0
           },
           {
            "bin_end": 16280.5,
            "bin_start": 13024.4,
            "count": 0
           },
           {
            "bin_end": 19536.6,
            "bin_start": 16280.5,
            "count": 0
           },
           {
            "bin_end": 22792.7,
            "bin_start": 19536.6,
            "count": 0
           },
           {
            "bin_end": 26048.8,
            "bin_start": 22792.7,
            "count": 0
           },
           {
            "bin_end": 29304.899999999998,
            "bin_start": 26048.8,
            "count": 0
           },
           {
            "bin_end": 32561,
            "bin_start": 29304.899999999998,
            "count": 1
           }
          ],
          "max": "32561.0",
          "min": "0.0",
          "nan_count": 0,
          "unique_count": 5
         }
        },
        {
         "dtype": "float64",
         "name": "occupation_ Armed-Forces",
         "stats": {
          "histogram": [
           {
            "bin_end": 3256.1,
            "bin_start": 0,
            "count": 7
           },
           {
            "bin_end": 6512.2,
            "bin_start": 3256.1,
            "count": 0
           },
           {
            "bin_end": 9768.3,
            "bin_start": 6512.2,
            "count": 0
           },
           {
            "bin_end": 13024.4,
            "bin_start": 9768.3,
            "count": 0
           },
           {
            "bin_end": 16280.5,
            "bin_start": 13024.4,
            "count": 0
           },
           {
            "bin_end": 19536.6,
            "bin_start": 16280.5,
            "count": 0
           },
           {
            "bin_end": 22792.7,
            "bin_start": 19536.6,
            "count": 0
           },
           {
            "bin_end": 26048.8,
            "bin_start": 22792.7,
            "count": 0
           },
           {
            "bin_end": 29304.899999999998,
            "bin_start": 26048.8,
            "count": 0
           },
           {
            "bin_end": 32561,
            "bin_start": 29304.899999999998,
            "count": 1
           }
          ],
          "max": "32561.0",
          "min": "0.0",
          "nan_count": 0,
          "unique_count": 5
         }
        },
        {
         "dtype": "float64",
         "name": "occupation_ Craft-repair",
         "stats": {
          "histogram": [
           {
            "bin_end": 3256.1,
            "bin_start": 0,
            "count": 7
           },
           {
            "bin_end": 6512.2,
            "bin_start": 3256.1,
            "count": 0
           },
           {
            "bin_end": 9768.3,
            "bin_start": 6512.2,
            "count": 0
           },
           {
            "bin_end": 13024.4,
            "bin_start": 9768.3,
            "count": 0
           },
           {
            "bin_end": 16280.5,
            "bin_start": 13024.4,
            "count": 0
           },
           {
            "bin_end": 19536.6,
            "bin_start": 16280.5,
            "count": 0
           },
           {
            "bin_end": 22792.7,
            "bin_start": 19536.6,
            "count": 0
           },
           {
            "bin_end": 26048.8,
            "bin_start": 22792.7,
            "count": 0
           },
           {
            "bin_end": 29304.899999999998,
            "bin_start": 26048.8,
            "count": 0
           },
           {
            "bin_end": 32561,
            "bin_start": 29304.899999999998,
            "count": 1
           }
          ],
          "max": "32561.0",
          "min": "0.0",
          "nan_count": 0,
          "unique_count": 5
         }
        },
        {
         "dtype": "float64",
         "name": "occupation_ Exec-managerial",
         "stats": {
          "histogram": [
           {
            "bin_end": 3256.1,
            "bin_start": 0,
            "count": 7
           },
           {
            "bin_end": 6512.2,
            "bin_start": 3256.1,
            "count": 0
           },
           {
            "bin_end": 9768.3,
            "bin_start": 6512.2,
            "count": 0
           },
           {
            "bin_end": 13024.4,
            "bin_start": 9768.3,
            "count": 0
           },
           {
            "bin_end": 16280.5,
            "bin_start": 13024.4,
            "count": 0
           },
           {
            "bin_end": 19536.6,
            "bin_start": 16280.5,
            "count": 0
           },
           {
            "bin_end": 22792.7,
            "bin_start": 19536.6,
            "count": 0
           },
           {
            "bin_end": 26048.8,
            "bin_start": 22792.7,
            "count": 0
           },
           {
            "bin_end": 29304.899999999998,
            "bin_start": 26048.8,
            "count": 0
           },
           {
            "bin_end": 32561,
            "bin_start": 29304.899999999998,
            "count": 1
           }
          ],
          "max": "32561.0",
          "min": "0.0",
          "nan_count": 0,
          "unique_count": 5
         }
        },
        {
         "dtype": "float64",
         "name": "occupation_ Farming-fishing",
         "stats": {
          "histogram": [
           {
            "bin_end": 3256.1,
            "bin_start": 0,
            "count": 7
           },
           {
            "bin_end": 6512.2,
            "bin_start": 3256.1,
            "count": 0
           },
           {
            "bin_end": 9768.3,
            "bin_start": 6512.2,
            "count": 0
           },
           {
            "bin_end": 13024.4,
            "bin_start": 9768.3,
            "count": 0
           },
           {
            "bin_end": 16280.5,
            "bin_start": 13024.4,
            "count": 0
           },
           {
            "bin_end": 19536.6,
            "bin_start": 16280.5,
            "count": 0
           },
           {
            "bin_end": 22792.7,
            "bin_start": 19536.6,
            "count": 0
           },
           {
            "bin_end": 26048.8,
            "bin_start": 22792.7,
            "count": 0
           },
           {
            "bin_end": 29304.899999999998,
            "bin_start": 26048.8,
            "count": 0
           },
           {
            "bin_end": 32561,
            "bin_start": 29304.899999999998,
            "count": 1
           }
          ],
          "max": "32561.0",
          "min": "0.0",
          "nan_count": 0,
          "unique_count": 5
         }
        },
        {
         "dtype": "float64",
         "name": "occupation_ Handlers-cleaners",
         "stats": {
          "histogram": [
           {
            "bin_end": 3256.1,
            "bin_start": 0,
            "count": 7
           },
           {
            "bin_end": 6512.2,
            "bin_start": 3256.1,
            "count": 0
           },
           {
            "bin_end": 9768.3,
            "bin_start": 6512.2,
            "count": 0
           },
           {
            "bin_end": 13024.4,
            "bin_start": 9768.3,
            "count": 0
           },
           {
            "bin_end": 16280.5,
            "bin_start": 13024.4,
            "count": 0
           },
           {
            "bin_end": 19536.6,
            "bin_start": 16280.5,
            "count": 0
           },
           {
            "bin_end": 22792.7,
            "bin_start": 19536.6,
            "count": 0
           },
           {
            "bin_end": 26048.8,
            "bin_start": 22792.7,
            "count": 0
           },
           {
            "bin_end": 29304.899999999998,
            "bin_start": 26048.8,
            "count": 0
           },
           {
            "bin_end": 32561,
            "bin_start": 29304.899999999998,
            "count": 1
           }
          ],
          "max": "32561.0",
          "min": "0.0",
          "nan_count": 0,
          "unique_count": 5
         }
        },
        {
         "dtype": "float64",
         "name": "occupation_ Machine-op-inspct",
         "stats": {
          "histogram": [
           {
            "bin_end": 3256.1,
            "bin_start": 0,
            "count": 7
           },
           {
            "bin_end": 6512.2,
            "bin_start": 3256.1,
            "count": 0
           },
           {
            "bin_end": 9768.3,
            "bin_start": 6512.2,
            "count": 0
           },
           {
            "bin_end": 13024.4,
            "bin_start": 9768.3,
            "count": 0
           },
           {
            "bin_end": 16280.5,
            "bin_start": 13024.4,
            "count": 0
           },
           {
            "bin_end": 19536.6,
            "bin_start": 16280.5,
            "count": 0
           },
           {
            "bin_end": 22792.7,
            "bin_start": 19536.6,
            "count": 0
           },
           {
            "bin_end": 26048.8,
            "bin_start": 22792.7,
            "count": 0
           },
           {
            "bin_end": 29304.899999999998,
            "bin_start": 26048.8,
            "count": 0
           },
           {
            "bin_end": 32561,
            "bin_start": 29304.899999999998,
            "count": 1
           }
          ],
          "max": "32561.0",
          "min": "0.0",
          "nan_count": 0,
          "unique_count": 5
         }
        },
        {
         "dtype": "float64",
         "name": "occupation_ Other-service",
         "stats": {
          "histogram": [
           {
            "bin_end": 3256.1,
            "bin_start": 0,
            "count": 7
           },
           {
            "bin_end": 6512.2,
            "bin_start": 3256.1,
            "count": 0
           },
           {
            "bin_end": 9768.3,
            "bin_start": 6512.2,
            "count": 0
           },
           {
            "bin_end": 13024.4,
            "bin_start": 9768.3,
            "count": 0
           },
           {
            "bin_end": 16280.5,
            "bin_start": 13024.4,
            "count": 0
           },
           {
            "bin_end": 19536.6,
            "bin_start": 16280.5,
            "count": 0
           },
           {
            "bin_end": 22792.7,
            "bin_start": 19536.6,
            "count": 0
           },
           {
            "bin_end": 26048.8,
            "bin_start": 22792.7,
            "count": 0
           },
           {
            "bin_end": 29304.899999999998,
            "bin_start": 26048.8,
            "count": 0
           },
           {
            "bin_end": 32561,
            "bin_start": 29304.899999999998,
            "count": 1
           }
          ],
          "max": "32561.0",
          "min": "0.0",
          "nan_count": 0,
          "unique_count": 5
         }
        },
        {
         "dtype": "float64",
         "name": "occupation_ Priv-house-serv",
         "stats": {
          "histogram": [
           {
            "bin_end": 3256.1,
            "bin_start": 0,
            "count": 7
           },
           {
            "bin_end": 6512.2,
            "bin_start": 3256.1,
            "count": 0
           },
           {
            "bin_end": 9768.3,
            "bin_start": 6512.2,
            "count": 0
           },
           {
            "bin_end": 13024.4,
            "bin_start": 9768.3,
            "count": 0
           },
           {
            "bin_end": 16280.5,
            "bin_start": 13024.4,
            "count": 0
           },
           {
            "bin_end": 19536.6,
            "bin_start": 16280.5,
            "count": 0
           },
           {
            "bin_end": 22792.7,
            "bin_start": 19536.6,
            "count": 0
           },
           {
            "bin_end": 26048.8,
            "bin_start": 22792.7,
            "count": 0
           },
           {
            "bin_end": 29304.899999999998,
            "bin_start": 26048.8,
            "count": 0
           },
           {
            "bin_end": 32561,
            "bin_start": 29304.899999999998,
            "count": 1
           }
          ],
          "max": "32561.0",
          "min": "0.0",
          "nan_count": 0,
          "unique_count": 5
         }
        },
        {
         "dtype": "float64",
         "name": "occupation_ Prof-specialty",
         "stats": {
          "histogram": [
           {
            "bin_end": 3256.1,
            "bin_start": 0,
            "count": 7
           },
           {
            "bin_end": 6512.2,
            "bin_start": 3256.1,
            "count": 0
           },
           {
            "bin_end": 9768.3,
            "bin_start": 6512.2,
            "count": 0
           },
           {
            "bin_end": 13024.4,
            "bin_start": 9768.3,
            "count": 0
           },
           {
            "bin_end": 16280.5,
            "bin_start": 13024.4,
            "count": 0
           },
           {
            "bin_end": 19536.6,
            "bin_start": 16280.5,
            "count": 0
           },
           {
            "bin_end": 22792.7,
            "bin_start": 19536.6,
            "count": 0
           },
           {
            "bin_end": 26048.8,
            "bin_start": 22792.7,
            "count": 0
           },
           {
            "bin_end": 29304.899999999998,
            "bin_start": 26048.8,
            "count": 0
           },
           {
            "bin_end": 32561,
            "bin_start": 29304.899999999998,
            "count": 1
           }
          ],
          "max": "32561.0",
          "min": "0.0",
          "nan_count": 0,
          "unique_count": 5
         }
        },
        {
         "dtype": "float64",
         "name": "occupation_ Protective-serv",
         "stats": {
          "histogram": [
           {
            "bin_end": 3256.1,
            "bin_start": 0,
            "count": 7
           },
           {
            "bin_end": 6512.2,
            "bin_start": 3256.1,
            "count": 0
           },
           {
            "bin_end": 9768.3,
            "bin_start": 6512.2,
            "count": 0
           },
           {
            "bin_end": 13024.4,
            "bin_start": 9768.3,
            "count": 0
           },
           {
            "bin_end": 16280.5,
            "bin_start": 13024.4,
            "count": 0
           },
           {
            "bin_end": 19536.6,
            "bin_start": 16280.5,
            "count": 0
           },
           {
            "bin_end": 22792.7,
            "bin_start": 19536.6,
            "count": 0
           },
           {
            "bin_end": 26048.8,
            "bin_start": 22792.7,
            "count": 0
           },
           {
            "bin_end": 29304.899999999998,
            "bin_start": 26048.8,
            "count": 0
           },
           {
            "bin_end": 32561,
            "bin_start": 29304.899999999998,
            "count": 1
           }
          ],
          "max": "32561.0",
          "min": "0.0",
          "nan_count": 0,
          "unique_count": 5
         }
        },
        {
         "dtype": "float64",
         "name": "occupation_ Sales",
         "stats": {
          "histogram": [
           {
            "bin_end": 3256.1,
            "bin_start": 0,
            "count": 7
           },
           {
            "bin_end": 6512.2,
            "bin_start": 3256.1,
            "count": 0
           },
           {
            "bin_end": 9768.3,
            "bin_start": 6512.2,
            "count": 0
           },
           {
            "bin_end": 13024.4,
            "bin_start": 9768.3,
            "count": 0
           },
           {
            "bin_end": 16280.5,
            "bin_start": 13024.4,
            "count": 0
           },
           {
            "bin_end": 19536.6,
            "bin_start": 16280.5,
            "count": 0
           },
           {
            "bin_end": 22792.7,
            "bin_start": 19536.6,
            "count": 0
           },
           {
            "bin_end": 26048.8,
            "bin_start": 22792.7,
            "count": 0
           },
           {
            "bin_end": 29304.899999999998,
            "bin_start": 26048.8,
            "count": 0
           },
           {
            "bin_end": 32561,
            "bin_start": 29304.899999999998,
            "count": 1
           }
          ],
          "max": "32561.0",
          "min": "0.0",
          "nan_count": 0,
          "unique_count": 5
         }
        },
        {
         "dtype": "float64",
         "name": "occupation_ Tech-support",
         "stats": {
          "histogram": [
           {
            "bin_end": 3256.1,
            "bin_start": 0,
            "count": 7
           },
           {
            "bin_end": 6512.2,
            "bin_start": 3256.1,
            "count": 0
           },
           {
            "bin_end": 9768.3,
            "bin_start": 6512.2,
            "count": 0
           },
           {
            "bin_end": 13024.4,
            "bin_start": 9768.3,
            "count": 0
           },
           {
            "bin_end": 16280.5,
            "bin_start": 13024.4,
            "count": 0
           },
           {
            "bin_end": 19536.6,
            "bin_start": 16280.5,
            "count": 0
           },
           {
            "bin_end": 22792.7,
            "bin_start": 19536.6,
            "count": 0
           },
           {
            "bin_end": 26048.8,
            "bin_start": 22792.7,
            "count": 0
           },
           {
            "bin_end": 29304.899999999998,
            "bin_start": 26048.8,
            "count": 0
           },
           {
            "bin_end": 32561,
            "bin_start": 29304.899999999998,
            "count": 1
           }
          ],
          "max": "32561.0",
          "min": "0.0",
          "nan_count": 0,
          "unique_count": 5
         }
        },
        {
         "dtype": "float64",
         "name": "occupation_ Transport-moving",
         "stats": {
          "histogram": [
           {
            "bin_end": 3256.1,
            "bin_start": 0,
            "count": 7
           },
           {
            "bin_end": 6512.2,
            "bin_start": 3256.1,
            "count": 0
           },
           {
            "bin_end": 9768.3,
            "bin_start": 6512.2,
            "count": 0
           },
           {
            "bin_end": 13024.4,
            "bin_start": 9768.3,
            "count": 0
           },
           {
            "bin_end": 16280.5,
            "bin_start": 13024.4,
            "count": 0
           },
           {
            "bin_end": 19536.6,
            "bin_start": 16280.5,
            "count": 0
           },
           {
            "bin_end": 22792.7,
            "bin_start": 19536.6,
            "count": 0
           },
           {
            "bin_end": 26048.8,
            "bin_start": 22792.7,
            "count": 0
           },
           {
            "bin_end": 29304.899999999998,
            "bin_start": 26048.8,
            "count": 0
           },
           {
            "bin_end": 32561,
            "bin_start": 29304.899999999998,
            "count": 1
           }
          ],
          "max": "32561.0",
          "min": "0.0",
          "nan_count": 0,
          "unique_count": 5
         }
        },
        {
         "dtype": "float64",
         "name": "race_ Husband",
         "stats": {
          "histogram": [
           {
            "bin_end": 3256.1,
            "bin_start": 0,
            "count": 7
           },
           {
            "bin_end": 6512.2,
            "bin_start": 3256.1,
            "count": 0
           },
           {
            "bin_end": 9768.3,
            "bin_start": 6512.2,
            "count": 0
           },
           {
            "bin_end": 13024.4,
            "bin_start": 9768.3,
            "count": 0
           },
           {
            "bin_end": 16280.5,
            "bin_start": 13024.4,
            "count": 0
           },
           {
            "bin_end": 19536.6,
            "bin_start": 16280.5,
            "count": 0
           },
           {
            "bin_end": 22792.7,
            "bin_start": 19536.6,
            "count": 0
           },
           {
            "bin_end": 26048.8,
            "bin_start": 22792.7,
            "count": 0
           },
           {
            "bin_end": 29304.899999999998,
            "bin_start": 26048.8,
            "count": 0
           },
           {
            "bin_end": 32561,
            "bin_start": 29304.899999999998,
            "count": 1
           }
          ],
          "max": "32561.0",
          "min": "0.0",
          "nan_count": 0,
          "unique_count": 5
         }
        },
        {
         "dtype": "float64",
         "name": "race_ Not-in-family",
         "stats": {
          "histogram": [
           {
            "bin_end": 3256.1,
            "bin_start": 0,
            "count": 7
           },
           {
            "bin_end": 6512.2,
            "bin_start": 3256.1,
            "count": 0
           },
           {
            "bin_end": 9768.3,
            "bin_start": 6512.2,
            "count": 0
           },
           {
            "bin_end": 13024.4,
            "bin_start": 9768.3,
            "count": 0
           },
           {
            "bin_end": 16280.5,
            "bin_start": 13024.4,
            "count": 0
           },
           {
            "bin_end": 19536.6,
            "bin_start": 16280.5,
            "count": 0
           },
           {
            "bin_end": 22792.7,
            "bin_start": 19536.6,
            "count": 0
           },
           {
            "bin_end": 26048.8,
            "bin_start": 22792.7,
            "count": 0
           },
           {
            "bin_end": 29304.899999999998,
            "bin_start": 26048.8,
            "count": 0
           },
           {
            "bin_end": 32561,
            "bin_start": 29304.899999999998,
            "count": 1
           }
          ],
          "max": "32561.0",
          "min": "0.0",
          "nan_count": 0,
          "unique_count": 5
         }
        },
        {
         "dtype": "float64",
         "name": "race_ Other-relative",
         "stats": {
          "histogram": [
           {
            "bin_end": 3256.1,
            "bin_start": 0,
            "count": 7
           },
           {
            "bin_end": 6512.2,
            "bin_start": 3256.1,
            "count": 0
           },
           {
            "bin_end": 9768.3,
            "bin_start": 6512.2,
            "count": 0
           },
           {
            "bin_end": 13024.4,
            "bin_start": 9768.3,
            "count": 0
           },
           {
            "bin_end": 16280.5,
            "bin_start": 13024.4,
            "count": 0
           },
           {
            "bin_end": 19536.6,
            "bin_start": 16280.5,
            "count": 0
           },
           {
            "bin_end": 22792.7,
            "bin_start": 19536.6,
            "count": 0
           },
           {
            "bin_end": 26048.8,
            "bin_start": 22792.7,
            "count": 0
           },
           {
            "bin_end": 29304.899999999998,
            "bin_start": 26048.8,
            "count": 0
           },
           {
            "bin_end": 32561,
            "bin_start": 29304.899999999998,
            "count": 1
           }
          ],
          "max": "32561.0",
          "min": "0.0",
          "nan_count": 0,
          "unique_count": 5
         }
        },
        {
         "dtype": "float64",
         "name": "race_ Own-child",
         "stats": {
          "histogram": [
           {
            "bin_end": 3256.1,
            "bin_start": 0,
            "count": 7
           },
           {
            "bin_end": 6512.2,
            "bin_start": 3256.1,
            "count": 0
           },
           {
            "bin_end": 9768.3,
            "bin_start": 6512.2,
            "count": 0
           },
           {
            "bin_end": 13024.4,
            "bin_start": 9768.3,
            "count": 0
           },
           {
            "bin_end": 16280.5,
            "bin_start": 13024.4,
            "count": 0
           },
           {
            "bin_end": 19536.6,
            "bin_start": 16280.5,
            "count": 0
           },
           {
            "bin_end": 22792.7,
            "bin_start": 19536.6,
            "count": 0
           },
           {
            "bin_end": 26048.8,
            "bin_start": 22792.7,
            "count": 0
           },
           {
            "bin_end": 29304.899999999998,
            "bin_start": 26048.8,
            "count": 0
           },
           {
            "bin_end": 32561,
            "bin_start": 29304.899999999998,
            "count": 1
           }
          ],
          "max": "32561.0",
          "min": "0.0",
          "nan_count": 0,
          "unique_count": 5
         }
        },
        {
         "dtype": "float64",
         "name": "race_ Unmarried",
         "stats": {
          "histogram": [
           {
            "bin_end": 3256.1,
            "bin_start": 0,
            "count": 7
           },
           {
            "bin_end": 6512.2,
            "bin_start": 3256.1,
            "count": 0
           },
           {
            "bin_end": 9768.3,
            "bin_start": 6512.2,
            "count": 0
           },
           {
            "bin_end": 13024.4,
            "bin_start": 9768.3,
            "count": 0
           },
           {
            "bin_end": 16280.5,
            "bin_start": 13024.4,
            "count": 0
           },
           {
            "bin_end": 19536.6,
            "bin_start": 16280.5,
            "count": 0
           },
           {
            "bin_end": 22792.7,
            "bin_start": 19536.6,
            "count": 0
           },
           {
            "bin_end": 26048.8,
            "bin_start": 22792.7,
            "count": 0
           },
           {
            "bin_end": 29304.899999999998,
            "bin_start": 26048.8,
            "count": 0
           },
           {
            "bin_end": 32561,
            "bin_start": 29304.899999999998,
            "count": 1
           }
          ],
          "max": "32561.0",
          "min": "0.0",
          "nan_count": 0,
          "unique_count": 5
         }
        },
        {
         "dtype": "float64",
         "name": "race_ Wife",
         "stats": {
          "histogram": [
           {
            "bin_end": 3256.1,
            "bin_start": 0,
            "count": 7
           },
           {
            "bin_end": 6512.2,
            "bin_start": 3256.1,
            "count": 0
           },
           {
            "bin_end": 9768.3,
            "bin_start": 6512.2,
            "count": 0
           },
           {
            "bin_end": 13024.4,
            "bin_start": 9768.3,
            "count": 0
           },
           {
            "bin_end": 16280.5,
            "bin_start": 13024.4,
            "count": 0
           },
           {
            "bin_end": 19536.6,
            "bin_start": 16280.5,
            "count": 0
           },
           {
            "bin_end": 22792.7,
            "bin_start": 19536.6,
            "count": 0
           },
           {
            "bin_end": 26048.8,
            "bin_start": 22792.7,
            "count": 0
           },
           {
            "bin_end": 29304.899999999998,
            "bin_start": 26048.8,
            "count": 0
           },
           {
            "bin_end": 32561,
            "bin_start": 29304.899999999998,
            "count": 1
           }
          ],
          "max": "32561.0",
          "min": "0.0",
          "nan_count": 0,
          "unique_count": 5
         }
        },
        {
         "dtype": "float64",
         "name": "relationship_ Amer-Indian-Eskimo",
         "stats": {
          "histogram": [
           {
            "bin_end": 3256.1,
            "bin_start": 0,
            "count": 7
           },
           {
            "bin_end": 6512.2,
            "bin_start": 3256.1,
            "count": 0
           },
           {
            "bin_end": 9768.3,
            "bin_start": 6512.2,
            "count": 0
           },
           {
            "bin_end": 13024.4,
            "bin_start": 9768.3,
            "count": 0
           },
           {
            "bin_end": 16280.5,
            "bin_start": 13024.4,
            "count": 0
           },
           {
            "bin_end": 19536.6,
            "bin_start": 16280.5,
            "count": 0
           },
           {
            "bin_end": 22792.7,
            "bin_start": 19536.6,
            "count": 0
           },
           {
            "bin_end": 26048.8,
            "bin_start": 22792.7,
            "count": 0
           },
           {
            "bin_end": 29304.899999999998,
            "bin_start": 26048.8,
            "count": 0
           },
           {
            "bin_end": 32561,
            "bin_start": 29304.899999999998,
            "count": 1
           }
          ],
          "max": "32561.0",
          "min": "0.0",
          "nan_count": 0,
          "unique_count": 5
         }
        },
        {
         "dtype": "float64",
         "name": "relationship_ Asian-Pac-Islander",
         "stats": {
          "histogram": [
           {
            "bin_end": 3256.1,
            "bin_start": 0,
            "count": 7
           },
           {
            "bin_end": 6512.2,
            "bin_start": 3256.1,
            "count": 0
           },
           {
            "bin_end": 9768.3,
            "bin_start": 6512.2,
            "count": 0
           },
           {
            "bin_end": 13024.4,
            "bin_start": 9768.3,
            "count": 0
           },
           {
            "bin_end": 16280.5,
            "bin_start": 13024.4,
            "count": 0
           },
           {
            "bin_end": 19536.6,
            "bin_start": 16280.5,
            "count": 0
           },
           {
            "bin_end": 22792.7,
            "bin_start": 19536.6,
            "count": 0
           },
           {
            "bin_end": 26048.8,
            "bin_start": 22792.7,
            "count": 0
           },
           {
            "bin_end": 29304.899999999998,
            "bin_start": 26048.8,
            "count": 0
           },
           {
            "bin_end": 32561,
            "bin_start": 29304.899999999998,
            "count": 1
           }
          ],
          "max": "32561.0",
          "min": "0.0",
          "nan_count": 0,
          "unique_count": 5
         }
        },
        {
         "dtype": "float64",
         "name": "relationship_ Black",
         "stats": {
          "histogram": [
           {
            "bin_end": 3256.1,
            "bin_start": 0,
            "count": 7
           },
           {
            "bin_end": 6512.2,
            "bin_start": 3256.1,
            "count": 0
           },
           {
            "bin_end": 9768.3,
            "bin_start": 6512.2,
            "count": 0
           },
           {
            "bin_end": 13024.4,
            "bin_start": 9768.3,
            "count": 0
           },
           {
            "bin_end": 16280.5,
            "bin_start": 13024.4,
            "count": 0
           },
           {
            "bin_end": 19536.6,
            "bin_start": 16280.5,
            "count": 0
           },
           {
            "bin_end": 22792.7,
            "bin_start": 19536.6,
            "count": 0
           },
           {
            "bin_end": 26048.8,
            "bin_start": 22792.7,
            "count": 0
           },
           {
            "bin_end": 29304.899999999998,
            "bin_start": 26048.8,
            "count": 0
           },
           {
            "bin_end": 32561,
            "bin_start": 29304.899999999998,
            "count": 1
           }
          ],
          "max": "32561.0",
          "min": "0.0",
          "nan_count": 0,
          "unique_count": 5
         }
        },
        {
         "dtype": "float64",
         "name": "relationship_ Other",
         "stats": {
          "histogram": [
           {
            "bin_end": 3256.1,
            "bin_start": 0,
            "count": 7
           },
           {
            "bin_end": 6512.2,
            "bin_start": 3256.1,
            "count": 0
           },
           {
            "bin_end": 9768.3,
            "bin_start": 6512.2,
            "count": 0
           },
           {
            "bin_end": 13024.4,
            "bin_start": 9768.3,
            "count": 0
           },
           {
            "bin_end": 16280.5,
            "bin_start": 13024.4,
            "count": 0
           },
           {
            "bin_end": 19536.6,
            "bin_start": 16280.5,
            "count": 0
           },
           {
            "bin_end": 22792.7,
            "bin_start": 19536.6,
            "count": 0
           },
           {
            "bin_end": 26048.8,
            "bin_start": 22792.7,
            "count": 0
           },
           {
            "bin_end": 29304.899999999998,
            "bin_start": 26048.8,
            "count": 0
           },
           {
            "bin_end": 32561,
            "bin_start": 29304.899999999998,
            "count": 1
           }
          ],
          "max": "32561.0",
          "min": "0.0",
          "nan_count": 0,
          "unique_count": 5
         }
        },
        {
         "dtype": "float64",
         "name": "relationship_ White",
         "stats": {
          "histogram": [
           {
            "bin_end": 3256.1,
            "bin_start": 0,
            "count": 7
           },
           {
            "bin_end": 6512.2,
            "bin_start": 3256.1,
            "count": 0
           },
           {
            "bin_end": 9768.3,
            "bin_start": 6512.2,
            "count": 0
           },
           {
            "bin_end": 13024.4,
            "bin_start": 9768.3,
            "count": 0
           },
           {
            "bin_end": 16280.5,
            "bin_start": 13024.4,
            "count": 0
           },
           {
            "bin_end": 19536.6,
            "bin_start": 16280.5,
            "count": 0
           },
           {
            "bin_end": 22792.7,
            "bin_start": 19536.6,
            "count": 0
           },
           {
            "bin_end": 26048.8,
            "bin_start": 22792.7,
            "count": 0
           },
           {
            "bin_end": 29304.899999999998,
            "bin_start": 26048.8,
            "count": 0
           },
           {
            "bin_end": 32561,
            "bin_start": 29304.899999999998,
            "count": 1
           }
          ],
          "max": "32561.0",
          "min": "0.0",
          "nan_count": 0,
          "unique_count": 5
         }
        },
        {
         "dtype": "float64",
         "name": "sex_ Female",
         "stats": {
          "histogram": [
           {
            "bin_end": 3256.1,
            "bin_start": 0,
            "count": 7
           },
           {
            "bin_end": 6512.2,
            "bin_start": 3256.1,
            "count": 0
           },
           {
            "bin_end": 9768.3,
            "bin_start": 6512.2,
            "count": 0
           },
           {
            "bin_end": 13024.4,
            "bin_start": 9768.3,
            "count": 0
           },
           {
            "bin_end": 16280.5,
            "bin_start": 13024.4,
            "count": 0
           },
           {
            "bin_end": 19536.6,
            "bin_start": 16280.5,
            "count": 0
           },
           {
            "bin_end": 22792.7,
            "bin_start": 19536.6,
            "count": 0
           },
           {
            "bin_end": 26048.8,
            "bin_start": 22792.7,
            "count": 0
           },
           {
            "bin_end": 29304.899999999998,
            "bin_start": 26048.8,
            "count": 0
           },
           {
            "bin_end": 32561,
            "bin_start": 29304.899999999998,
            "count": 1
           }
          ],
          "max": "32561.0",
          "min": "0.0",
          "nan_count": 0,
          "unique_count": 5
         }
        },
        {
         "dtype": "float64",
         "name": "sex_ Male",
         "stats": {
          "histogram": [
           {
            "bin_end": 3256.1,
            "bin_start": 0,
            "count": 7
           },
           {
            "bin_end": 6512.2,
            "bin_start": 3256.1,
            "count": 0
           },
           {
            "bin_end": 9768.3,
            "bin_start": 6512.2,
            "count": 0
           },
           {
            "bin_end": 13024.4,
            "bin_start": 9768.3,
            "count": 0
           },
           {
            "bin_end": 16280.5,
            "bin_start": 13024.4,
            "count": 0
           },
           {
            "bin_end": 19536.6,
            "bin_start": 16280.5,
            "count": 0
           },
           {
            "bin_end": 22792.7,
            "bin_start": 19536.6,
            "count": 0
           },
           {
            "bin_end": 26048.8,
            "bin_start": 22792.7,
            "count": 0
           },
           {
            "bin_end": 29304.899999999998,
            "bin_start": 26048.8,
            "count": 0
           },
           {
            "bin_end": 32561,
            "bin_start": 29304.899999999998,
            "count": 1
           }
          ],
          "max": "32561.0",
          "min": "0.0",
          "nan_count": 0,
          "unique_count": 5
         }
        },
        {
         "dtype": "float64",
         "name": "native-country_ ?",
         "stats": {
          "histogram": [
           {
            "bin_end": 3256.1,
            "bin_start": 0,
            "count": 7
           },
           {
            "bin_end": 6512.2,
            "bin_start": 3256.1,
            "count": 0
           },
           {
            "bin_end": 9768.3,
            "bin_start": 6512.2,
            "count": 0
           },
           {
            "bin_end": 13024.4,
            "bin_start": 9768.3,
            "count": 0
           },
           {
            "bin_end": 16280.5,
            "bin_start": 13024.4,
            "count": 0
           },
           {
            "bin_end": 19536.6,
            "bin_start": 16280.5,
            "count": 0
           },
           {
            "bin_end": 22792.7,
            "bin_start": 19536.6,
            "count": 0
           },
           {
            "bin_end": 26048.8,
            "bin_start": 22792.7,
            "count": 0
           },
           {
            "bin_end": 29304.899999999998,
            "bin_start": 26048.8,
            "count": 0
           },
           {
            "bin_end": 32561,
            "bin_start": 29304.899999999998,
            "count": 1
           }
          ],
          "max": "32561.0",
          "min": "0.0",
          "nan_count": 0,
          "unique_count": 5
         }
        },
        {
         "dtype": "float64",
         "name": "native-country_ Cambodia",
         "stats": {
          "histogram": [
           {
            "bin_end": 3256.1,
            "bin_start": 0,
            "count": 7
           },
           {
            "bin_end": 6512.2,
            "bin_start": 3256.1,
            "count": 0
           },
           {
            "bin_end": 9768.3,
            "bin_start": 6512.2,
            "count": 0
           },
           {
            "bin_end": 13024.4,
            "bin_start": 9768.3,
            "count": 0
           },
           {
            "bin_end": 16280.5,
            "bin_start": 13024.4,
            "count": 0
           },
           {
            "bin_end": 19536.6,
            "bin_start": 16280.5,
            "count": 0
           },
           {
            "bin_end": 22792.7,
            "bin_start": 19536.6,
            "count": 0
           },
           {
            "bin_end": 26048.8,
            "bin_start": 22792.7,
            "count": 0
           },
           {
            "bin_end": 29304.899999999998,
            "bin_start": 26048.8,
            "count": 0
           },
           {
            "bin_end": 32561,
            "bin_start": 29304.899999999998,
            "count": 1
           }
          ],
          "max": "32561.0",
          "min": "0.0",
          "nan_count": 0,
          "unique_count": 5
         }
        },
        {
         "dtype": "float64",
         "name": "native-country_ Canada",
         "stats": {
          "histogram": [
           {
            "bin_end": 3256.1,
            "bin_start": 0,
            "count": 7
           },
           {
            "bin_end": 6512.2,
            "bin_start": 3256.1,
            "count": 0
           },
           {
            "bin_end": 9768.3,
            "bin_start": 6512.2,
            "count": 0
           },
           {
            "bin_end": 13024.4,
            "bin_start": 9768.3,
            "count": 0
           },
           {
            "bin_end": 16280.5,
            "bin_start": 13024.4,
            "count": 0
           },
           {
            "bin_end": 19536.6,
            "bin_start": 16280.5,
            "count": 0
           },
           {
            "bin_end": 22792.7,
            "bin_start": 19536.6,
            "count": 0
           },
           {
            "bin_end": 26048.8,
            "bin_start": 22792.7,
            "count": 0
           },
           {
            "bin_end": 29304.899999999998,
            "bin_start": 26048.8,
            "count": 0
           },
           {
            "bin_end": 32561,
            "bin_start": 29304.899999999998,
            "count": 1
           }
          ],
          "max": "32561.0",
          "min": "0.0",
          "nan_count": 0,
          "unique_count": 5
         }
        },
        {
         "dtype": "float64",
         "name": "native-country_ China",
         "stats": {
          "histogram": [
           {
            "bin_end": 3256.1,
            "bin_start": 0,
            "count": 7
           },
           {
            "bin_end": 6512.2,
            "bin_start": 3256.1,
            "count": 0
           },
           {
            "bin_end": 9768.3,
            "bin_start": 6512.2,
            "count": 0
           },
           {
            "bin_end": 13024.4,
            "bin_start": 9768.3,
            "count": 0
           },
           {
            "bin_end": 16280.5,
            "bin_start": 13024.4,
            "count": 0
           },
           {
            "bin_end": 19536.6,
            "bin_start": 16280.5,
            "count": 0
           },
           {
            "bin_end": 22792.7,
            "bin_start": 19536.6,
            "count": 0
           },
           {
            "bin_end": 26048.8,
            "bin_start": 22792.7,
            "count": 0
           },
           {
            "bin_end": 29304.899999999998,
            "bin_start": 26048.8,
            "count": 0
           },
           {
            "bin_end": 32561,
            "bin_start": 29304.899999999998,
            "count": 1
           }
          ],
          "max": "32561.0",
          "min": "0.0",
          "nan_count": 0,
          "unique_count": 5
         }
        },
        {
         "dtype": "float64",
         "name": "native-country_ Columbia",
         "stats": {
          "histogram": [
           {
            "bin_end": 3256.1,
            "bin_start": 0,
            "count": 7
           },
           {
            "bin_end": 6512.2,
            "bin_start": 3256.1,
            "count": 0
           },
           {
            "bin_end": 9768.3,
            "bin_start": 6512.2,
            "count": 0
           },
           {
            "bin_end": 13024.4,
            "bin_start": 9768.3,
            "count": 0
           },
           {
            "bin_end": 16280.5,
            "bin_start": 13024.4,
            "count": 0
           },
           {
            "bin_end": 19536.6,
            "bin_start": 16280.5,
            "count": 0
           },
           {
            "bin_end": 22792.7,
            "bin_start": 19536.6,
            "count": 0
           },
           {
            "bin_end": 26048.8,
            "bin_start": 22792.7,
            "count": 0
           },
           {
            "bin_end": 29304.899999999998,
            "bin_start": 26048.8,
            "count": 0
           },
           {
            "bin_end": 32561,
            "bin_start": 29304.899999999998,
            "count": 1
           }
          ],
          "max": "32561.0",
          "min": "0.0",
          "nan_count": 0,
          "unique_count": 5
         }
        },
        {
         "dtype": "float64",
         "name": "native-country_ Cuba",
         "stats": {
          "histogram": [
           {
            "bin_end": 3256.1,
            "bin_start": 0,
            "count": 7
           },
           {
            "bin_end": 6512.2,
            "bin_start": 3256.1,
            "count": 0
           },
           {
            "bin_end": 9768.3,
            "bin_start": 6512.2,
            "count": 0
           },
           {
            "bin_end": 13024.4,
            "bin_start": 9768.3,
            "count": 0
           },
           {
            "bin_end": 16280.5,
            "bin_start": 13024.4,
            "count": 0
           },
           {
            "bin_end": 19536.6,
            "bin_start": 16280.5,
            "count": 0
           },
           {
            "bin_end": 22792.7,
            "bin_start": 19536.6,
            "count": 0
           },
           {
            "bin_end": 26048.8,
            "bin_start": 22792.7,
            "count": 0
           },
           {
            "bin_end": 29304.899999999998,
            "bin_start": 26048.8,
            "count": 0
           },
           {
            "bin_end": 32561,
            "bin_start": 29304.899999999998,
            "count": 1
           }
          ],
          "max": "32561.0",
          "min": "0.0",
          "nan_count": 0,
          "unique_count": 5
         }
        },
        {
         "dtype": "float64",
         "name": "native-country_ Dominican-Republic",
         "stats": {
          "histogram": [
           {
            "bin_end": 3256.1,
            "bin_start": 0,
            "count": 7
           },
           {
            "bin_end": 6512.2,
            "bin_start": 3256.1,
            "count": 0
           },
           {
            "bin_end": 9768.3,
            "bin_start": 6512.2,
            "count": 0
           },
           {
            "bin_end": 13024.4,
            "bin_start": 9768.3,
            "count": 0
           },
           {
            "bin_end": 16280.5,
            "bin_start": 13024.4,
            "count": 0
           },
           {
            "bin_end": 19536.6,
            "bin_start": 16280.5,
            "count": 0
           },
           {
            "bin_end": 22792.7,
            "bin_start": 19536.6,
            "count": 0
           },
           {
            "bin_end": 26048.8,
            "bin_start": 22792.7,
            "count": 0
           },
           {
            "bin_end": 29304.899999999998,
            "bin_start": 26048.8,
            "count": 0
           },
           {
            "bin_end": 32561,
            "bin_start": 29304.899999999998,
            "count": 1
           }
          ],
          "max": "32561.0",
          "min": "0.0",
          "nan_count": 0,
          "unique_count": 5
         }
        },
        {
         "dtype": "float64",
         "name": "native-country_ Ecuador",
         "stats": {
          "histogram": [
           {
            "bin_end": 3256.1,
            "bin_start": 0,
            "count": 7
           },
           {
            "bin_end": 6512.2,
            "bin_start": 3256.1,
            "count": 0
           },
           {
            "bin_end": 9768.3,
            "bin_start": 6512.2,
            "count": 0
           },
           {
            "bin_end": 13024.4,
            "bin_start": 9768.3,
            "count": 0
           },
           {
            "bin_end": 16280.5,
            "bin_start": 13024.4,
            "count": 0
           },
           {
            "bin_end": 19536.6,
            "bin_start": 16280.5,
            "count": 0
           },
           {
            "bin_end": 22792.7,
            "bin_start": 19536.6,
            "count": 0
           },
           {
            "bin_end": 26048.8,
            "bin_start": 22792.7,
            "count": 0
           },
           {
            "bin_end": 29304.899999999998,
            "bin_start": 26048.8,
            "count": 0
           },
           {
            "bin_end": 32561,
            "bin_start": 29304.899999999998,
            "count": 1
           }
          ],
          "max": "32561.0",
          "min": "0.0",
          "nan_count": 0,
          "unique_count": 5
         }
        },
        {
         "dtype": "float64",
         "name": "native-country_ El-Salvador",
         "stats": {
          "histogram": [
           {
            "bin_end": 3256.1,
            "bin_start": 0,
            "count": 7
           },
           {
            "bin_end": 6512.2,
            "bin_start": 3256.1,
            "count": 0
           },
           {
            "bin_end": 9768.3,
            "bin_start": 6512.2,
            "count": 0
           },
           {
            "bin_end": 13024.4,
            "bin_start": 9768.3,
            "count": 0
           },
           {
            "bin_end": 16280.5,
            "bin_start": 13024.4,
            "count": 0
           },
           {
            "bin_end": 19536.6,
            "bin_start": 16280.5,
            "count": 0
           },
           {
            "bin_end": 22792.7,
            "bin_start": 19536.6,
            "count": 0
           },
           {
            "bin_end": 26048.8,
            "bin_start": 22792.7,
            "count": 0
           },
           {
            "bin_end": 29304.899999999998,
            "bin_start": 26048.8,
            "count": 0
           },
           {
            "bin_end": 32561,
            "bin_start": 29304.899999999998,
            "count": 1
           }
          ],
          "max": "32561.0",
          "min": "0.0",
          "nan_count": 0,
          "unique_count": 5
         }
        },
        {
         "dtype": "float64",
         "name": "native-country_ England",
         "stats": {
          "histogram": [
           {
            "bin_end": 3256.1,
            "bin_start": 0,
            "count": 7
           },
           {
            "bin_end": 6512.2,
            "bin_start": 3256.1,
            "count": 0
           },
           {
            "bin_end": 9768.3,
            "bin_start": 6512.2,
            "count": 0
           },
           {
            "bin_end": 13024.4,
            "bin_start": 9768.3,
            "count": 0
           },
           {
            "bin_end": 16280.5,
            "bin_start": 13024.4,
            "count": 0
           },
           {
            "bin_end": 19536.6,
            "bin_start": 16280.5,
            "count": 0
           },
           {
            "bin_end": 22792.7,
            "bin_start": 19536.6,
            "count": 0
           },
           {
            "bin_end": 26048.8,
            "bin_start": 22792.7,
            "count": 0
           },
           {
            "bin_end": 29304.899999999998,
            "bin_start": 26048.8,
            "count": 0
           },
           {
            "bin_end": 32561,
            "bin_start": 29304.899999999998,
            "count": 1
           }
          ],
          "max": "32561.0",
          "min": "0.0",
          "nan_count": 0,
          "unique_count": 5
         }
        },
        {
         "dtype": "float64",
         "name": "native-country_ France",
         "stats": {
          "histogram": [
           {
            "bin_end": 3256.1,
            "bin_start": 0,
            "count": 7
           },
           {
            "bin_end": 6512.2,
            "bin_start": 3256.1,
            "count": 0
           },
           {
            "bin_end": 9768.3,
            "bin_start": 6512.2,
            "count": 0
           },
           {
            "bin_end": 13024.4,
            "bin_start": 9768.3,
            "count": 0
           },
           {
            "bin_end": 16280.5,
            "bin_start": 13024.4,
            "count": 0
           },
           {
            "bin_end": 19536.6,
            "bin_start": 16280.5,
            "count": 0
           },
           {
            "bin_end": 22792.7,
            "bin_start": 19536.6,
            "count": 0
           },
           {
            "bin_end": 26048.8,
            "bin_start": 22792.7,
            "count": 0
           },
           {
            "bin_end": 29304.899999999998,
            "bin_start": 26048.8,
            "count": 0
           },
           {
            "bin_end": 32561,
            "bin_start": 29304.899999999998,
            "count": 1
           }
          ],
          "max": "32561.0",
          "min": "0.0",
          "nan_count": 0,
          "unique_count": 5
         }
        },
        {
         "dtype": "float64",
         "name": "native-country_ Germany",
         "stats": {
          "histogram": [
           {
            "bin_end": 3256.1,
            "bin_start": 0,
            "count": 7
           },
           {
            "bin_end": 6512.2,
            "bin_start": 3256.1,
            "count": 0
           },
           {
            "bin_end": 9768.3,
            "bin_start": 6512.2,
            "count": 0
           },
           {
            "bin_end": 13024.4,
            "bin_start": 9768.3,
            "count": 0
           },
           {
            "bin_end": 16280.5,
            "bin_start": 13024.4,
            "count": 0
           },
           {
            "bin_end": 19536.6,
            "bin_start": 16280.5,
            "count": 0
           },
           {
            "bin_end": 22792.7,
            "bin_start": 19536.6,
            "count": 0
           },
           {
            "bin_end": 26048.8,
            "bin_start": 22792.7,
            "count": 0
           },
           {
            "bin_end": 29304.899999999998,
            "bin_start": 26048.8,
            "count": 0
           },
           {
            "bin_end": 32561,
            "bin_start": 29304.899999999998,
            "count": 1
           }
          ],
          "max": "32561.0",
          "min": "0.0",
          "nan_count": 0,
          "unique_count": 5
         }
        },
        {
         "dtype": "float64",
         "name": "native-country_ Greece",
         "stats": {
          "histogram": [
           {
            "bin_end": 3256.1,
            "bin_start": 0,
            "count": 7
           },
           {
            "bin_end": 6512.2,
            "bin_start": 3256.1,
            "count": 0
           },
           {
            "bin_end": 9768.3,
            "bin_start": 6512.2,
            "count": 0
           },
           {
            "bin_end": 13024.4,
            "bin_start": 9768.3,
            "count": 0
           },
           {
            "bin_end": 16280.5,
            "bin_start": 13024.4,
            "count": 0
           },
           {
            "bin_end": 19536.6,
            "bin_start": 16280.5,
            "count": 0
           },
           {
            "bin_end": 22792.7,
            "bin_start": 19536.6,
            "count": 0
           },
           {
            "bin_end": 26048.8,
            "bin_start": 22792.7,
            "count": 0
           },
           {
            "bin_end": 29304.899999999998,
            "bin_start": 26048.8,
            "count": 0
           },
           {
            "bin_end": 32561,
            "bin_start": 29304.899999999998,
            "count": 1
           }
          ],
          "max": "32561.0",
          "min": "0.0",
          "nan_count": 0,
          "unique_count": 5
         }
        },
        {
         "dtype": "float64",
         "name": "native-country_ Guatemala",
         "stats": {
          "histogram": [
           {
            "bin_end": 3256.1,
            "bin_start": 0,
            "count": 7
           },
           {
            "bin_end": 6512.2,
            "bin_start": 3256.1,
            "count": 0
           },
           {
            "bin_end": 9768.3,
            "bin_start": 6512.2,
            "count": 0
           },
           {
            "bin_end": 13024.4,
            "bin_start": 9768.3,
            "count": 0
           },
           {
            "bin_end": 16280.5,
            "bin_start": 13024.4,
            "count": 0
           },
           {
            "bin_end": 19536.6,
            "bin_start": 16280.5,
            "count": 0
           },
           {
            "bin_end": 22792.7,
            "bin_start": 19536.6,
            "count": 0
           },
           {
            "bin_end": 26048.8,
            "bin_start": 22792.7,
            "count": 0
           },
           {
            "bin_end": 29304.899999999998,
            "bin_start": 26048.8,
            "count": 0
           },
           {
            "bin_end": 32561,
            "bin_start": 29304.899999999998,
            "count": 1
           }
          ],
          "max": "32561.0",
          "min": "0.0",
          "nan_count": 0,
          "unique_count": 5
         }
        },
        {
         "dtype": "float64",
         "name": "native-country_ Haiti",
         "stats": {
          "histogram": [
           {
            "bin_end": 3256.1,
            "bin_start": 0,
            "count": 7
           },
           {
            "bin_end": 6512.2,
            "bin_start": 3256.1,
            "count": 0
           },
           {
            "bin_end": 9768.3,
            "bin_start": 6512.2,
            "count": 0
           },
           {
            "bin_end": 13024.4,
            "bin_start": 9768.3,
            "count": 0
           },
           {
            "bin_end": 16280.5,
            "bin_start": 13024.4,
            "count": 0
           },
           {
            "bin_end": 19536.6,
            "bin_start": 16280.5,
            "count": 0
           },
           {
            "bin_end": 22792.7,
            "bin_start": 19536.6,
            "count": 0
           },
           {
            "bin_end": 26048.8,
            "bin_start": 22792.7,
            "count": 0
           },
           {
            "bin_end": 29304.899999999998,
            "bin_start": 26048.8,
            "count": 0
           },
           {
            "bin_end": 32561,
            "bin_start": 29304.899999999998,
            "count": 1
           }
          ],
          "max": "32561.0",
          "min": "0.0",
          "nan_count": 0,
          "unique_count": 5
         }
        },
        {
         "dtype": "float64",
         "name": "native-country_ Holand-Netherlands",
         "stats": {
          "histogram": [
           {
            "bin_end": 3256.1,
            "bin_start": 0,
            "count": 7
           },
           {
            "bin_end": 6512.2,
            "bin_start": 3256.1,
            "count": 0
           },
           {
            "bin_end": 9768.3,
            "bin_start": 6512.2,
            "count": 0
           },
           {
            "bin_end": 13024.4,
            "bin_start": 9768.3,
            "count": 0
           },
           {
            "bin_end": 16280.5,
            "bin_start": 13024.4,
            "count": 0
           },
           {
            "bin_end": 19536.6,
            "bin_start": 16280.5,
            "count": 0
           },
           {
            "bin_end": 22792.7,
            "bin_start": 19536.6,
            "count": 0
           },
           {
            "bin_end": 26048.8,
            "bin_start": 22792.7,
            "count": 0
           },
           {
            "bin_end": 29304.899999999998,
            "bin_start": 26048.8,
            "count": 0
           },
           {
            "bin_end": 32561,
            "bin_start": 29304.899999999998,
            "count": 1
           }
          ],
          "max": "32561.0",
          "min": "0.0",
          "nan_count": 0,
          "unique_count": 5
         }
        },
        {
         "dtype": "float64",
         "name": "native-country_ Honduras",
         "stats": {
          "histogram": [
           {
            "bin_end": 3256.1,
            "bin_start": 0,
            "count": 7
           },
           {
            "bin_end": 6512.2,
            "bin_start": 3256.1,
            "count": 0
           },
           {
            "bin_end": 9768.3,
            "bin_start": 6512.2,
            "count": 0
           },
           {
            "bin_end": 13024.4,
            "bin_start": 9768.3,
            "count": 0
           },
           {
            "bin_end": 16280.5,
            "bin_start": 13024.4,
            "count": 0
           },
           {
            "bin_end": 19536.6,
            "bin_start": 16280.5,
            "count": 0
           },
           {
            "bin_end": 22792.7,
            "bin_start": 19536.6,
            "count": 0
           },
           {
            "bin_end": 26048.8,
            "bin_start": 22792.7,
            "count": 0
           },
           {
            "bin_end": 29304.899999999998,
            "bin_start": 26048.8,
            "count": 0
           },
           {
            "bin_end": 32561,
            "bin_start": 29304.899999999998,
            "count": 1
           }
          ],
          "max": "32561.0",
          "min": "0.0",
          "nan_count": 0,
          "unique_count": 5
         }
        },
        {
         "dtype": "float64",
         "name": "native-country_ Hong",
         "stats": {
          "histogram": [
           {
            "bin_end": 3256.1,
            "bin_start": 0,
            "count": 7
           },
           {
            "bin_end": 6512.2,
            "bin_start": 3256.1,
            "count": 0
           },
           {
            "bin_end": 9768.3,
            "bin_start": 6512.2,
            "count": 0
           },
           {
            "bin_end": 13024.4,
            "bin_start": 9768.3,
            "count": 0
           },
           {
            "bin_end": 16280.5,
            "bin_start": 13024.4,
            "count": 0
           },
           {
            "bin_end": 19536.6,
            "bin_start": 16280.5,
            "count": 0
           },
           {
            "bin_end": 22792.7,
            "bin_start": 19536.6,
            "count": 0
           },
           {
            "bin_end": 26048.8,
            "bin_start": 22792.7,
            "count": 0
           },
           {
            "bin_end": 29304.899999999998,
            "bin_start": 26048.8,
            "count": 0
           },
           {
            "bin_end": 32561,
            "bin_start": 29304.899999999998,
            "count": 1
           }
          ],
          "max": "32561.0",
          "min": "0.0",
          "nan_count": 0,
          "unique_count": 5
         }
        },
        {
         "dtype": "float64",
         "name": "native-country_ Hungary",
         "stats": {
          "histogram": [
           {
            "bin_end": 3256.1,
            "bin_start": 0,
            "count": 7
           },
           {
            "bin_end": 6512.2,
            "bin_start": 3256.1,
            "count": 0
           },
           {
            "bin_end": 9768.3,
            "bin_start": 6512.2,
            "count": 0
           },
           {
            "bin_end": 13024.4,
            "bin_start": 9768.3,
            "count": 0
           },
           {
            "bin_end": 16280.5,
            "bin_start": 13024.4,
            "count": 0
           },
           {
            "bin_end": 19536.6,
            "bin_start": 16280.5,
            "count": 0
           },
           {
            "bin_end": 22792.7,
            "bin_start": 19536.6,
            "count": 0
           },
           {
            "bin_end": 26048.8,
            "bin_start": 22792.7,
            "count": 0
           },
           {
            "bin_end": 29304.899999999998,
            "bin_start": 26048.8,
            "count": 0
           },
           {
            "bin_end": 32561,
            "bin_start": 29304.899999999998,
            "count": 1
           }
          ],
          "max": "32561.0",
          "min": "0.0",
          "nan_count": 0,
          "unique_count": 5
         }
        },
        {
         "dtype": "float64",
         "name": "native-country_ India",
         "stats": {
          "histogram": [
           {
            "bin_end": 3256.1,
            "bin_start": 0,
            "count": 7
           },
           {
            "bin_end": 6512.2,
            "bin_start": 3256.1,
            "count": 0
           },
           {
            "bin_end": 9768.3,
            "bin_start": 6512.2,
            "count": 0
           },
           {
            "bin_end": 13024.4,
            "bin_start": 9768.3,
            "count": 0
           },
           {
            "bin_end": 16280.5,
            "bin_start": 13024.4,
            "count": 0
           },
           {
            "bin_end": 19536.6,
            "bin_start": 16280.5,
            "count": 0
           },
           {
            "bin_end": 22792.7,
            "bin_start": 19536.6,
            "count": 0
           },
           {
            "bin_end": 26048.8,
            "bin_start": 22792.7,
            "count": 0
           },
           {
            "bin_end": 29304.899999999998,
            "bin_start": 26048.8,
            "count": 0
           },
           {
            "bin_end": 32561,
            "bin_start": 29304.899999999998,
            "count": 1
           }
          ],
          "max": "32561.0",
          "min": "0.0",
          "nan_count": 0,
          "unique_count": 5
         }
        },
        {
         "dtype": "float64",
         "name": "native-country_ Iran",
         "stats": {
          "histogram": [
           {
            "bin_end": 3256.1,
            "bin_start": 0,
            "count": 7
           },
           {
            "bin_end": 6512.2,
            "bin_start": 3256.1,
            "count": 0
           },
           {
            "bin_end": 9768.3,
            "bin_start": 6512.2,
            "count": 0
           },
           {
            "bin_end": 13024.4,
            "bin_start": 9768.3,
            "count": 0
           },
           {
            "bin_end": 16280.5,
            "bin_start": 13024.4,
            "count": 0
           },
           {
            "bin_end": 19536.6,
            "bin_start": 16280.5,
            "count": 0
           },
           {
            "bin_end": 22792.7,
            "bin_start": 19536.6,
            "count": 0
           },
           {
            "bin_end": 26048.8,
            "bin_start": 22792.7,
            "count": 0
           },
           {
            "bin_end": 29304.899999999998,
            "bin_start": 26048.8,
            "count": 0
           },
           {
            "bin_end": 32561,
            "bin_start": 29304.899999999998,
            "count": 1
           }
          ],
          "max": "32561.0",
          "min": "0.0",
          "nan_count": 0,
          "unique_count": 5
         }
        },
        {
         "dtype": "float64",
         "name": "native-country_ Ireland",
         "stats": {
          "histogram": [
           {
            "bin_end": 3256.1,
            "bin_start": 0,
            "count": 7
           },
           {
            "bin_end": 6512.2,
            "bin_start": 3256.1,
            "count": 0
           },
           {
            "bin_end": 9768.3,
            "bin_start": 6512.2,
            "count": 0
           },
           {
            "bin_end": 13024.4,
            "bin_start": 9768.3,
            "count": 0
           },
           {
            "bin_end": 16280.5,
            "bin_start": 13024.4,
            "count": 0
           },
           {
            "bin_end": 19536.6,
            "bin_start": 16280.5,
            "count": 0
           },
           {
            "bin_end": 22792.7,
            "bin_start": 19536.6,
            "count": 0
           },
           {
            "bin_end": 26048.8,
            "bin_start": 22792.7,
            "count": 0
           },
           {
            "bin_end": 29304.899999999998,
            "bin_start": 26048.8,
            "count": 0
           },
           {
            "bin_end": 32561,
            "bin_start": 29304.899999999998,
            "count": 1
           }
          ],
          "max": "32561.0",
          "min": "0.0",
          "nan_count": 0,
          "unique_count": 5
         }
        },
        {
         "dtype": "float64",
         "name": "native-country_ Italy",
         "stats": {
          "histogram": [
           {
            "bin_end": 3256.1,
            "bin_start": 0,
            "count": 7
           },
           {
            "bin_end": 6512.2,
            "bin_start": 3256.1,
            "count": 0
           },
           {
            "bin_end": 9768.3,
            "bin_start": 6512.2,
            "count": 0
           },
           {
            "bin_end": 13024.4,
            "bin_start": 9768.3,
            "count": 0
           },
           {
            "bin_end": 16280.5,
            "bin_start": 13024.4,
            "count": 0
           },
           {
            "bin_end": 19536.6,
            "bin_start": 16280.5,
            "count": 0
           },
           {
            "bin_end": 22792.7,
            "bin_start": 19536.6,
            "count": 0
           },
           {
            "bin_end": 26048.8,
            "bin_start": 22792.7,
            "count": 0
           },
           {
            "bin_end": 29304.899999999998,
            "bin_start": 26048.8,
            "count": 0
           },
           {
            "bin_end": 32561,
            "bin_start": 29304.899999999998,
            "count": 1
           }
          ],
          "max": "32561.0",
          "min": "0.0",
          "nan_count": 0,
          "unique_count": 5
         }
        },
        {
         "dtype": "float64",
         "name": "native-country_ Jamaica",
         "stats": {
          "histogram": [
           {
            "bin_end": 3256.1,
            "bin_start": 0,
            "count": 7
           },
           {
            "bin_end": 6512.2,
            "bin_start": 3256.1,
            "count": 0
           },
           {
            "bin_end": 9768.3,
            "bin_start": 6512.2,
            "count": 0
           },
           {
            "bin_end": 13024.4,
            "bin_start": 9768.3,
            "count": 0
           },
           {
            "bin_end": 16280.5,
            "bin_start": 13024.4,
            "count": 0
           },
           {
            "bin_end": 19536.6,
            "bin_start": 16280.5,
            "count": 0
           },
           {
            "bin_end": 22792.7,
            "bin_start": 19536.6,
            "count": 0
           },
           {
            "bin_end": 26048.8,
            "bin_start": 22792.7,
            "count": 0
           },
           {
            "bin_end": 29304.899999999998,
            "bin_start": 26048.8,
            "count": 0
           },
           {
            "bin_end": 32561,
            "bin_start": 29304.899999999998,
            "count": 1
           }
          ],
          "max": "32561.0",
          "min": "0.0",
          "nan_count": 0,
          "unique_count": 5
         }
        },
        {
         "dtype": "float64",
         "name": "native-country_ Japan",
         "stats": {
          "histogram": [
           {
            "bin_end": 3256.1,
            "bin_start": 0,
            "count": 7
           },
           {
            "bin_end": 6512.2,
            "bin_start": 3256.1,
            "count": 0
           },
           {
            "bin_end": 9768.3,
            "bin_start": 6512.2,
            "count": 0
           },
           {
            "bin_end": 13024.4,
            "bin_start": 9768.3,
            "count": 0
           },
           {
            "bin_end": 16280.5,
            "bin_start": 13024.4,
            "count": 0
           },
           {
            "bin_end": 19536.6,
            "bin_start": 16280.5,
            "count": 0
           },
           {
            "bin_end": 22792.7,
            "bin_start": 19536.6,
            "count": 0
           },
           {
            "bin_end": 26048.8,
            "bin_start": 22792.7,
            "count": 0
           },
           {
            "bin_end": 29304.899999999998,
            "bin_start": 26048.8,
            "count": 0
           },
           {
            "bin_end": 32561,
            "bin_start": 29304.899999999998,
            "count": 1
           }
          ],
          "max": "32561.0",
          "min": "0.0",
          "nan_count": 0,
          "unique_count": 5
         }
        },
        {
         "dtype": "float64",
         "name": "native-country_ Laos",
         "stats": {
          "histogram": [
           {
            "bin_end": 3256.1,
            "bin_start": 0,
            "count": 7
           },
           {
            "bin_end": 6512.2,
            "bin_start": 3256.1,
            "count": 0
           },
           {
            "bin_end": 9768.3,
            "bin_start": 6512.2,
            "count": 0
           },
           {
            "bin_end": 13024.4,
            "bin_start": 9768.3,
            "count": 0
           },
           {
            "bin_end": 16280.5,
            "bin_start": 13024.4,
            "count": 0
           },
           {
            "bin_end": 19536.6,
            "bin_start": 16280.5,
            "count": 0
           },
           {
            "bin_end": 22792.7,
            "bin_start": 19536.6,
            "count": 0
           },
           {
            "bin_end": 26048.8,
            "bin_start": 22792.7,
            "count": 0
           },
           {
            "bin_end": 29304.899999999998,
            "bin_start": 26048.8,
            "count": 0
           },
           {
            "bin_end": 32561,
            "bin_start": 29304.899999999998,
            "count": 1
           }
          ],
          "max": "32561.0",
          "min": "0.0",
          "nan_count": 0,
          "unique_count": 5
         }
        },
        {
         "dtype": "float64",
         "name": "native-country_ Mexico",
         "stats": {
          "histogram": [
           {
            "bin_end": 3256.1,
            "bin_start": 0,
            "count": 7
           },
           {
            "bin_end": 6512.2,
            "bin_start": 3256.1,
            "count": 0
           },
           {
            "bin_end": 9768.3,
            "bin_start": 6512.2,
            "count": 0
           },
           {
            "bin_end": 13024.4,
            "bin_start": 9768.3,
            "count": 0
           },
           {
            "bin_end": 16280.5,
            "bin_start": 13024.4,
            "count": 0
           },
           {
            "bin_end": 19536.6,
            "bin_start": 16280.5,
            "count": 0
           },
           {
            "bin_end": 22792.7,
            "bin_start": 19536.6,
            "count": 0
           },
           {
            "bin_end": 26048.8,
            "bin_start": 22792.7,
            "count": 0
           },
           {
            "bin_end": 29304.899999999998,
            "bin_start": 26048.8,
            "count": 0
           },
           {
            "bin_end": 32561,
            "bin_start": 29304.899999999998,
            "count": 1
           }
          ],
          "max": "32561.0",
          "min": "0.0",
          "nan_count": 0,
          "unique_count": 5
         }
        },
        {
         "dtype": "float64",
         "name": "native-country_ Nicaragua",
         "stats": {
          "histogram": [
           {
            "bin_end": 3256.1,
            "bin_start": 0,
            "count": 7
           },
           {
            "bin_end": 6512.2,
            "bin_start": 3256.1,
            "count": 0
           },
           {
            "bin_end": 9768.3,
            "bin_start": 6512.2,
            "count": 0
           },
           {
            "bin_end": 13024.4,
            "bin_start": 9768.3,
            "count": 0
           },
           {
            "bin_end": 16280.5,
            "bin_start": 13024.4,
            "count": 0
           },
           {
            "bin_end": 19536.6,
            "bin_start": 16280.5,
            "count": 0
           },
           {
            "bin_end": 22792.7,
            "bin_start": 19536.6,
            "count": 0
           },
           {
            "bin_end": 26048.8,
            "bin_start": 22792.7,
            "count": 0
           },
           {
            "bin_end": 29304.899999999998,
            "bin_start": 26048.8,
            "count": 0
           },
           {
            "bin_end": 32561,
            "bin_start": 29304.899999999998,
            "count": 1
           }
          ],
          "max": "32561.0",
          "min": "0.0",
          "nan_count": 0,
          "unique_count": 5
         }
        },
        {
         "dtype": "float64",
         "name": "native-country_ Outlying-US(Guam-USVI-etc)",
         "stats": {
          "histogram": [
           {
            "bin_end": 3256.1,
            "bin_start": 0,
            "count": 7
           },
           {
            "bin_end": 6512.2,
            "bin_start": 3256.1,
            "count": 0
           },
           {
            "bin_end": 9768.3,
            "bin_start": 6512.2,
            "count": 0
           },
           {
            "bin_end": 13024.4,
            "bin_start": 9768.3,
            "count": 0
           },
           {
            "bin_end": 16280.5,
            "bin_start": 13024.4,
            "count": 0
           },
           {
            "bin_end": 19536.6,
            "bin_start": 16280.5,
            "count": 0
           },
           {
            "bin_end": 22792.7,
            "bin_start": 19536.6,
            "count": 0
           },
           {
            "bin_end": 26048.8,
            "bin_start": 22792.7,
            "count": 0
           },
           {
            "bin_end": 29304.899999999998,
            "bin_start": 26048.8,
            "count": 0
           },
           {
            "bin_end": 32561,
            "bin_start": 29304.899999999998,
            "count": 1
           }
          ],
          "max": "32561.0",
          "min": "0.0",
          "nan_count": 0,
          "unique_count": 5
         }
        },
        {
         "dtype": "float64",
         "name": "native-country_ Peru",
         "stats": {
          "histogram": [
           {
            "bin_end": 3256.1,
            "bin_start": 0,
            "count": 7
           },
           {
            "bin_end": 6512.2,
            "bin_start": 3256.1,
            "count": 0
           },
           {
            "bin_end": 9768.3,
            "bin_start": 6512.2,
            "count": 0
           },
           {
            "bin_end": 13024.4,
            "bin_start": 9768.3,
            "count": 0
           },
           {
            "bin_end": 16280.5,
            "bin_start": 13024.4,
            "count": 0
           },
           {
            "bin_end": 19536.6,
            "bin_start": 16280.5,
            "count": 0
           },
           {
            "bin_end": 22792.7,
            "bin_start": 19536.6,
            "count": 0
           },
           {
            "bin_end": 26048.8,
            "bin_start": 22792.7,
            "count": 0
           },
           {
            "bin_end": 29304.899999999998,
            "bin_start": 26048.8,
            "count": 0
           },
           {
            "bin_end": 32561,
            "bin_start": 29304.899999999998,
            "count": 1
           }
          ],
          "max": "32561.0",
          "min": "0.0",
          "nan_count": 0,
          "unique_count": 5
         }
        },
        {
         "dtype": "float64",
         "name": "native-country_ Philippines",
         "stats": {
          "histogram": [
           {
            "bin_end": 3256.1,
            "bin_start": 0,
            "count": 7
           },
           {
            "bin_end": 6512.2,
            "bin_start": 3256.1,
            "count": 0
           },
           {
            "bin_end": 9768.3,
            "bin_start": 6512.2,
            "count": 0
           },
           {
            "bin_end": 13024.4,
            "bin_start": 9768.3,
            "count": 0
           },
           {
            "bin_end": 16280.5,
            "bin_start": 13024.4,
            "count": 0
           },
           {
            "bin_end": 19536.6,
            "bin_start": 16280.5,
            "count": 0
           },
           {
            "bin_end": 22792.7,
            "bin_start": 19536.6,
            "count": 0
           },
           {
            "bin_end": 26048.8,
            "bin_start": 22792.7,
            "count": 0
           },
           {
            "bin_end": 29304.899999999998,
            "bin_start": 26048.8,
            "count": 0
           },
           {
            "bin_end": 32561,
            "bin_start": 29304.899999999998,
            "count": 1
           }
          ],
          "max": "32561.0",
          "min": "0.0",
          "nan_count": 0,
          "unique_count": 5
         }
        },
        {
         "dtype": "float64",
         "name": "native-country_ Poland",
         "stats": {
          "histogram": [
           {
            "bin_end": 3256.1,
            "bin_start": 0,
            "count": 7
           },
           {
            "bin_end": 6512.2,
            "bin_start": 3256.1,
            "count": 0
           },
           {
            "bin_end": 9768.3,
            "bin_start": 6512.2,
            "count": 0
           },
           {
            "bin_end": 13024.4,
            "bin_start": 9768.3,
            "count": 0
           },
           {
            "bin_end": 16280.5,
            "bin_start": 13024.4,
            "count": 0
           },
           {
            "bin_end": 19536.6,
            "bin_start": 16280.5,
            "count": 0
           },
           {
            "bin_end": 22792.7,
            "bin_start": 19536.6,
            "count": 0
           },
           {
            "bin_end": 26048.8,
            "bin_start": 22792.7,
            "count": 0
           },
           {
            "bin_end": 29304.899999999998,
            "bin_start": 26048.8,
            "count": 0
           },
           {
            "bin_end": 32561,
            "bin_start": 29304.899999999998,
            "count": 1
           }
          ],
          "max": "32561.0",
          "min": "0.0",
          "nan_count": 0,
          "unique_count": 5
         }
        },
        {
         "dtype": "float64",
         "name": "native-country_ Portugal",
         "stats": {
          "histogram": [
           {
            "bin_end": 3256.1,
            "bin_start": 0,
            "count": 7
           },
           {
            "bin_end": 6512.2,
            "bin_start": 3256.1,
            "count": 0
           },
           {
            "bin_end": 9768.3,
            "bin_start": 6512.2,
            "count": 0
           },
           {
            "bin_end": 13024.4,
            "bin_start": 9768.3,
            "count": 0
           },
           {
            "bin_end": 16280.5,
            "bin_start": 13024.4,
            "count": 0
           },
           {
            "bin_end": 19536.6,
            "bin_start": 16280.5,
            "count": 0
           },
           {
            "bin_end": 22792.7,
            "bin_start": 19536.6,
            "count": 0
           },
           {
            "bin_end": 26048.8,
            "bin_start": 22792.7,
            "count": 0
           },
           {
            "bin_end": 29304.899999999998,
            "bin_start": 26048.8,
            "count": 0
           },
           {
            "bin_end": 32561,
            "bin_start": 29304.899999999998,
            "count": 1
           }
          ],
          "max": "32561.0",
          "min": "0.0",
          "nan_count": 0,
          "unique_count": 5
         }
        },
        {
         "dtype": "float64",
         "name": "native-country_ Puerto-Rico",
         "stats": {
          "histogram": [
           {
            "bin_end": 3256.1,
            "bin_start": 0,
            "count": 7
           },
           {
            "bin_end": 6512.2,
            "bin_start": 3256.1,
            "count": 0
           },
           {
            "bin_end": 9768.3,
            "bin_start": 6512.2,
            "count": 0
           },
           {
            "bin_end": 13024.4,
            "bin_start": 9768.3,
            "count": 0
           },
           {
            "bin_end": 16280.5,
            "bin_start": 13024.4,
            "count": 0
           },
           {
            "bin_end": 19536.6,
            "bin_start": 16280.5,
            "count": 0
           },
           {
            "bin_end": 22792.7,
            "bin_start": 19536.6,
            "count": 0
           },
           {
            "bin_end": 26048.8,
            "bin_start": 22792.7,
            "count": 0
           },
           {
            "bin_end": 29304.899999999998,
            "bin_start": 26048.8,
            "count": 0
           },
           {
            "bin_end": 32561,
            "bin_start": 29304.899999999998,
            "count": 1
           }
          ],
          "max": "32561.0",
          "min": "0.0",
          "nan_count": 0,
          "unique_count": 5
         }
        },
        {
         "dtype": "float64",
         "name": "native-country_ Scotland",
         "stats": {
          "histogram": [
           {
            "bin_end": 3256.1,
            "bin_start": 0,
            "count": 7
           },
           {
            "bin_end": 6512.2,
            "bin_start": 3256.1,
            "count": 0
           },
           {
            "bin_end": 9768.3,
            "bin_start": 6512.2,
            "count": 0
           },
           {
            "bin_end": 13024.4,
            "bin_start": 9768.3,
            "count": 0
           },
           {
            "bin_end": 16280.5,
            "bin_start": 13024.4,
            "count": 0
           },
           {
            "bin_end": 19536.6,
            "bin_start": 16280.5,
            "count": 0
           },
           {
            "bin_end": 22792.7,
            "bin_start": 19536.6,
            "count": 0
           },
           {
            "bin_end": 26048.8,
            "bin_start": 22792.7,
            "count": 0
           },
           {
            "bin_end": 29304.899999999998,
            "bin_start": 26048.8,
            "count": 0
           },
           {
            "bin_end": 32561,
            "bin_start": 29304.899999999998,
            "count": 1
           }
          ],
          "max": "32561.0",
          "min": "0.0",
          "nan_count": 0,
          "unique_count": 5
         }
        },
        {
         "dtype": "float64",
         "name": "native-country_ South",
         "stats": {
          "histogram": [
           {
            "bin_end": 3256.1,
            "bin_start": 0,
            "count": 7
           },
           {
            "bin_end": 6512.2,
            "bin_start": 3256.1,
            "count": 0
           },
           {
            "bin_end": 9768.3,
            "bin_start": 6512.2,
            "count": 0
           },
           {
            "bin_end": 13024.4,
            "bin_start": 9768.3,
            "count": 0
           },
           {
            "bin_end": 16280.5,
            "bin_start": 13024.4,
            "count": 0
           },
           {
            "bin_end": 19536.6,
            "bin_start": 16280.5,
            "count": 0
           },
           {
            "bin_end": 22792.7,
            "bin_start": 19536.6,
            "count": 0
           },
           {
            "bin_end": 26048.8,
            "bin_start": 22792.7,
            "count": 0
           },
           {
            "bin_end": 29304.899999999998,
            "bin_start": 26048.8,
            "count": 0
           },
           {
            "bin_end": 32561,
            "bin_start": 29304.899999999998,
            "count": 1
           }
          ],
          "max": "32561.0",
          "min": "0.0",
          "nan_count": 0,
          "unique_count": 5
         }
        },
        {
         "dtype": "float64",
         "name": "native-country_ Taiwan",
         "stats": {
          "histogram": [
           {
            "bin_end": 3256.1,
            "bin_start": 0,
            "count": 7
           },
           {
            "bin_end": 6512.2,
            "bin_start": 3256.1,
            "count": 0
           },
           {
            "bin_end": 9768.3,
            "bin_start": 6512.2,
            "count": 0
           },
           {
            "bin_end": 13024.4,
            "bin_start": 9768.3,
            "count": 0
           },
           {
            "bin_end": 16280.5,
            "bin_start": 13024.4,
            "count": 0
           },
           {
            "bin_end": 19536.6,
            "bin_start": 16280.5,
            "count": 0
           },
           {
            "bin_end": 22792.7,
            "bin_start": 19536.6,
            "count": 0
           },
           {
            "bin_end": 26048.8,
            "bin_start": 22792.7,
            "count": 0
           },
           {
            "bin_end": 29304.899999999998,
            "bin_start": 26048.8,
            "count": 0
           },
           {
            "bin_end": 32561,
            "bin_start": 29304.899999999998,
            "count": 1
           }
          ],
          "max": "32561.0",
          "min": "0.0",
          "nan_count": 0,
          "unique_count": 5
         }
        },
        {
         "dtype": "float64",
         "name": "native-country_ Thailand",
         "stats": {
          "histogram": [
           {
            "bin_end": 3256.1,
            "bin_start": 0,
            "count": 7
           },
           {
            "bin_end": 6512.2,
            "bin_start": 3256.1,
            "count": 0
           },
           {
            "bin_end": 9768.3,
            "bin_start": 6512.2,
            "count": 0
           },
           {
            "bin_end": 13024.4,
            "bin_start": 9768.3,
            "count": 0
           },
           {
            "bin_end": 16280.5,
            "bin_start": 13024.4,
            "count": 0
           },
           {
            "bin_end": 19536.6,
            "bin_start": 16280.5,
            "count": 0
           },
           {
            "bin_end": 22792.7,
            "bin_start": 19536.6,
            "count": 0
           },
           {
            "bin_end": 26048.8,
            "bin_start": 22792.7,
            "count": 0
           },
           {
            "bin_end": 29304.899999999998,
            "bin_start": 26048.8,
            "count": 0
           },
           {
            "bin_end": 32561,
            "bin_start": 29304.899999999998,
            "count": 1
           }
          ],
          "max": "32561.0",
          "min": "0.0",
          "nan_count": 0,
          "unique_count": 5
         }
        },
        {
         "dtype": "float64",
         "name": "native-country_ Trinadad&Tobago",
         "stats": {
          "histogram": [
           {
            "bin_end": 3256.1,
            "bin_start": 0,
            "count": 7
           },
           {
            "bin_end": 6512.2,
            "bin_start": 3256.1,
            "count": 0
           },
           {
            "bin_end": 9768.3,
            "bin_start": 6512.2,
            "count": 0
           },
           {
            "bin_end": 13024.4,
            "bin_start": 9768.3,
            "count": 0
           },
           {
            "bin_end": 16280.5,
            "bin_start": 13024.4,
            "count": 0
           },
           {
            "bin_end": 19536.6,
            "bin_start": 16280.5,
            "count": 0
           },
           {
            "bin_end": 22792.7,
            "bin_start": 19536.6,
            "count": 0
           },
           {
            "bin_end": 26048.8,
            "bin_start": 22792.7,
            "count": 0
           },
           {
            "bin_end": 29304.899999999998,
            "bin_start": 26048.8,
            "count": 0
           },
           {
            "bin_end": 32561,
            "bin_start": 29304.899999999998,
            "count": 1
           }
          ],
          "max": "32561.0",
          "min": "0.0",
          "nan_count": 0,
          "unique_count": 5
         }
        },
        {
         "dtype": "float64",
         "name": "native-country_ United-States",
         "stats": {
          "histogram": [
           {
            "bin_end": 3256.1,
            "bin_start": 0,
            "count": 7
           },
           {
            "bin_end": 6512.2,
            "bin_start": 3256.1,
            "count": 0
           },
           {
            "bin_end": 9768.3,
            "bin_start": 6512.2,
            "count": 0
           },
           {
            "bin_end": 13024.4,
            "bin_start": 9768.3,
            "count": 0
           },
           {
            "bin_end": 16280.5,
            "bin_start": 13024.4,
            "count": 0
           },
           {
            "bin_end": 19536.6,
            "bin_start": 16280.5,
            "count": 0
           },
           {
            "bin_end": 22792.7,
            "bin_start": 19536.6,
            "count": 0
           },
           {
            "bin_end": 26048.8,
            "bin_start": 22792.7,
            "count": 0
           },
           {
            "bin_end": 29304.899999999998,
            "bin_start": 26048.8,
            "count": 0
           },
           {
            "bin_end": 32561,
            "bin_start": 29304.899999999998,
            "count": 1
           }
          ],
          "max": "32561.0",
          "min": "0.0",
          "nan_count": 0,
          "unique_count": 5
         }
        },
        {
         "dtype": "float64",
         "name": "native-country_ Vietnam",
         "stats": {
          "histogram": [
           {
            "bin_end": 3256.1,
            "bin_start": 0,
            "count": 7
           },
           {
            "bin_end": 6512.2,
            "bin_start": 3256.1,
            "count": 0
           },
           {
            "bin_end": 9768.3,
            "bin_start": 6512.2,
            "count": 0
           },
           {
            "bin_end": 13024.4,
            "bin_start": 9768.3,
            "count": 0
           },
           {
            "bin_end": 16280.5,
            "bin_start": 13024.4,
            "count": 0
           },
           {
            "bin_end": 19536.6,
            "bin_start": 16280.5,
            "count": 0
           },
           {
            "bin_end": 22792.7,
            "bin_start": 19536.6,
            "count": 0
           },
           {
            "bin_end": 26048.8,
            "bin_start": 22792.7,
            "count": 0
           },
           {
            "bin_end": 29304.899999999998,
            "bin_start": 26048.8,
            "count": 0
           },
           {
            "bin_end": 32561,
            "bin_start": 29304.899999999998,
            "count": 1
           }
          ],
          "max": "32561.0",
          "min": "0.0",
          "nan_count": 0,
          "unique_count": 5
         }
        },
        {
         "dtype": "float64",
         "name": "native-country_ Yugoslavia",
         "stats": {
          "histogram": [
           {
            "bin_end": 3256.1,
            "bin_start": 0,
            "count": 7
           },
           {
            "bin_end": 6512.2,
            "bin_start": 3256.1,
            "count": 0
           },
           {
            "bin_end": 9768.3,
            "bin_start": 6512.2,
            "count": 0
           },
           {
            "bin_end": 13024.4,
            "bin_start": 9768.3,
            "count": 0
           },
           {
            "bin_end": 16280.5,
            "bin_start": 13024.4,
            "count": 0
           },
           {
            "bin_end": 19536.6,
            "bin_start": 16280.5,
            "count": 0
           },
           {
            "bin_end": 22792.7,
            "bin_start": 19536.6,
            "count": 0
           },
           {
            "bin_end": 26048.8,
            "bin_start": 22792.7,
            "count": 0
           },
           {
            "bin_end": 29304.899999999998,
            "bin_start": 26048.8,
            "count": 0
           },
           {
            "bin_end": 32561,
            "bin_start": 29304.899999999998,
            "count": 1
           }
          ],
          "max": "32561.0",
          "min": "0.0",
          "nan_count": 0,
          "unique_count": 5
         }
        },
        {
         "dtype": "object",
         "name": "_deepnote_index_column"
        }
       ],
       "row_count": 8,
       "rows_bottom": null,
       "rows_top": [
        {
         "_deepnote_index_column": "count",
         "age": 32561,
         "capital-gain": 32561,
         "capital-loss": 32561,
         "education-num": 32561,
         "education_ 10th": 32561,
         "education_ 11th": 32561,
         "education_ 12th": 32561,
         "education_ 1st-4th": 32561,
         "education_ 5th-6th": 32561,
         "education_ 7th-8th": 32561,
         "education_ 9th": 32561,
         "education_ Assoc-acdm": 32561,
         "education_ Assoc-voc": 32561,
         "education_ Bachelors": 32561,
         "education_ Doctorate": 32561,
         "education_ HS-grad": 32561,
         "education_ Masters": 32561,
         "education_ Preschool": 32561,
         "education_ Prof-school": 32561,
         "education_ Some-college": 32561,
         "fnlwgt": 32561,
         "hours-per-week": 32561,
         "marital-status_ Divorced": 32561,
         "marital-status_ Married-AF-spouse": 32561,
         "marital-status_ Married-civ-spouse": 32561,
         "marital-status_ Married-spouse-absent": 32561,
         "marital-status_ Never-married": 32561,
         "marital-status_ Separated": 32561,
         "marital-status_ Widowed": 32561,
         "native-country_ ?": 32561,
         "native-country_ Cambodia": 32561,
         "native-country_ Canada": 32561,
         "native-country_ China": 32561,
         "native-country_ Columbia": 32561,
         "native-country_ Cuba": 32561,
         "native-country_ Dominican-Republic": 32561,
         "native-country_ Ecuador": 32561,
         "native-country_ El-Salvador": 32561,
         "native-country_ England": 32561,
         "native-country_ France": 32561,
         "native-country_ Germany": 32561,
         "native-country_ Greece": 32561,
         "native-country_ Guatemala": 32561,
         "native-country_ Haiti": 32561,
         "native-country_ Holand-Netherlands": 32561,
         "native-country_ Honduras": 32561,
         "native-country_ Hong": 32561,
         "native-country_ Hungary": 32561,
         "native-country_ India": 32561,
         "native-country_ Iran": 32561,
         "native-country_ Ireland": 32561,
         "native-country_ Italy": 32561,
         "native-country_ Jamaica": 32561,
         "native-country_ Japan": 32561,
         "native-country_ Laos": 32561,
         "native-country_ Mexico": 32561,
         "native-country_ Nicaragua": 32561,
         "native-country_ Outlying-US(Guam-USVI-etc)": 32561,
         "native-country_ Peru": 32561,
         "native-country_ Philippines": 32561,
         "native-country_ Poland": 32561,
         "native-country_ Portugal": 32561,
         "native-country_ Puerto-Rico": 32561,
         "native-country_ Scotland": 32561,
         "native-country_ South": 32561,
         "native-country_ Taiwan": 32561,
         "native-country_ Thailand": 32561,
         "native-country_ Trinadad&Tobago": 32561,
         "native-country_ United-States": 32561,
         "native-country_ Vietnam": 32561,
         "native-country_ Yugoslavia": 32561,
         "occupation_ ?": 32561,
         "occupation_ Adm-clerical": 32561,
         "occupation_ Armed-Forces": 32561,
         "occupation_ Craft-repair": 32561,
         "occupation_ Exec-managerial": 32561,
         "occupation_ Farming-fishing": 32561,
         "occupation_ Handlers-cleaners": 32561,
         "occupation_ Machine-op-inspct": 32561,
         "occupation_ Other-service": 32561,
         "occupation_ Priv-house-serv": 32561,
         "occupation_ Prof-specialty": 32561,
         "occupation_ Protective-serv": 32561,
         "occupation_ Sales": 32561,
         "occupation_ Tech-support": 32561,
         "occupation_ Transport-moving": 32561,
         "race_ Husband": 32561,
         "race_ Not-in-family": 32561,
         "race_ Other-relative": 32561,
         "race_ Own-child": 32561,
         "race_ Unmarried": 32561,
         "race_ Wife": 32561,
         "relationship_ Amer-Indian-Eskimo": 32561,
         "relationship_ Asian-Pac-Islander": 32561,
         "relationship_ Black": 32561,
         "relationship_ Other": 32561,
         "relationship_ White": 32561,
         "sex_ Female": 32561,
         "sex_ Male": 32561,
         "workclass_ ?": 32561,
         "workclass_ Federal-gov": 32561,
         "workclass_ Local-gov": 32561,
         "workclass_ Never-worked": 32561,
         "workclass_ Private": 32561,
         "workclass_ Self-emp-inc": 32561,
         "workclass_ Self-emp-not-inc": 32561,
         "workclass_ State-gov": 32561,
         "workclass_ Without-pay": 32561
        },
        {
         "_deepnote_index_column": "mean",
         "age": 38.58164675532078,
         "capital-gain": 1077.6488437087312,
         "capital-loss": 87.303829734959,
         "education-num": 10.0806793403151,
         "education_ 10th": 0.02865391112066583,
         "education_ 11th": 0.03608611529129941,
         "education_ 12th": 0.013298117379687356,
         "education_ 1st-4th": 0.005159546696968767,
         "education_ 5th-6th": 0.010226958631491662,
         "education_ 7th-8th": 0.019839685513344186,
         "education_ 9th": 0.01578575596572587,
         "education_ Assoc-acdm": 0.032769263843248055,
         "education_ Assoc-voc": 0.042443413900064494,
         "education_ Bachelors": 0.16446055096587942,
         "education_ Doctorate": 0.012683885630048217,
         "education_ HS-grad": 0.32250238014802984,
         "education_ Masters": 0.05291606523141181,
         "education_ Preschool": 0.001566290961579804,
         "education_ Prof-school": 0.0176898743896072,
         "education_ Some-college": 0.22391818433094807,
         "fnlwgt": 189778.36651208502,
         "hours-per-week": 40.437455852092995,
         "marital-status_ Divorced": 0.1364515831823347,
         "marital-status_ Married-AF-spouse": 0.0007063665120850096,
         "marital-status_ Married-civ-spouse": 0.4599367341297872,
         "marital-status_ Married-spouse-absent": 0.012837443567458001,
         "marital-status_ Never-married": 0.328091889069746,
         "marital-status_ Separated": 0.03147937716900587,
         "marital-status_ Widowed": 0.030496606369583245,
         "native-country_ ?": 0.0179048555019809,
         "native-country_ Cambodia": 0.0005835201621571819,
         "native-country_ Canada": 0.00371610208531679,
         "native-country_ China": 0.002303369061146771,
         "native-country_ Columbia": 0.0018119836614354597,
         "native-country_ Cuba": 0.0029176008107859096,
         "native-country_ Dominican-Republic": 0.002149811123736986,
         "native-country_ Ecuador": 0.0008599244494947943,
         "native-country_ El-Salvador": 0.003255428273087436,
         "native-country_ England": 0.002764042873376125,
         "native-country_ France": 0.0008906360369767513,
         "native-country_ Germany": 0.004207487485028101,
         "native-country_ Greece": 0.0008906360369767513,
         "native-country_ Guatemala": 0.001965541598845244,
         "native-country_ Haiti": 0.0013513098492061054,
         "native-country_ Holand-Netherlands": 3.071158748195694e-05,
         "native-country_ Honduras": 0.00039925063726544026,
         "native-country_ Hong": 0.0006142317496391389,
         "native-country_ Hungary": 0.00039925063726544026,
         "native-country_ India": 0.0030711587481956942,
         "native-country_ Iran": 0.0013205982617241485,
         "native-country_ Ireland": 0.0007370780995669666,
         "native-country_ Italy": 0.0022419458861828567,
         "native-country_ Jamaica": 0.0024876385860385123,
         "native-country_ Japan": 0.0019041184238813304,
         "native-country_ Laos": 0.000552808574675225,
         "native-country_ Mexico": 0.019747550750898315,
         "native-country_ Nicaragua": 0.001044193974386536,
         "native-country_ Outlying-US(Guam-USVI-etc)": 0.00042996222474739717,
         "native-country_ Peru": 0.0009520592119406652,
         "native-country_ Philippines": 0.006080894321427475,
         "native-country_ Poland": 0.0018426952489174165,
         "native-country_ Portugal": 0.001136328736832407,
         "native-country_ Puerto-Rico": 0.0035011209729430915,
         "native-country_ Scotland": 0.0003685390497834833,
         "native-country_ South": 0.0024569269985565555,
         "native-country_ Taiwan": 0.001566290961579804,
         "native-country_ Thailand": 0.000552808574675225,
         "native-country_ Trinadad&Tobago": 0.0005835201621571819,
         "native-country_ United-States": 0.895857006848684,
         "native-country_ Vietnam": 0.002057676361291115,
         "native-country_ Yugoslavia": 0.000491385399711311,
         "occupation_ ?": 0.056601455729246644,
         "occupation_ Adm-clerical": 0.11578268480697768,
         "occupation_ Armed-Forces": 0.0002764042873376125,
         "occupation_ Craft-repair": 0.1258867970885415,
         "occupation_ Exec-managerial": 0.12487331470163693,
         "occupation_ Farming-fishing": 0.0305273179570652,
         "occupation_ Handlers-cleaners": 0.04207487485028101,
         "occupation_ Machine-op-inspct": 0.0614845981388778,
         "occupation_ Other-service": 0.10119468075304812,
         "occupation_ Priv-house-serv": 0.004576026534811584,
         "occupation_ Prof-specialty": 0.12714597217530174,
         "occupation_ Protective-serv": 0.019931820275790057,
         "occupation_ Sales": 0.11209729430914284,
         "occupation_ Tech-support": 0.02850035318325604,
         "occupation_ Transport-moving": 0.04904640520868524,
         "race_ Husband": 0.40517797364945796,
         "race_ Not-in-family": 0.2550597340376524,
         "race_ Other-relative": 0.03012806731979976,
         "race_ Own-child": 0.1556463253585578,
         "race_ Unmarried": 0.10583213046282362,
         "race_ Wife": 0.04815576917170849,
         "relationship_ Amer-Indian-Eskimo": 0.009551303706888609,
         "relationship_ Asian-Pac-Islander": 0.03190933939375326,
         "relationship_ Black": 0.0959429992936335,
         "relationship_ Other": 0.008322840207610331,
         "relationship_ White": 0.8542735173981143,
         "sex_ Female": 0.33079450876815825,
         "sex_ Male": 0.6692054912318418,
         "workclass_ ?": 0.05638647461687295,
         "workclass_ Federal-gov": 0.029483123982678664,
         "workclass_ Local-gov": 0.06427935259973588,
         "workclass_ Never-worked": 0.00021498111237369858,
         "workclass_ Private": 0.6970301894904948,
         "workclass_ Self-emp-inc": 0.034274131629863945,
         "workclass_ Self-emp-not-inc": 0.0780381437916526,
         "workclass_ State-gov": 0.039863640551580114,
         "workclass_ Without-pay": 0.00042996222474739717
        },
        {
         "_deepnote_index_column": "std",
         "age": 13.640432553581341,
         "capital-gain": 7385.292084840338,
         "capital-loss": 402.9602186489998,
         "education-num": 2.5727203320673877,
         "education_ 10th": 0.16683440687058687,
         "education_ 11th": 0.1865073078362136,
         "education_ 12th": 0.11454990371659071,
         "education_ 1st-4th": 0.07164554012631263,
         "education_ 5th-6th": 0.10061152435073197,
         "education_ 7th-8th": 0.13945131634434782,
         "education_ 9th": 0.12464767563646344,
         "education_ Assoc-acdm": 0.17803486354523163,
         "education_ Assoc-voc": 0.20160163375910428,
         "education_ Bachelors": 0.37069866259726925,
         "education_ Doctorate": 0.11190795006851738,
         "education_ HS-grad": 0.4674412321017941,
         "education_ Masters": 0.22386936918580946,
         "education_ Preschool": 0.039545995038899835,
         "education_ Prof-school": 0.13182365653999478,
         "education_ Some-college": 0.41687428350111216,
         "fnlwgt": 105549.97769702224,
         "hours-per-week": 12.347428681731843,
         "marital-status_ Divorced": 0.3432727305877031,
         "marital-status_ Married-AF-spouse": 0.02656857612697154,
         "marital-status_ Married-civ-spouse": 0.4984000035763185,
         "marital-status_ Married-spouse-absent": 0.112574565595726,
         "marital-status_ Never-married": 0.46952568822176266,
         "marital-status_ Separated": 0.17461203383151083,
         "marital-status_ Widowed": 0.1719519451285954,
         "native-country_ ?": 0.13260773623328778,
         "native-country_ Cambodia": 0.024149483996577494,
         "native-country_ Canada": 0.060847402388151686,
         "native-country_ China": 0.04793885826198145,
         "native-country_ Columbia": 0.042529471268897966,
         "native-country_ Cuba": 0.053936794136861164,
         "native-country_ Dominican-Republic": 0.0463169010196675,
         "native-country_ Ecuador": 0.02931230743529114,
         "native-country_ El-Salvador": 0.05696428808298558,
         "native-country_ England": 0.052502262774857866,
         "native-country_ France": 0.02983069113766642,
         "native-country_ Germany": 0.06472953895230224,
         "native-country_ Greece": 0.029830691137666416,
         "native-country_ Guatemala": 0.04429151716945134,
         "native-country_ Haiti": 0.0367358851392005,
         "native-country_ Holand-Netherlands": 0.005541803630764713,
         "native-country_ Honduras": 0.0199775747601137,
         "native-country_ Hong": 0.024776467101285973,
         "native-country_ Hungary": 0.0199775747601137,
         "native-country_ India": 0.055333721775381865,
         "native-country_ Iran": 0.03631659107498829,
         "native-country_ Ireland": 0.02713959167508321,
         "native-country_ Italy": 0.04729681031831978,
         "native-country_ Jamaica": 0.04981492198047169,
         "native-country_ Japan": 0.04359531082411653,
         "native-country_ Laos": 0.023505742832755812,
         "native-country_ Mexico": 0.13913367497001775,
         "native-country_ Nicaragua": 0.032297610897445116,
         "native-country_ Outlying-US(Guam-USVI-etc)": 0.020731390613824514,
         "native-country_ Peru": 0.03084123874793389,
         "native-country_ Philippines": 0.07774382721262824,
         "native-country_ Poland": 0.042887716337971074,
         "native-country_ Portugal": 0.03369083486214234,
         "native-country_ Puerto-Rico": 0.05906750609846147,
         "native-country_ Scotland": 0.01919412783503709,
         "native-country_ South": 0.04950722958649905,
         "native-country_ Taiwan": 0.039545995038899835,
         "native-country_ Thailand": 0.023505742832755812,
         "native-country_ Trinadad&Tobago": 0.024149483996577494,
         "native-country_ United-States": 0.30545064334986544,
         "native-country_ Vietnam": 0.04531561977612028,
         "native-country_ Yugoslavia": 0.022162107850419065,
         "occupation_ ?": 0.23108303900985075,
         "occupation_ Adm-clerical": 0.31996905938590786,
         "occupation_ Armed-Forces": 0.016623368333051548,
         "occupation_ Craft-repair": 0.3317268318859074,
         "occupation_ Exec-managerial": 0.3305802871338475,
         "occupation_ Farming-fishing": 0.17203578047914897,
         "occupation_ Handlers-cleaners": 0.2007630882713698,
         "occupation_ Machine-op-inspct": 0.24022076216241867,
         "occupation_ Other-service": 0.3015909660079385,
         "occupation_ Priv-house-serv": 0.06749241745706555,
         "occupation_ Prof-specialty": 0.333141535098351,
         "occupation_ Protective-serv": 0.13976817510266726,
         "occupation_ Sales": 0.3154909630745133,
         "occupation_ Tech-support": 0.1663999201405662,
         "occupation_ Transport-moving": 0.21596825647185497,
         "race_ Husband": 0.4909339928222905,
         "race_ Not-in-family": 0.43590148155535424,
         "race_ Other-relative": 0.1709422835660873,
         "race_ Own-child": 0.3625252860401801,
         "race_ Unmarried": 0.3076273671233237,
         "race_ Wife": 0.21409857269735133,
         "relationship_ Amer-Indian-Eskimo": 0.09726441716923732,
         "relationship_ Asian-Pac-Islander": 0.1757614354689118,
         "relationship_ Black": 0.2945175786295736,
         "relationship_ Other": 0.09085055875737677,
         "relationship_ White": 0.3528372121556319,
         "sex_ Female": 0.47050642987594976,
         "sex_ Male": 0.47050642987594976,
         "workclass_ ?": 0.23067005488360814,
         "workclass_ Federal-gov": 0.16915894356268277,
         "workclass_ Local-gov": 0.24525367420605762,
         "workclass_ Never-worked": 0.014660883216559641,
         "workclass_ Private": 0.45954933388491637,
         "workclass_ Self-emp-inc": 0.18193524149460094,
         "workclass_ Self-emp-not-inc": 0.2682357202466881,
         "workclass_ State-gov": 0.19564178035699478,
         "workclass_ Without-pay": 0.020731390613824514
        },
        {
         "_deepnote_index_column": "min",
         "age": 17,
         "capital-gain": 0,
         "capital-loss": 0,
         "education-num": 1,
         "education_ 10th": 0,
         "education_ 11th": 0,
         "education_ 12th": 0,
         "education_ 1st-4th": 0,
         "education_ 5th-6th": 0,
         "education_ 7th-8th": 0,
         "education_ 9th": 0,
         "education_ Assoc-acdm": 0,
         "education_ Assoc-voc": 0,
         "education_ Bachelors": 0,
         "education_ Doctorate": 0,
         "education_ HS-grad": 0,
         "education_ Masters": 0,
         "education_ Preschool": 0,
         "education_ Prof-school": 0,
         "education_ Some-college": 0,
         "fnlwgt": 12285,
         "hours-per-week": 1,
         "marital-status_ Divorced": 0,
         "marital-status_ Married-AF-spouse": 0,
         "marital-status_ Married-civ-spouse": 0,
         "marital-status_ Married-spouse-absent": 0,
         "marital-status_ Never-married": 0,
         "marital-status_ Separated": 0,
         "marital-status_ Widowed": 0,
         "native-country_ ?": 0,
         "native-country_ Cambodia": 0,
         "native-country_ Canada": 0,
         "native-country_ China": 0,
         "native-country_ Columbia": 0,
         "native-country_ Cuba": 0,
         "native-country_ Dominican-Republic": 0,
         "native-country_ Ecuador": 0,
         "native-country_ El-Salvador": 0,
         "native-country_ England": 0,
         "native-country_ France": 0,
         "native-country_ Germany": 0,
         "native-country_ Greece": 0,
         "native-country_ Guatemala": 0,
         "native-country_ Haiti": 0,
         "native-country_ Holand-Netherlands": 0,
         "native-country_ Honduras": 0,
         "native-country_ Hong": 0,
         "native-country_ Hungary": 0,
         "native-country_ India": 0,
         "native-country_ Iran": 0,
         "native-country_ Ireland": 0,
         "native-country_ Italy": 0,
         "native-country_ Jamaica": 0,
         "native-country_ Japan": 0,
         "native-country_ Laos": 0,
         "native-country_ Mexico": 0,
         "native-country_ Nicaragua": 0,
         "native-country_ Outlying-US(Guam-USVI-etc)": 0,
         "native-country_ Peru": 0,
         "native-country_ Philippines": 0,
         "native-country_ Poland": 0,
         "native-country_ Portugal": 0,
         "native-country_ Puerto-Rico": 0,
         "native-country_ Scotland": 0,
         "native-country_ South": 0,
         "native-country_ Taiwan": 0,
         "native-country_ Thailand": 0,
         "native-country_ Trinadad&Tobago": 0,
         "native-country_ United-States": 0,
         "native-country_ Vietnam": 0,
         "native-country_ Yugoslavia": 0,
         "occupation_ ?": 0,
         "occupation_ Adm-clerical": 0,
         "occupation_ Armed-Forces": 0,
         "occupation_ Craft-repair": 0,
         "occupation_ Exec-managerial": 0,
         "occupation_ Farming-fishing": 0,
         "occupation_ Handlers-cleaners": 0,
         "occupation_ Machine-op-inspct": 0,
         "occupation_ Other-service": 0,
         "occupation_ Priv-house-serv": 0,
         "occupation_ Prof-specialty": 0,
         "occupation_ Protective-serv": 0,
         "occupation_ Sales": 0,
         "occupation_ Tech-support": 0,
         "occupation_ Transport-moving": 0,
         "race_ Husband": 0,
         "race_ Not-in-family": 0,
         "race_ Other-relative": 0,
         "race_ Own-child": 0,
         "race_ Unmarried": 0,
         "race_ Wife": 0,
         "relationship_ Amer-Indian-Eskimo": 0,
         "relationship_ Asian-Pac-Islander": 0,
         "relationship_ Black": 0,
         "relationship_ Other": 0,
         "relationship_ White": 0,
         "sex_ Female": 0,
         "sex_ Male": 0,
         "workclass_ ?": 0,
         "workclass_ Federal-gov": 0,
         "workclass_ Local-gov": 0,
         "workclass_ Never-worked": 0,
         "workclass_ Private": 0,
         "workclass_ Self-emp-inc": 0,
         "workclass_ Self-emp-not-inc": 0,
         "workclass_ State-gov": 0,
         "workclass_ Without-pay": 0
        },
        {
         "_deepnote_index_column": "25%",
         "age": 28,
         "capital-gain": 0,
         "capital-loss": 0,
         "education-num": 9,
         "education_ 10th": 0,
         "education_ 11th": 0,
         "education_ 12th": 0,
         "education_ 1st-4th": 0,
         "education_ 5th-6th": 0,
         "education_ 7th-8th": 0,
         "education_ 9th": 0,
         "education_ Assoc-acdm": 0,
         "education_ Assoc-voc": 0,
         "education_ Bachelors": 0,
         "education_ Doctorate": 0,
         "education_ HS-grad": 0,
         "education_ Masters": 0,
         "education_ Preschool": 0,
         "education_ Prof-school": 0,
         "education_ Some-college": 0,
         "fnlwgt": 117827,
         "hours-per-week": 40,
         "marital-status_ Divorced": 0,
         "marital-status_ Married-AF-spouse": 0,
         "marital-status_ Married-civ-spouse": 0,
         "marital-status_ Married-spouse-absent": 0,
         "marital-status_ Never-married": 0,
         "marital-status_ Separated": 0,
         "marital-status_ Widowed": 0,
         "native-country_ ?": 0,
         "native-country_ Cambodia": 0,
         "native-country_ Canada": 0,
         "native-country_ China": 0,
         "native-country_ Columbia": 0,
         "native-country_ Cuba": 0,
         "native-country_ Dominican-Republic": 0,
         "native-country_ Ecuador": 0,
         "native-country_ El-Salvador": 0,
         "native-country_ England": 0,
         "native-country_ France": 0,
         "native-country_ Germany": 0,
         "native-country_ Greece": 0,
         "native-country_ Guatemala": 0,
         "native-country_ Haiti": 0,
         "native-country_ Holand-Netherlands": 0,
         "native-country_ Honduras": 0,
         "native-country_ Hong": 0,
         "native-country_ Hungary": 0,
         "native-country_ India": 0,
         "native-country_ Iran": 0,
         "native-country_ Ireland": 0,
         "native-country_ Italy": 0,
         "native-country_ Jamaica": 0,
         "native-country_ Japan": 0,
         "native-country_ Laos": 0,
         "native-country_ Mexico": 0,
         "native-country_ Nicaragua": 0,
         "native-country_ Outlying-US(Guam-USVI-etc)": 0,
         "native-country_ Peru": 0,
         "native-country_ Philippines": 0,
         "native-country_ Poland": 0,
         "native-country_ Portugal": 0,
         "native-country_ Puerto-Rico": 0,
         "native-country_ Scotland": 0,
         "native-country_ South": 0,
         "native-country_ Taiwan": 0,
         "native-country_ Thailand": 0,
         "native-country_ Trinadad&Tobago": 0,
         "native-country_ United-States": 1,
         "native-country_ Vietnam": 0,
         "native-country_ Yugoslavia": 0,
         "occupation_ ?": 0,
         "occupation_ Adm-clerical": 0,
         "occupation_ Armed-Forces": 0,
         "occupation_ Craft-repair": 0,
         "occupation_ Exec-managerial": 0,
         "occupation_ Farming-fishing": 0,
         "occupation_ Handlers-cleaners": 0,
         "occupation_ Machine-op-inspct": 0,
         "occupation_ Other-service": 0,
         "occupation_ Priv-house-serv": 0,
         "occupation_ Prof-specialty": 0,
         "occupation_ Protective-serv": 0,
         "occupation_ Sales": 0,
         "occupation_ Tech-support": 0,
         "occupation_ Transport-moving": 0,
         "race_ Husband": 0,
         "race_ Not-in-family": 0,
         "race_ Other-relative": 0,
         "race_ Own-child": 0,
         "race_ Unmarried": 0,
         "race_ Wife": 0,
         "relationship_ Amer-Indian-Eskimo": 0,
         "relationship_ Asian-Pac-Islander": 0,
         "relationship_ Black": 0,
         "relationship_ Other": 0,
         "relationship_ White": 1,
         "sex_ Female": 0,
         "sex_ Male": 0,
         "workclass_ ?": 0,
         "workclass_ Federal-gov": 0,
         "workclass_ Local-gov": 0,
         "workclass_ Never-worked": 0,
         "workclass_ Private": 0,
         "workclass_ Self-emp-inc": 0,
         "workclass_ Self-emp-not-inc": 0,
         "workclass_ State-gov": 0,
         "workclass_ Without-pay": 0
        },
        {
         "_deepnote_index_column": "50%",
         "age": 37,
         "capital-gain": 0,
         "capital-loss": 0,
         "education-num": 10,
         "education_ 10th": 0,
         "education_ 11th": 0,
         "education_ 12th": 0,
         "education_ 1st-4th": 0,
         "education_ 5th-6th": 0,
         "education_ 7th-8th": 0,
         "education_ 9th": 0,
         "education_ Assoc-acdm": 0,
         "education_ Assoc-voc": 0,
         "education_ Bachelors": 0,
         "education_ Doctorate": 0,
         "education_ HS-grad": 0,
         "education_ Masters": 0,
         "education_ Preschool": 0,
         "education_ Prof-school": 0,
         "education_ Some-college": 0,
         "fnlwgt": 178356,
         "hours-per-week": 40,
         "marital-status_ Divorced": 0,
         "marital-status_ Married-AF-spouse": 0,
         "marital-status_ Married-civ-spouse": 0,
         "marital-status_ Married-spouse-absent": 0,
         "marital-status_ Never-married": 0,
         "marital-status_ Separated": 0,
         "marital-status_ Widowed": 0,
         "native-country_ ?": 0,
         "native-country_ Cambodia": 0,
         "native-country_ Canada": 0,
         "native-country_ China": 0,
         "native-country_ Columbia": 0,
         "native-country_ Cuba": 0,
         "native-country_ Dominican-Republic": 0,
         "native-country_ Ecuador": 0,
         "native-country_ El-Salvador": 0,
         "native-country_ England": 0,
         "native-country_ France": 0,
         "native-country_ Germany": 0,
         "native-country_ Greece": 0,
         "native-country_ Guatemala": 0,
         "native-country_ Haiti": 0,
         "native-country_ Holand-Netherlands": 0,
         "native-country_ Honduras": 0,
         "native-country_ Hong": 0,
         "native-country_ Hungary": 0,
         "native-country_ India": 0,
         "native-country_ Iran": 0,
         "native-country_ Ireland": 0,
         "native-country_ Italy": 0,
         "native-country_ Jamaica": 0,
         "native-country_ Japan": 0,
         "native-country_ Laos": 0,
         "native-country_ Mexico": 0,
         "native-country_ Nicaragua": 0,
         "native-country_ Outlying-US(Guam-USVI-etc)": 0,
         "native-country_ Peru": 0,
         "native-country_ Philippines": 0,
         "native-country_ Poland": 0,
         "native-country_ Portugal": 0,
         "native-country_ Puerto-Rico": 0,
         "native-country_ Scotland": 0,
         "native-country_ South": 0,
         "native-country_ Taiwan": 0,
         "native-country_ Thailand": 0,
         "native-country_ Trinadad&Tobago": 0,
         "native-country_ United-States": 1,
         "native-country_ Vietnam": 0,
         "native-country_ Yugoslavia": 0,
         "occupation_ ?": 0,
         "occupation_ Adm-clerical": 0,
         "occupation_ Armed-Forces": 0,
         "occupation_ Craft-repair": 0,
         "occupation_ Exec-managerial": 0,
         "occupation_ Farming-fishing": 0,
         "occupation_ Handlers-cleaners": 0,
         "occupation_ Machine-op-inspct": 0,
         "occupation_ Other-service": 0,
         "occupation_ Priv-house-serv": 0,
         "occupation_ Prof-specialty": 0,
         "occupation_ Protective-serv": 0,
         "occupation_ Sales": 0,
         "occupation_ Tech-support": 0,
         "occupation_ Transport-moving": 0,
         "race_ Husband": 0,
         "race_ Not-in-family": 0,
         "race_ Other-relative": 0,
         "race_ Own-child": 0,
         "race_ Unmarried": 0,
         "race_ Wife": 0,
         "relationship_ Amer-Indian-Eskimo": 0,
         "relationship_ Asian-Pac-Islander": 0,
         "relationship_ Black": 0,
         "relationship_ Other": 0,
         "relationship_ White": 1,
         "sex_ Female": 0,
         "sex_ Male": 1,
         "workclass_ ?": 0,
         "workclass_ Federal-gov": 0,
         "workclass_ Local-gov": 0,
         "workclass_ Never-worked": 0,
         "workclass_ Private": 1,
         "workclass_ Self-emp-inc": 0,
         "workclass_ Self-emp-not-inc": 0,
         "workclass_ State-gov": 0,
         "workclass_ Without-pay": 0
        },
        {
         "_deepnote_index_column": "75%",
         "age": 48,
         "capital-gain": 0,
         "capital-loss": 0,
         "education-num": 12,
         "education_ 10th": 0,
         "education_ 11th": 0,
         "education_ 12th": 0,
         "education_ 1st-4th": 0,
         "education_ 5th-6th": 0,
         "education_ 7th-8th": 0,
         "education_ 9th": 0,
         "education_ Assoc-acdm": 0,
         "education_ Assoc-voc": 0,
         "education_ Bachelors": 0,
         "education_ Doctorate": 0,
         "education_ HS-grad": 1,
         "education_ Masters": 0,
         "education_ Preschool": 0,
         "education_ Prof-school": 0,
         "education_ Some-college": 0,
         "fnlwgt": 237051,
         "hours-per-week": 45,
         "marital-status_ Divorced": 0,
         "marital-status_ Married-AF-spouse": 0,
         "marital-status_ Married-civ-spouse": 1,
         "marital-status_ Married-spouse-absent": 0,
         "marital-status_ Never-married": 1,
         "marital-status_ Separated": 0,
         "marital-status_ Widowed": 0,
         "native-country_ ?": 0,
         "native-country_ Cambodia": 0,
         "native-country_ Canada": 0,
         "native-country_ China": 0,
         "native-country_ Columbia": 0,
         "native-country_ Cuba": 0,
         "native-country_ Dominican-Republic": 0,
         "native-country_ Ecuador": 0,
         "native-country_ El-Salvador": 0,
         "native-country_ England": 0,
         "native-country_ France": 0,
         "native-country_ Germany": 0,
         "native-country_ Greece": 0,
         "native-country_ Guatemala": 0,
         "native-country_ Haiti": 0,
         "native-country_ Holand-Netherlands": 0,
         "native-country_ Honduras": 0,
         "native-country_ Hong": 0,
         "native-country_ Hungary": 0,
         "native-country_ India": 0,
         "native-country_ Iran": 0,
         "native-country_ Ireland": 0,
         "native-country_ Italy": 0,
         "native-country_ Jamaica": 0,
         "native-country_ Japan": 0,
         "native-country_ Laos": 0,
         "native-country_ Mexico": 0,
         "native-country_ Nicaragua": 0,
         "native-country_ Outlying-US(Guam-USVI-etc)": 0,
         "native-country_ Peru": 0,
         "native-country_ Philippines": 0,
         "native-country_ Poland": 0,
         "native-country_ Portugal": 0,
         "native-country_ Puerto-Rico": 0,
         "native-country_ Scotland": 0,
         "native-country_ South": 0,
         "native-country_ Taiwan": 0,
         "native-country_ Thailand": 0,
         "native-country_ Trinadad&Tobago": 0,
         "native-country_ United-States": 1,
         "native-country_ Vietnam": 0,
         "native-country_ Yugoslavia": 0,
         "occupation_ ?": 0,
         "occupation_ Adm-clerical": 0,
         "occupation_ Armed-Forces": 0,
         "occupation_ Craft-repair": 0,
         "occupation_ Exec-managerial": 0,
         "occupation_ Farming-fishing": 0,
         "occupation_ Handlers-cleaners": 0,
         "occupation_ Machine-op-inspct": 0,
         "occupation_ Other-service": 0,
         "occupation_ Priv-house-serv": 0,
         "occupation_ Prof-specialty": 0,
         "occupation_ Protective-serv": 0,
         "occupation_ Sales": 0,
         "occupation_ Tech-support": 0,
         "occupation_ Transport-moving": 0,
         "race_ Husband": 1,
         "race_ Not-in-family": 1,
         "race_ Other-relative": 0,
         "race_ Own-child": 0,
         "race_ Unmarried": 0,
         "race_ Wife": 0,
         "relationship_ Amer-Indian-Eskimo": 0,
         "relationship_ Asian-Pac-Islander": 0,
         "relationship_ Black": 0,
         "relationship_ Other": 0,
         "relationship_ White": 1,
         "sex_ Female": 1,
         "sex_ Male": 1,
         "workclass_ ?": 0,
         "workclass_ Federal-gov": 0,
         "workclass_ Local-gov": 0,
         "workclass_ Never-worked": 0,
         "workclass_ Private": 1,
         "workclass_ Self-emp-inc": 0,
         "workclass_ Self-emp-not-inc": 0,
         "workclass_ State-gov": 0,
         "workclass_ Without-pay": 0
        },
        {
         "_deepnote_index_column": "max",
         "age": 90,
         "capital-gain": 99999,
         "capital-loss": 4356,
         "education-num": 16,
         "education_ 10th": 1,
         "education_ 11th": 1,
         "education_ 12th": 1,
         "education_ 1st-4th": 1,
         "education_ 5th-6th": 1,
         "education_ 7th-8th": 1,
         "education_ 9th": 1,
         "education_ Assoc-acdm": 1,
         "education_ Assoc-voc": 1,
         "education_ Bachelors": 1,
         "education_ Doctorate": 1,
         "education_ HS-grad": 1,
         "education_ Masters": 1,
         "education_ Preschool": 1,
         "education_ Prof-school": 1,
         "education_ Some-college": 1,
         "fnlwgt": 1484705,
         "hours-per-week": 99,
         "marital-status_ Divorced": 1,
         "marital-status_ Married-AF-spouse": 1,
         "marital-status_ Married-civ-spouse": 1,
         "marital-status_ Married-spouse-absent": 1,
         "marital-status_ Never-married": 1,
         "marital-status_ Separated": 1,
         "marital-status_ Widowed": 1,
         "native-country_ ?": 1,
         "native-country_ Cambodia": 1,
         "native-country_ Canada": 1,
         "native-country_ China": 1,
         "native-country_ Columbia": 1,
         "native-country_ Cuba": 1,
         "native-country_ Dominican-Republic": 1,
         "native-country_ Ecuador": 1,
         "native-country_ El-Salvador": 1,
         "native-country_ England": 1,
         "native-country_ France": 1,
         "native-country_ Germany": 1,
         "native-country_ Greece": 1,
         "native-country_ Guatemala": 1,
         "native-country_ Haiti": 1,
         "native-country_ Holand-Netherlands": 1,
         "native-country_ Honduras": 1,
         "native-country_ Hong": 1,
         "native-country_ Hungary": 1,
         "native-country_ India": 1,
         "native-country_ Iran": 1,
         "native-country_ Ireland": 1,
         "native-country_ Italy": 1,
         "native-country_ Jamaica": 1,
         "native-country_ Japan": 1,
         "native-country_ Laos": 1,
         "native-country_ Mexico": 1,
         "native-country_ Nicaragua": 1,
         "native-country_ Outlying-US(Guam-USVI-etc)": 1,
         "native-country_ Peru": 1,
         "native-country_ Philippines": 1,
         "native-country_ Poland": 1,
         "native-country_ Portugal": 1,
         "native-country_ Puerto-Rico": 1,
         "native-country_ Scotland": 1,
         "native-country_ South": 1,
         "native-country_ Taiwan": 1,
         "native-country_ Thailand": 1,
         "native-country_ Trinadad&Tobago": 1,
         "native-country_ United-States": 1,
         "native-country_ Vietnam": 1,
         "native-country_ Yugoslavia": 1,
         "occupation_ ?": 1,
         "occupation_ Adm-clerical": 1,
         "occupation_ Armed-Forces": 1,
         "occupation_ Craft-repair": 1,
         "occupation_ Exec-managerial": 1,
         "occupation_ Farming-fishing": 1,
         "occupation_ Handlers-cleaners": 1,
         "occupation_ Machine-op-inspct": 1,
         "occupation_ Other-service": 1,
         "occupation_ Priv-house-serv": 1,
         "occupation_ Prof-specialty": 1,
         "occupation_ Protective-serv": 1,
         "occupation_ Sales": 1,
         "occupation_ Tech-support": 1,
         "occupation_ Transport-moving": 1,
         "race_ Husband": 1,
         "race_ Not-in-family": 1,
         "race_ Other-relative": 1,
         "race_ Own-child": 1,
         "race_ Unmarried": 1,
         "race_ Wife": 1,
         "relationship_ Amer-Indian-Eskimo": 1,
         "relationship_ Asian-Pac-Islander": 1,
         "relationship_ Black": 1,
         "relationship_ Other": 1,
         "relationship_ White": 1,
         "sex_ Female": 1,
         "sex_ Male": 1,
         "workclass_ ?": 1,
         "workclass_ Federal-gov": 1,
         "workclass_ Local-gov": 1,
         "workclass_ Never-worked": 1,
         "workclass_ Private": 1,
         "workclass_ Self-emp-inc": 1,
         "workclass_ Self-emp-not-inc": 1,
         "workclass_ State-gov": 1,
         "workclass_ Without-pay": 1
        }
       ]
      },
      "text/html": [
       "<div>\n",
       "<style scoped>\n",
       "    .dataframe tbody tr th:only-of-type {\n",
       "        vertical-align: middle;\n",
       "    }\n",
       "\n",
       "    .dataframe tbody tr th {\n",
       "        vertical-align: top;\n",
       "    }\n",
       "\n",
       "    .dataframe thead th {\n",
       "        text-align: right;\n",
       "    }\n",
       "</style>\n",
       "<table border=\"1\" class=\"dataframe\">\n",
       "  <thead>\n",
       "    <tr style=\"text-align: right;\">\n",
       "      <th></th>\n",
       "      <th>age</th>\n",
       "      <th>fnlwgt</th>\n",
       "      <th>education-num</th>\n",
       "      <th>capital-gain</th>\n",
       "      <th>capital-loss</th>\n",
       "      <th>hours-per-week</th>\n",
       "      <th>workclass_ ?</th>\n",
       "      <th>workclass_ Federal-gov</th>\n",
       "      <th>workclass_ Local-gov</th>\n",
       "      <th>workclass_ Never-worked</th>\n",
       "      <th>...</th>\n",
       "      <th>native-country_ Portugal</th>\n",
       "      <th>native-country_ Puerto-Rico</th>\n",
       "      <th>native-country_ Scotland</th>\n",
       "      <th>native-country_ South</th>\n",
       "      <th>native-country_ Taiwan</th>\n",
       "      <th>native-country_ Thailand</th>\n",
       "      <th>native-country_ Trinadad&amp;Tobago</th>\n",
       "      <th>native-country_ United-States</th>\n",
       "      <th>native-country_ Vietnam</th>\n",
       "      <th>native-country_ Yugoslavia</th>\n",
       "    </tr>\n",
       "  </thead>\n",
       "  <tbody>\n",
       "    <tr>\n",
       "      <th>count</th>\n",
       "      <td>32561.000000</td>\n",
       "      <td>3.256100e+04</td>\n",
       "      <td>32561.000000</td>\n",
       "      <td>32561.000000</td>\n",
       "      <td>32561.000000</td>\n",
       "      <td>32561.000000</td>\n",
       "      <td>32561.000000</td>\n",
       "      <td>32561.000000</td>\n",
       "      <td>32561.000000</td>\n",
       "      <td>32561.000000</td>\n",
       "      <td>...</td>\n",
       "      <td>32561.000000</td>\n",
       "      <td>32561.000000</td>\n",
       "      <td>32561.000000</td>\n",
       "      <td>32561.000000</td>\n",
       "      <td>32561.000000</td>\n",
       "      <td>32561.000000</td>\n",
       "      <td>32561.000000</td>\n",
       "      <td>32561.000000</td>\n",
       "      <td>32561.000000</td>\n",
       "      <td>32561.000000</td>\n",
       "    </tr>\n",
       "    <tr>\n",
       "      <th>mean</th>\n",
       "      <td>38.581647</td>\n",
       "      <td>1.897784e+05</td>\n",
       "      <td>10.080679</td>\n",
       "      <td>1077.648844</td>\n",
       "      <td>87.303830</td>\n",
       "      <td>40.437456</td>\n",
       "      <td>0.056386</td>\n",
       "      <td>0.029483</td>\n",
       "      <td>0.064279</td>\n",
       "      <td>0.000215</td>\n",
       "      <td>...</td>\n",
       "      <td>0.001136</td>\n",
       "      <td>0.003501</td>\n",
       "      <td>0.000369</td>\n",
       "      <td>0.002457</td>\n",
       "      <td>0.001566</td>\n",
       "      <td>0.000553</td>\n",
       "      <td>0.000584</td>\n",
       "      <td>0.895857</td>\n",
       "      <td>0.002058</td>\n",
       "      <td>0.000491</td>\n",
       "    </tr>\n",
       "    <tr>\n",
       "      <th>std</th>\n",
       "      <td>13.640433</td>\n",
       "      <td>1.055500e+05</td>\n",
       "      <td>2.572720</td>\n",
       "      <td>7385.292085</td>\n",
       "      <td>402.960219</td>\n",
       "      <td>12.347429</td>\n",
       "      <td>0.230670</td>\n",
       "      <td>0.169159</td>\n",
       "      <td>0.245254</td>\n",
       "      <td>0.014661</td>\n",
       "      <td>...</td>\n",
       "      <td>0.033691</td>\n",
       "      <td>0.059068</td>\n",
       "      <td>0.019194</td>\n",
       "      <td>0.049507</td>\n",
       "      <td>0.039546</td>\n",
       "      <td>0.023506</td>\n",
       "      <td>0.024149</td>\n",
       "      <td>0.305451</td>\n",
       "      <td>0.045316</td>\n",
       "      <td>0.022162</td>\n",
       "    </tr>\n",
       "    <tr>\n",
       "      <th>min</th>\n",
       "      <td>17.000000</td>\n",
       "      <td>1.228500e+04</td>\n",
       "      <td>1.000000</td>\n",
       "      <td>0.000000</td>\n",
       "      <td>0.000000</td>\n",
       "      <td>1.000000</td>\n",
       "      <td>0.000000</td>\n",
       "      <td>0.000000</td>\n",
       "      <td>0.000000</td>\n",
       "      <td>0.000000</td>\n",
       "      <td>...</td>\n",
       "      <td>0.000000</td>\n",
       "      <td>0.000000</td>\n",
       "      <td>0.000000</td>\n",
       "      <td>0.000000</td>\n",
       "      <td>0.000000</td>\n",
       "      <td>0.000000</td>\n",
       "      <td>0.000000</td>\n",
       "      <td>0.000000</td>\n",
       "      <td>0.000000</td>\n",
       "      <td>0.000000</td>\n",
       "    </tr>\n",
       "    <tr>\n",
       "      <th>25%</th>\n",
       "      <td>28.000000</td>\n",
       "      <td>1.178270e+05</td>\n",
       "      <td>9.000000</td>\n",
       "      <td>0.000000</td>\n",
       "      <td>0.000000</td>\n",
       "      <td>40.000000</td>\n",
       "      <td>0.000000</td>\n",
       "      <td>0.000000</td>\n",
       "      <td>0.000000</td>\n",
       "      <td>0.000000</td>\n",
       "      <td>...</td>\n",
       "      <td>0.000000</td>\n",
       "      <td>0.000000</td>\n",
       "      <td>0.000000</td>\n",
       "      <td>0.000000</td>\n",
       "      <td>0.000000</td>\n",
       "      <td>0.000000</td>\n",
       "      <td>0.000000</td>\n",
       "      <td>1.000000</td>\n",
       "      <td>0.000000</td>\n",
       "      <td>0.000000</td>\n",
       "    </tr>\n",
       "    <tr>\n",
       "      <th>50%</th>\n",
       "      <td>37.000000</td>\n",
       "      <td>1.783560e+05</td>\n",
       "      <td>10.000000</td>\n",
       "      <td>0.000000</td>\n",
       "      <td>0.000000</td>\n",
       "      <td>40.000000</td>\n",
       "      <td>0.000000</td>\n",
       "      <td>0.000000</td>\n",
       "      <td>0.000000</td>\n",
       "      <td>0.000000</td>\n",
       "      <td>...</td>\n",
       "      <td>0.000000</td>\n",
       "      <td>0.000000</td>\n",
       "      <td>0.000000</td>\n",
       "      <td>0.000000</td>\n",
       "      <td>0.000000</td>\n",
       "      <td>0.000000</td>\n",
       "      <td>0.000000</td>\n",
       "      <td>1.000000</td>\n",
       "      <td>0.000000</td>\n",
       "      <td>0.000000</td>\n",
       "    </tr>\n",
       "    <tr>\n",
       "      <th>75%</th>\n",
       "      <td>48.000000</td>\n",
       "      <td>2.370510e+05</td>\n",
       "      <td>12.000000</td>\n",
       "      <td>0.000000</td>\n",
       "      <td>0.000000</td>\n",
       "      <td>45.000000</td>\n",
       "      <td>0.000000</td>\n",
       "      <td>0.000000</td>\n",
       "      <td>0.000000</td>\n",
       "      <td>0.000000</td>\n",
       "      <td>...</td>\n",
       "      <td>0.000000</td>\n",
       "      <td>0.000000</td>\n",
       "      <td>0.000000</td>\n",
       "      <td>0.000000</td>\n",
       "      <td>0.000000</td>\n",
       "      <td>0.000000</td>\n",
       "      <td>0.000000</td>\n",
       "      <td>1.000000</td>\n",
       "      <td>0.000000</td>\n",
       "      <td>0.000000</td>\n",
       "    </tr>\n",
       "    <tr>\n",
       "      <th>max</th>\n",
       "      <td>90.000000</td>\n",
       "      <td>1.484705e+06</td>\n",
       "      <td>16.000000</td>\n",
       "      <td>99999.000000</td>\n",
       "      <td>4356.000000</td>\n",
       "      <td>99.000000</td>\n",
       "      <td>1.000000</td>\n",
       "      <td>1.000000</td>\n",
       "      <td>1.000000</td>\n",
       "      <td>1.000000</td>\n",
       "      <td>...</td>\n",
       "      <td>1.000000</td>\n",
       "      <td>1.000000</td>\n",
       "      <td>1.000000</td>\n",
       "      <td>1.000000</td>\n",
       "      <td>1.000000</td>\n",
       "      <td>1.000000</td>\n",
       "      <td>1.000000</td>\n",
       "      <td>1.000000</td>\n",
       "      <td>1.000000</td>\n",
       "      <td>1.000000</td>\n",
       "    </tr>\n",
       "  </tbody>\n",
       "</table>\n",
       "<p>8 rows × 108 columns</p>\n",
       "</div>"
      ],
      "text/plain": [
       "                age        fnlwgt  education-num  capital-gain  capital-loss  \\\n",
       "count  32561.000000  3.256100e+04   32561.000000  32561.000000  32561.000000   \n",
       "mean      38.581647  1.897784e+05      10.080679   1077.648844     87.303830   \n",
       "std       13.640433  1.055500e+05       2.572720   7385.292085    402.960219   \n",
       "min       17.000000  1.228500e+04       1.000000      0.000000      0.000000   \n",
       "25%       28.000000  1.178270e+05       9.000000      0.000000      0.000000   \n",
       "50%       37.000000  1.783560e+05      10.000000      0.000000      0.000000   \n",
       "75%       48.000000  2.370510e+05      12.000000      0.000000      0.000000   \n",
       "max       90.000000  1.484705e+06      16.000000  99999.000000   4356.000000   \n",
       "\n",
       "       hours-per-week  workclass_ ?  workclass_ Federal-gov  \\\n",
       "count    32561.000000  32561.000000            32561.000000   \n",
       "mean        40.437456      0.056386                0.029483   \n",
       "std         12.347429      0.230670                0.169159   \n",
       "min          1.000000      0.000000                0.000000   \n",
       "25%         40.000000      0.000000                0.000000   \n",
       "50%         40.000000      0.000000                0.000000   \n",
       "75%         45.000000      0.000000                0.000000   \n",
       "max         99.000000      1.000000                1.000000   \n",
       "\n",
       "       workclass_ Local-gov  workclass_ Never-worked  ...  \\\n",
       "count          32561.000000             32561.000000  ...   \n",
       "mean               0.064279                 0.000215  ...   \n",
       "std                0.245254                 0.014661  ...   \n",
       "min                0.000000                 0.000000  ...   \n",
       "25%                0.000000                 0.000000  ...   \n",
       "50%                0.000000                 0.000000  ...   \n",
       "75%                0.000000                 0.000000  ...   \n",
       "max                1.000000                 1.000000  ...   \n",
       "\n",
       "       native-country_ Portugal  native-country_ Puerto-Rico  \\\n",
       "count              32561.000000                 32561.000000   \n",
       "mean                   0.001136                     0.003501   \n",
       "std                    0.033691                     0.059068   \n",
       "min                    0.000000                     0.000000   \n",
       "25%                    0.000000                     0.000000   \n",
       "50%                    0.000000                     0.000000   \n",
       "75%                    0.000000                     0.000000   \n",
       "max                    1.000000                     1.000000   \n",
       "\n",
       "       native-country_ Scotland  native-country_ South  \\\n",
       "count              32561.000000           32561.000000   \n",
       "mean                   0.000369               0.002457   \n",
       "std                    0.019194               0.049507   \n",
       "min                    0.000000               0.000000   \n",
       "25%                    0.000000               0.000000   \n",
       "50%                    0.000000               0.000000   \n",
       "75%                    0.000000               0.000000   \n",
       "max                    1.000000               1.000000   \n",
       "\n",
       "       native-country_ Taiwan  native-country_ Thailand  \\\n",
       "count            32561.000000              32561.000000   \n",
       "mean                 0.001566                  0.000553   \n",
       "std                  0.039546                  0.023506   \n",
       "min                  0.000000                  0.000000   \n",
       "25%                  0.000000                  0.000000   \n",
       "50%                  0.000000                  0.000000   \n",
       "75%                  0.000000                  0.000000   \n",
       "max                  1.000000                  1.000000   \n",
       "\n",
       "       native-country_ Trinadad&Tobago  native-country_ United-States  \\\n",
       "count                     32561.000000                   32561.000000   \n",
       "mean                          0.000584                       0.895857   \n",
       "std                           0.024149                       0.305451   \n",
       "min                           0.000000                       0.000000   \n",
       "25%                           0.000000                       1.000000   \n",
       "50%                           0.000000                       1.000000   \n",
       "75%                           0.000000                       1.000000   \n",
       "max                           1.000000                       1.000000   \n",
       "\n",
       "       native-country_ Vietnam  native-country_ Yugoslavia  \n",
       "count             32561.000000                32561.000000  \n",
       "mean                  0.002058                    0.000491  \n",
       "std                   0.045316                    0.022162  \n",
       "min                   0.000000                    0.000000  \n",
       "25%                   0.000000                    0.000000  \n",
       "50%                   0.000000                    0.000000  \n",
       "75%                   0.000000                    0.000000  \n",
       "max                   1.000000                    1.000000  \n",
       "\n",
       "[8 rows x 108 columns]"
      ]
     },
     "execution_count": 13,
     "metadata": {},
     "output_type": "execute_result"
    }
   ],
   "source": [
    "data.describe()"
   ]
  },
  {
   "cell_type": "code",
   "execution_count": 14,
   "metadata": {
    "cell_id": "00034-a6b790be-a39f-4dab-ac59-7f55885dc68b",
    "deepnote_cell_type": "code",
    "deepnote_to_be_reexecuted": false,
    "execution_millis": 103,
    "execution_start": 1620123940019,
    "id": "nqSifVN3Bi1Q",
    "source_hash": "3a761413"
   },
   "outputs": [],
   "source": [
    "## How to use Keras and Tensorflow in classifing adult income data in Python\n",
    "EPOCHS = 200\n",
    "REPORTSTEP = 50\n",
    "DOTS = 1\n",
    "\n",
    "# Split Train and Test Datasets\n",
    "X_train, X_test, y_train, y_test = train_test_split(data, labels, test_size=0.33)  \n",
    "\n",
    "# normalize the dataset i.e. X_train and X_test\n",
    "scaler = MinMaxScaler(feature_range=(0, 1))\n",
    "X_train = scaler.fit_transform(X_train)    \n",
    "X_test = scaler.fit_transform(X_test)       "
   ]
  },
  {
   "cell_type": "code",
   "execution_count": 15,
   "metadata": {
    "cell_id": "00035-b7e22b1a-07da-4bcc-8f6f-8c498d5aea2e",
    "deepnote_cell_type": "code",
    "deepnote_to_be_reexecuted": false,
    "execution_millis": 68,
    "execution_start": 1620123940128,
    "output_cleared": true,
    "source_hash": "31ca5fde",
    "tags": []
   },
   "outputs": [],
   "source": [
    "# Define a Deep Learning Model\n",
    "model = Sequential([layers.Dense(32, activation='tanh', input_shape=[len(data.keys())]),\n",
    "                        layers.Dropout(rate=.1),\n",
    "                        layers.Dense(64, activation='tanh'),\n",
    "                        layers.Dropout(rate=.1),\n",
    "                        layers.Dense(16, activation='tanh'),\n",
    "                        layers.Dropout(rate=.1),\n",
    "                        layers.Dense(1, activation='sigmoid')\n",
    "                        ])\n",
    "optimizer = tf.keras.optimizers.Adam(0.01)\n"
   ]
  },
  {
   "cell_type": "code",
   "execution_count": 16,
   "metadata": {
    "cell_id": "00015-6f324402-9a6f-475c-adfb-ac56adfca2a9",
    "deepnote_cell_type": "code",
    "deepnote_to_be_reexecuted": false,
    "execution_millis": 15,
    "execution_start": 1620123940197,
    "source_hash": "37c78812",
    "tags": []
   },
   "outputs": [],
   "source": [
    "# Compile the Model\n",
    "model.compile(loss='binary_crossentropy', optimizer=optimizer, metrics=['accuracy'])"
   ]
  },
  {
   "cell_type": "code",
   "execution_count": 17,
   "metadata": {
    "cell_id": "00016-7747c198-2182-40f8-a348-26fe4ed4fa1a",
    "deepnote_cell_type": "code",
    "deepnote_to_be_reexecuted": false,
    "execution_millis": 70573,
    "execution_start": 1620123940217,
    "source_hash": "bc8a4197",
    "tags": []
   },
   "outputs": [
    {
     "name": "stdout",
     "output_type": "stream",
     "text": [
      "\n",
      "Epoch: 0, accuracy:0.8272,  loss:0.3769,  \n",
      "..................................................\n",
      "Epoch: 50, accuracy:0.8574,  loss:0.3077,  \n",
      "..................................................\n",
      "Epoch: 100, accuracy:0.8636,  loss:0.2957,  \n",
      "..................................................\n",
      "Epoch: 150, accuracy:0.8661,  loss:0.2903,  \n",
      ".................................................."
     ]
    },
    {
     "data": {
      "text/plain": [
       "<tensorflow.python.keras.callbacks.History at 0x7fbc58861a10>"
      ]
     },
     "execution_count": 17,
     "metadata": {},
     "output_type": "execute_result"
    }
   ],
   "source": [
    "# Train the Model\n",
    "model.fit(X_train, y_train, epochs=EPOCHS, batch_size=100, shuffle=True, verbose = 0,callbacks=[tfdocs.modeling. EpochDots (report_every=REPORTSTEP)])"
   ]
  },
  {
   "cell_type": "code",
   "execution_count": 19,
   "metadata": {
    "cell_id": "00017-2501ef66-fd4a-43d3-bcb1-438e8348627c",
    "deepnote_cell_type": "code",
    "deepnote_to_be_reexecuted": false,
    "execution_millis": 557,
    "execution_start": 1620124016259,
    "source_hash": "c605bb48",
    "tags": []
   },
   "outputs": [
    {
     "name": "stdout",
     "output_type": "stream",
     "text": [
      "336/336 [==============================] - 0s 871us/step - loss: 0.3352 - accuracy: 0.8449\n",
      "\n",
      "['loss', 'accuracy']\n",
      "[0.3352479636669159, 0.8448725342750549]\n",
      "\n",
      "accuracy: 84.49%\n",
      "\n",
      "Confusion Matrix:\n",
      " [[0.63832243 0.36167757]\n",
      " [0.0892353  0.9107647 ]]\n",
      "Model: \"sequential\"\n",
      "_________________________________________________________________\n",
      "Layer (type)                 Output Shape              Param #   \n",
      "=================================================================\n",
      "dense (Dense)                (None, 32)                3488      \n",
      "_________________________________________________________________\n",
      "dropout (Dropout)            (None, 32)                0         \n",
      "_________________________________________________________________\n",
      "dense_1 (Dense)              (None, 64)                2112      \n",
      "_________________________________________________________________\n",
      "dropout_1 (Dropout)          (None, 64)                0         \n",
      "_________________________________________________________________\n",
      "dense_2 (Dense)              (None, 16)                1040      \n",
      "_________________________________________________________________\n",
      "dropout_2 (Dropout)          (None, 16)                0         \n",
      "_________________________________________________________________\n",
      "dense_3 (Dense)              (None, 1)                 17        \n",
      "=================================================================\n",
      "Total params: 6,657\n",
      "Trainable params: 6,657\n",
      "Non-trainable params: 0\n",
      "_________________________________________________________________\n",
      "None\n"
     ]
    }
   ],
   "source": [
    "# Evaluate the model\n",
    "scores = model.evaluate(X_test, y_test)\n",
    "print(model.metrics_names); print(scores)\n",
    "print(\"\\n%s: %.2f%%\" % (model.metrics_names[1], scores[1]*100))\n",
    "\n",
    "# Confusion Matrix\n",
    "y_pred = model.predict(X_test); y_pred = (y_pred > 0.5)\n",
    "cm = confusion_matrix(y_test, y_pred)\n",
    "print(\"\\nConfusion Matrix:\\n\", cm.astype('float')/cm.sum(axis=1)[:, np.newaxis])\n",
    "\n",
    "# More on the Model\n",
    "print(model.summary())"
   ]
  },
  {
   "cell_type": "markdown",
   "metadata": {
    "created_in_deepnote_cell": true,
    "deepnote_cell_type": "markdown",
    "tags": []
   },
   "source": [
    "<a style='text-decoration:none;line-height:16px;display:flex;color:#5B5B62;padding:10px;justify-content:end;' href='https://deepnote.com?utm_source=created-in-deepnote-cell&projectId=93afa6b5-2b21-4975-b981-4546d071aaf0' target=\"_blank\">\n",
    "<img alt='Created in deepnote.com' style='display:inline;max-height:16px;margin:0px;margin-right:7.5px;' src='data:image/svg+xml;base64,PD94bWwgdmVyc2lvbj0iMS4wIiBlbmNvZGluZz0iVVRGLTgiPz4KPHN2ZyB3aWR0aD0iODBweCIgaGVpZ2h0PSI4MHB4IiB2aWV3Qm94PSIwIDAgODAgODAiIHZlcnNpb249IjEuMSIgeG1sbnM9Imh0dHA6Ly93d3cudzMub3JnLzIwMDAvc3ZnIiB4bWxuczp4bGluaz0iaHR0cDovL3d3dy53My5vcmcvMTk5OS94bGluayI+CiAgICA8IS0tIEdlbmVyYXRvcjogU2tldGNoIDU0LjEgKDc2NDkwKSAtIGh0dHBzOi8vc2tldGNoYXBwLmNvbSAtLT4KICAgIDx0aXRsZT5Hcm91cCAzPC90aXRsZT4KICAgIDxkZXNjPkNyZWF0ZWQgd2l0aCBTa2V0Y2guPC9kZXNjPgogICAgPGcgaWQ9IkxhbmRpbmciIHN0cm9rZT0ibm9uZSIgc3Ryb2tlLXdpZHRoPSIxIiBmaWxsPSJub25lIiBmaWxsLXJ1bGU9ImV2ZW5vZGQiPgogICAgICAgIDxnIGlkPSJBcnRib2FyZCIgdHJhbnNmb3JtPSJ0cmFuc2xhdGUoLTEyMzUuMDAwMDAwLCAtNzkuMDAwMDAwKSI+CiAgICAgICAgICAgIDxnIGlkPSJHcm91cC0zIiB0cmFuc2Zvcm09InRyYW5zbGF0ZSgxMjM1LjAwMDAwMCwgNzkuMDAwMDAwKSI+CiAgICAgICAgICAgICAgICA8cG9seWdvbiBpZD0iUGF0aC0yMCIgZmlsbD0iIzAyNjVCNCIgcG9pbnRzPSIyLjM3NjIzNzYyIDgwIDM4LjA0NzY2NjcgODAgNTcuODIxNzgyMiA3My44MDU3NTkyIDU3LjgyMTc4MjIgMzIuNzU5MjczOSAzOS4xNDAyMjc4IDMxLjY4MzE2ODMiPjwvcG9seWdvbj4KICAgICAgICAgICAgICAgIDxwYXRoIGQ9Ik0zNS4wMDc3MTgsODAgQzQyLjkwNjIwMDcsNzYuNDU0OTM1OCA0Ny41NjQ5MTY3LDcxLjU0MjI2NzEgNDguOTgzODY2LDY1LjI2MTk5MzkgQzUxLjExMjI4OTksNTUuODQxNTg0MiA0MS42NzcxNzk1LDQ5LjIxMjIyODQgMjUuNjIzOTg0Niw0OS4yMTIyMjg0IEMyNS40ODQ5Mjg5LDQ5LjEyNjg0NDggMjkuODI2MTI5Niw0My4yODM4MjQ4IDM4LjY0NzU4NjksMzEuNjgzMTY4MyBMNzIuODcxMjg3MSwzMi41NTQ0MjUgTDY1LjI4MDk3Myw2Ny42NzYzNDIxIEw1MS4xMTIyODk5LDc3LjM3NjE0NCBMMzUuMDA3NzE4LDgwIFoiIGlkPSJQYXRoLTIyIiBmaWxsPSIjMDAyODY4Ij48L3BhdGg+CiAgICAgICAgICAgICAgICA8cGF0aCBkPSJNMCwzNy43MzA0NDA1IEwyNy4xMTQ1MzcsMC4yNTcxMTE0MzYgQzYyLjM3MTUxMjMsLTEuOTkwNzE3MDEgODAsMTAuNTAwMzkyNyA4MCwzNy43MzA0NDA1IEM4MCw2NC45NjA0ODgyIDY0Ljc3NjUwMzgsNzkuMDUwMzQxNCAzNC4zMjk1MTEzLDgwIEM0Ny4wNTUzNDg5LDc3LjU2NzA4MDggNTMuNDE4MjY3Nyw3MC4zMTM2MTAzIDUzLjQxODI2NzcsNTguMjM5NTg4NSBDNTMuNDE4MjY3Nyw0MC4xMjg1NTU3IDM2LjMwMzk1NDQsMzcuNzMwNDQwNSAyNS4yMjc0MTcsMzcuNzMwNDQwNSBDMTcuODQzMDU4NiwzNy43MzA0NDA1IDkuNDMzOTE5NjYsMzcuNzMwNDQwNSAwLDM3LjczMDQ0MDUgWiIgaWQ9IlBhdGgtMTkiIGZpbGw9IiMzNzkzRUYiPjwvcGF0aD4KICAgICAgICAgICAgPC9nPgogICAgICAgIDwvZz4KICAgIDwvZz4KPC9zdmc+' > </img>\n",
    "Created in <span style='font-weight:600;margin-left:4px;'>Deepnote</span></a>"
   ]
  }
 ],
 "metadata": {
  "colab": {
   "authorship_tag": "ABX9TyPFCAjfOh6GIw4VdOIBSxt3",
   "collapsed_sections": [],
   "mount_file_id": "117KCMWy9gckO-T6XNiXcV45wa5QoRCnG",
   "name": "3_TF2_binClassifier.ipynb",
   "provenance": [
    {
     "file_id": "1MICioK8bdMFKCxOYW21cE2rEimNSSHRv",
     "timestamp": 1616145539002
    }
   ]
  },
  "deepnote": {
   "is_reactive": false
  },
  "deepnote_execution_queue": [],
  "deepnote_notebook_id": "833d64d8-5b47-494f-a2e6-7dc398e8018d",
  "kernelspec": {
   "display_name": "Python 3",
   "language": "python",
   "name": "python3"
  },
  "language_info": {
   "codemirror_mode": {
    "name": "ipython",
    "version": 3
   },
   "file_extension": ".py",
   "mimetype": "text/x-python",
   "name": "python",
   "nbconvert_exporter": "python",
   "pygments_lexer": "ipython3",
   "version": "3.7.8"
  }
 },
 "nbformat": 4,
 "nbformat_minor": 4
}
